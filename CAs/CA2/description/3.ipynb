{
 "cells": [
  {
   "cell_type": "code",
   "execution_count": null,
   "metadata": {},
   "outputs": [],
   "source": [
    "## you need these imports\n",
    "import pandas as pd\n",
    "import numpy as np\n",
    "import matplotlib.pyplot as plt\n",
    "import scipy.stats as stats\n",
    "from time import sleep\n",
    "from IPython import display\n",
    "\n",
    "t = 1000\n",
    "p = np.linspace(0,1,t)\n",
    "fy = stats.beta.pdf(p, a=1, b=1)\n",
    "\n",
    "def update(fy: np.array, n:bool) -> np.array:\n",
    "    p = np.linspace(0,1,t)\n",
    "    # calculate P(N = n| Y = p) which is a bernouli distribution\n",
    "    # calculate integral(0 -> 1) fy * pny\n",
    "    ## pny =\n",
    "    ## integral = \n",
    "    ## post =\n",
    "    return post\n",
    "\n",
    "plt.figure(figsize=(10,8))\n",
    "for i in range(100):\n",
    "    # replace 'df' with your dataframe's name, this is just a suggestion, you do not have to code exactly like this\n",
    "    n =  df[df['label'] == 8].iloc[i, df.columns.get_loc('pixel404')]\n",
    "    fy = update(fy, n)\n",
    "\n",
    "    # dynamic plot\n",
    "    # do not change this part\n",
    "    plt.plot(p, fy, 'r', label='1')\n",
    "    plt.ylim(-1, 10)\n",
    "    plt.xlim(0, 1)\n",
    "    plt.text(0.1,9,f'number of seen data : {i + 1}, p = {fy.argmax() / t :.2f}', color='purple')\n",
    "    display.clear_output(wait=True)\n",
    "    display.display(plt.gcf())\n",
    "    plt.clf()\n",
    "    sleep(0.05)"
   ]
  }
 ],
 "metadata": {
  "language_info": {
   "name": "python"
  }
 },
 "nbformat": 4,
 "nbformat_minor": 2
}
