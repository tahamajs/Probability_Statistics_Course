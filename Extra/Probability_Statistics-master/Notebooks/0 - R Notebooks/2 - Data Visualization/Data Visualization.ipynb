{
 "cells": [
  {
   "cell_type": "markdown",
   "metadata": {},
   "source": [
    "<div style=\"direction:rtl;line-height:300%;\">\n",
    "\t<font face=\"XB Zar\" size=5>\n",
    "\t\t<div align=center>\n",
    "\t\t\t<font face=\"IranNastaliq\" size=30>\n",
    "\t\t\t\t<p></p>\n",
    "\t\t\t\t<p></p>\n",
    "به نام خدا\n",
    "\t\t\t\t<p></p>\n",
    "\t\t\t</font>\n",
    "\t\t\t<font color=#FF7500>\n",
    "دانشگاه صنعتی شریف - دانشکده مهندسی کامپیوتر\n",
    "            </font>\n",
    "\t\t\t<p></p>\n",
    "\t\t\t<font color=blue>\n",
    "آمار و احتمال مهندسی\n",
    "            </font>\n",
    "\t\t\t<br />\n",
    "\t\t\t<br />\n",
    "پاییز ۱۳۹۸\n",
    "\t\t</div>\n",
    "\t\t<hr/>\n",
    "\t\t<font color=red size=6>\n",
    "\t\t\t<br />\n",
    "\t\t\t<div align=center>\n",
    "تجسم‌سازی داده (Data Visualization)\n",
    "            </div>\n",
    "\t\t</font>\n",
    "\t\t<br />\n",
    "\t\t<div align=center>\n",
    "متین خواجوی ، علی شریفی زارچی\n",
    "        </div>\n",
    "\t\t<hr />\n",
    "\t\t<style type=\"text/css\" scoped>\n",
    "        p{\n",
    "        border: 1px solid #a2a9b1;background-color: #f8f9fa;display: inline-block;\n",
    "        };\n",
    "        </style>\n",
    "\t\t<div>\n",
    "\t\t\t<h3>فهرست مطالب</h3>\n",
    "\t\t\t<ul style=\"margin-right: 0;\">\n",
    "\t\t\t\t<li>\n",
    "                    <a href=\"#sec_intro\">\n",
    "                        مقدمه\n",
    "                    </a>\n",
    "                </li>\n",
    "                <li>\n",
    "\t\t\t\t\t<a href=\"#sec_whyGGPlot\">\n",
    "                        چرا ggplot2 ؟\n",
    "                    </a>\n",
    "\t\t\t\t</li>\n",
    "                <li>\n",
    "\t\t\t\t\t<a href=\"#sec_gog\">\n",
    "                        Grammar of Graphics چیست ؟\n",
    "                    </a>\n",
    "\t\t\t\t</li>\n",
    "                <li>\n",
    "\t\t\t\t\t<a href=\"#sec_installGG\">\n",
    "                        نصب و فراخوانی ggplot2\n",
    "                    </a>\n",
    "\t\t\t\t</li>\n",
    "                <li>\n",
    "\t\t\t\t\t<a href=\"#sec_ggIntro\">\n",
    "                        آشنایی با ggplot2 \n",
    "                    </a>\n",
    "\t\t\t\t</li>\n",
    "                <li>\n",
    "\t\t\t\t\t<a href=\"#sec_aes\">\n",
    "                       Aesthetics\n",
    "                    </a>\n",
    "\t\t\t\t</li>\n",
    "                <li>\n",
    "\t\t\t\t\t<a href=\"#sec_GO\">\n",
    "                        Geometric Objects \n",
    "                    </a>\n",
    "\t\t\t\t</li>\n",
    "                <li>\n",
    "\t\t\t\t\t<a href=\"#sec_t1\">\n",
    "                         تمرین 1\n",
    "                    </a>\n",
    "\t\t\t\t</li>\n",
    "                <li>\n",
    "\t\t\t\t\t<a href=\"#sec_ST\">\n",
    "                         تبدیل‌های آماری (Statistical Transformations)\n",
    "                    </a>\n",
    "\t\t\t\t</li>\n",
    "                <li>\n",
    "\t\t\t\t\t<a href=\"#sec_t2\">\n",
    "                         تمرین 2\n",
    "                    </a>\n",
    "\t\t\t\t</li>\n",
    "                <li>\n",
    "\t\t\t\t\t<a href=\"#sec_appearance\">\n",
    "                         ظاهر نمودارها\n",
    "                    </a>\n",
    "\t\t\t\t</li>\n",
    "                <li>\n",
    "\t\t\t\t\t<a href=\"#sec_additional\">\n",
    "                         نکات تکمیلی\n",
    "                    </a>\n",
    "\t\t\t\t</li>\n",
    "                <li>\n",
    "\t\t\t\t\t<a href=\"#sec_ans\">\n",
    "                        پاسخ تمارین\n",
    "                    </a>\n",
    "\t\t\t\t</li>\n",
    "\t\t\t</ul>\n",
    "\t\t</div>\n",
    "\t</font>\n",
    "</div>"
   ]
  },
  {
   "cell_type": "markdown",
   "metadata": {},
   "source": [
    "\n",
    "<div id=\"sec_intro\" style=\"direction:rtl;line-height:300%;\">\n",
    "\t<font face=\"XB Zar\" size=5>\n",
    "\t\t<font color=#FF7500 size=6>\n",
    "مقدمه\n",
    "        </font>\n",
    "\t\t<p></p>\n",
    "\t\t<hr>\n",
    "تجسم‌سازی (Visualization) یکی از اساسی‌ترین کار‌های انسان است.\n",
    "یک تجسم‌سازی خوب ، اطلاعاتی را به شما نشان می‌دهد که انتظار نداشتید و یا سوالاتی را برایتان بوجود می‌آورد که شما را به تحلیل بهتر داده نزدیک می‌کند.\n",
    "<br><br>\n",
    "تجسم‌سازی داده (Data Visualization) باعث می‌شود تا داده‌ها و یا مدل‌های آماری ما قابل فهم‌تر شوند.\n",
    "<br>\n",
    "</font>\n",
    "</div>\n",
    "<br>\n",
    "\n",
    "<div id=\"sec_intro\" style=\"line-height:300%;\">\n",
    "<font face=\"XB Zar\" size=5>\n",
    "A picture is worth a thousand words.\n",
    "</font>\n",
    "</div>\n",
    "<br>"
   ]
  },
  {
   "cell_type": "markdown",
   "metadata": {},
   "source": [
    "\n",
    "<div id=\"sec_whyGGPlot\" style=\"direction:rtl;line-height:300%;\">\n",
    "\t<font face=\"XB Zar\" size=5>\n",
    "\t\t<font color=#FF7500 size=6>\n",
    "چرا ggplot2 ؟\n",
    "        </font>\n",
    "\t\t<p></p>\n",
    "        <hr>\n",
    "            چرا از ggplot2 برای آموزش و شروع کار استفاده می‌کنیم و از خود ابزار نمودارسازی R استفاده نمی‌کنیم ؟\n",
    "            <br>\n",
    "            <ul>\n",
    "            <li>در ggplot2 شما تنها مواردی را انتخاب می‌کنید که برای تجسم‌سازی دادهِ شما ضروری می‌باشد ، در حالی که برای کشیدن نمودار و تجسم‌سازی با استفاده از خود R ، باید جز به جز نمودار خود را بسازید که کار را برای افراد مبتدی سخت می‌کند.</li>\n",
    "            <li>ggplot2 انعطاف‌پذیرتر و دارای تم‌ها و طرح های متنوع و بیشتر می‌باشد.</li>\n",
    "            <li>ggplot2 از Grammar of Graphics پیروی می‌کند.</li>\n",
    "            </ul>\n",
    "\n",
    "<br>\n",
    "</font>\n",
    "</div>\n",
    "<br>\n"
   ]
  },
  {
   "cell_type": "markdown",
   "metadata": {},
   "source": [
    "\n",
    "<div id=\"sec_gog\" style=\"direction:rtl;line-height:300%;\">\n",
    "\t<font face=\"XB Zar\" size=5>\n",
    "\t\t<font color=#FF7500 size=6>\n",
    "Grammar of Graphics چیست ؟\n",
    "        </font>\n",
    "\t\t<p></p>\n",
    "        <hr>\n",
    "        به طور خلاصه : \n",
    "        <br>\n",
    "ابزاری که به ما کمک می‌کند تا با مشخص کردن بخش های اساسی نمودار به طور مستقل از هم و ترکیب کردن آن‌ها به صورت زنجیری نمودار‌های مورد نظر خود را رسم کنیم.\n",
    "        <br><br>\n",
    "        بخش های اساسی شامل : \n",
    "        <br>\n",
    "        <ul>\n",
    "            <li>داده (Data)</li>\n",
    "            <li>نگاشت Aesthetic ها</li>\n",
    "            <li>اشیا هندسی (Geomteric Objects)</li>\n",
    "            <li>تبدیل‌های آماری (Statistical Transformations)</li>\n",
    "            <li>مقیاس ها</li>\n",
    "            <li>دستگاه‌های مختصات (Coordinate Systems)</li>\n",
    "            <li>تنظیم موقعیت (Position Adjustments)</li>\n",
    "            <li>Faceting</li>\n",
    "        </ul>\n",
    "        <br>\n",
    "        (توصیه می‌کنم برای آشنایی بیشتر با اساس این موضوع مقاله زیر را از Hadley Wickham بخوانید)           \n",
    "</font>\n",
    "</div>\n",
    "<div style=\"line-height:300%;\">\n",
    "\t<font face=\"XB Zar\" size=5>\n",
    "    <a href=\"http://byrneslab.net/classes/biol607/readings/wickham_layered-grammar.pdf\">A Layered Grammar of Graphics \n",
    "</a>\n",
    "</font>\n",
    "<div>\n"
   ]
  },
  {
   "cell_type": "markdown",
   "metadata": {},
   "source": [
    "<div id=\"sec_installGG\" style=\"direction:rtl;line-height:300%;\">\n",
    "\t<font face=\"XB Zar\" size=5>\n",
    "\t\t<font color=#FF7500 size=6>\n",
    "            نصب و فراخوانی ggplot2\n",
    "        </font>\n",
    "\t\t<p></p>\n",
    "        <hr>\n",
    "            توسط دستور \n",
    "\n",
    "</font>\n",
    "</div>"
   ]
  },
  {
   "cell_type": "code",
   "execution_count": null,
   "metadata": {},
   "outputs": [],
   "source": [
    "install.packages(\"ggplot2\")"
   ]
  },
  {
   "cell_type": "markdown",
   "metadata": {},
   "source": [
    "<div style=\"direction:rtl;line-height:300%;\">\n",
    "\t<font face=\"XB Zar\" size=5>\n",
    "این پکیج را نصب می‌کنیم.\n",
    "پس از نصب، این پکیج را توسط دستور \n",
    "\t</font>\n",
    "</div>"
   ]
  },
  {
   "cell_type": "code",
   "execution_count": null,
   "metadata": {},
   "outputs": [],
   "source": [
    "library(ggplot2)"
   ]
  },
  {
   "cell_type": "markdown",
   "metadata": {},
   "source": [
    "<div style=\"direction:rtl;line-height:300%;\">\n",
    "\t<font face=\"XB Zar\" size=5>\n",
    "    فراخوانی می‌کنیم.\n",
    "    <br>\n",
    "    <br>\n",
    "    در این بخش از دیتافریم هایی که در خود ggplot2 می‌باشند استفاده می‌کنیم.\n",
    "    <br>\n",
    "دیتافریم mpg : مشاهداتِ جمع‌آوری شده از اطلاعات 38 مدل خودرو .\n",
    "    <br>\n",
    "برای دیدن اطلاعات این دیتافریم و توضیح هر یک از متغیر‌ها کافیست مستندات آن را مطالعه کنید. \n",
    "\t</font>\n",
    "</div>"
   ]
  },
  {
   "cell_type": "code",
   "execution_count": 3,
   "metadata": {},
   "outputs": [],
   "source": [
    "?mpg"
   ]
  },
  {
   "cell_type": "markdown",
   "metadata": {},
   "source": [
    "<br><br>\n",
    "<div id=\"sec_ggIntro\" style=\"direction:rtl;line-height:300%;\">\n",
    "\t<font face=\"XB Zar\" size=5>\n",
    "\t\t<font color=#FF7500 size=6>\n",
    "            آشنایی با ggplot2\n",
    "        </font>\n",
    "\t\t<p></p>\n",
    "\t\t<hr>\n",
    "        همانطور که بالاتر گفته شد ، ggplot2  از یک گرامر خاص پیروی می‌کند که در این گرامر ، نمودار‌ها با زنجیر کردن توابع به هم‌دیگر با علامت جمع (+) ساخته می‌شوند.\n",
    "        <br>\n",
    "        هریک از توابع نمودار را تا آن نقطه تغییر می‌دهد.\n",
    "        <br>\n",
    "        با یک مثال شروع می‌کنیم و آن را بررسی می‌کنیم :\n",
    "        <br><br>\n",
    "        نمودار مقدار مسافت طی‌شده با یک گالون سوخت (hwy) نسبت به اندازه موتور خودرو (displ) را رسم کنیم :\n",
    "</font>\n",
    "</div>"
   ]
  },
  {
   "cell_type": "code",
   "execution_count": 4,
   "metadata": {},
   "outputs": [
    {
     "data": {},
     "metadata": {},
     "output_type": "display_data"
    },
    {
     "data": {
      "image/png": "[encoded data removed]",
      "text/plain": [
       "plot without title"
      ]
     },
     "metadata": {},
     "output_type": "display_data"
    }
   ],
   "source": [
    "## plot size\n",
    "library(repr)\n",
    "options(repr.plot.width=5.5, repr.plot.height=4.5)\n",
    "##\n",
    "\n",
    "ggplot(data = mpg) + \n",
    "  geom_point(mapping = aes(x = displ, y = hwy))"
   ]
  },
  {
   "cell_type": "markdown",
   "metadata": {},
   "source": [
    "<div style=\"direction:rtl;line-height:300%;\">\n",
    "\t<font face=\"XB Zar\" size=5>\n",
    "        در ggplot2 شما با فراخوانی تابع <code>()ggplot</code> رسم نمودار را شروع می‌کنید.\n",
    "        <br>\n",
    "        این تابع یک دستگاه مختصاتی ایجاد می‌کند که می‌توانید لایه هایی به آن اضافه کنید. اولین پارامتر این تابع ، مجموعه‌داده (Dataset) می‌باشد.\n",
    "        <br>\n",
    "        تابع <code>()ggplot</code> به تنهایی هیچ خروجی بصری‌ای ندارد و ما نیازمند اشیا هندسی (Geometric Objects به طور مخفف geom) هستیم.\n",
    "         <br> \n",
    "    در این‌جا تابع <code>()geom_point</code> به نمودار ما لایه‌ای از نقاط را اضافه می‌کند که منجر به تولید یک نمودار پراکنش(Scatterplot) می‌شود.\n",
    "    <br>\n",
    "        ggplot2 دارای توابع geom متفاوتی می‌باشد که هر یک ، لایه‌ای خاص به نمودار اضافه می‌کند.\n",
    "    <br>\n",
    "    هر یک از این توابع یک نگاشت(mapping) به عنوان پارامتر دریافت می‌کنند ، که نشان‌دهنده این است که متغیر‌های مجموعه‌دادهِ ما چگونه به نمودار نگاشت شوند.\n",
    "    <br>\n",
    "    پارامتر mapping همیشه به همراه تابع <code>()aes</code> می‌آید. این تابع مشخص‌کننده نقش هر متغیر می‌باشد. در اینجا مشخص می‌کند که کدام یک از متغیر‌ها از دادهِ ما به عنوان محورهای x و y قرار گیرند. \n",
    "    </font>\n",
    "</div>\n",
    "\n",
    "<br><br><br>"
   ]
  },
  {
   "cell_type": "markdown",
   "metadata": {},
   "source": [
    "<br><br>\n",
    "<div id=\"sec_aes\" style=\"direction:rtl;line-height:300%;\">\n",
    "\t<font face=\"XB Zar\" size=5>\n",
    "\t\t<font color=#FF7500 size=6>\n",
    "            Aesthetics :\n",
    "        </font>\n",
    "\t\t<p></p>\n",
    "\t\t<hr>\n",
    "        aes مخفف aesthetics  می‌باشد که در ggplot2 به معنی ویژگی بصری اشیا در نمودار ، می‌باشد. برخی از این aesthetic ها شامل :\n",
    "      <br>\n",
    "      <ul>\n",
    "        <li>Position</li>\n",
    "        <li>Color</li>\n",
    "        <li>Shape</li>\n",
    "        <li>Linetype</li>\n",
    "        <li>etc.</li>\n",
    "    </ul>\n",
    "    <br>\n",
    "    با نگاشت aesthetic ها به متغیرها می‌توانیم اطلاعات بیشتری درباره‌ی داده را در نمودار قرار دهیم. برای این کار کافیست در داخل <code>()aes</code> نام aesthetic مورد نظر را به نام متغیر مورد‌نظر پیوند دهیم.\n",
    "    <br>\n",
    "</font>\n",
    "</div>"
   ]
  },
  {
   "cell_type": "code",
   "execution_count": 5,
   "metadata": {},
   "outputs": [
    {
     "data": {},
     "metadata": {},
     "output_type": "display_data"
    },
    {
     "data": {
      "image/png": "[encoded data removed]",
      "text/plain": [
       "plot without title"
      ]
     },
     "metadata": {},
     "output_type": "display_data"
    }
   ],
   "source": [
    "ggplot(data = mpg) + \n",
    "  geom_point(mapping = aes(x = displ, y = hwy, color = class))"
   ]
  },
  {
   "cell_type": "markdown",
   "metadata": {},
   "source": [
    "<div style=\"direction:rtl;line-height:300%;\">\n",
    "\t<font face=\"XB Zar\" size=5>\n",
    "     که نقاط را بر اساس نوع ماشین‌ها رنگ می‌کند.\n",
    "     <br>\n",
    "     تابع <code>()aes</code> هر یک از نگاشت‌های aesthetic هر لایه را به پارامتر mapping آن لایه می‌فرستد.\n",
    "     <br>\n",
    "     با هربار نگاشت کردن aesthetic ها ، ggplot2 یک مقیاس برای آن انتخاب می‌کند و با ساخت توضیحی (legend) نگاشتِ بین مقادیر آن متغیر و سطوح آن aesthetic را شرح می‌دهد.\n",
    "     <br>\n",
    "     در مثال بالا میتوانیم این legend را در کنار نمودار ببینیم.\n",
    "     <br><br>\n",
    "     توجه کنیم که x و y نیز aesthetic هستند. ( زیرا مختصات x و y نیز از ویژگی‌های بصری نقاط هستند.) اما برای x و y توضیحی ساخته نمی‌شود زیرا برای آن‌ها محور‌های مختصات را داریم.\n",
    "     <br><br>\n",
    "     aesthetic ها می‌توانند مقادیری ثابت نیز داشته باشند. در این حالت اطلاعات اضافه‌ای به همراه نمودار انتقال داده نمی‌شود و فقط شکل ظاهری نمودار تغییر می‌کند.\n",
    "</font>\n",
    "</div>"
   ]
  },
  {
   "cell_type": "code",
   "execution_count": 6,
   "metadata": {},
   "outputs": [
    {
     "data": {},
     "metadata": {},
     "output_type": "display_data"
    },
    {
     "data": {
      "image/png": "[encoded data removed]",
      "text/plain": [
       "plot without title"
      ]
     },
     "metadata": {},
     "output_type": "display_data"
    }
   ],
   "source": [
    "ggplot(data = mpg) + \n",
    "  geom_point(mapping = aes(x = displ, y = hwy), color = \"red\")"
   ]
  },
  {
   "cell_type": "markdown",
   "metadata": {},
   "source": [
    "<br><br>\n",
    "<div id=\"sec_GO\" style=\"direction:rtl;line-height:300%;\">\n",
    "\t<font face=\"XB Zar\" size=5>\n",
    "\t\t<font color=#FF7500 size=6>\n",
    "            Geometric Objects :\n",
    "        </font>\n",
    "\t\t<p></p>\n",
    "\t\t<hr>\n",
    "        geom ها نشانه هایی هستند که ما بر روی نمودار می‌گذاریم. مثال :\n",
    "    <br>\n",
    "    <ul>\n",
    "        <li>نقاط</li>\n",
    "        <li>خطوط</li>\n",
    "        <li>و ...</li>\n",
    "    </ul>\n",
    "    ما معمولا هر نمودار را بر حسب geom ای که استفاده می‌کند می‌شناسیم.\n",
    "    به عنوان مثال : نمودار میله‌ای از geom میله‌ای استفاده می‌کند. (<code>()geom_bar</code>)\n",
    "    <br>\n",
    "    ما می‌توانیم از geom های متفاوت برای نمودار کشیدن داده استفاده کنیم.\n",
    "    <br><br>\n",
    "    همان مثال بخش قبل ، اما این بار خطی را به داده‌ها جفت می‌کنیم.\n",
    "</font>\n",
    "</div>"
   ]
  },
  {
   "cell_type": "code",
   "execution_count": 7,
   "metadata": {},
   "outputs": [
    {
     "name": "stderr",
     "output_type": "stream",
     "text": [
      "`geom_smooth()` using method = 'loess' and formula 'y ~ x'\n"
     ]
    },
    {
     "data": {},
     "metadata": {},
     "output_type": "display_data"
    },
    {
     "data": {
      "image/png": "[encoded data removed]",
      "text/plain": [
       "plot without title"
      ]
     },
     "metadata": {},
     "output_type": "display_data"
    }
   ],
   "source": [
    "ggplot(data = mpg) + \n",
    "  geom_smooth(mapping = aes(x = displ, y = hwy))"
   ]
  },
  {
   "cell_type": "markdown",
   "metadata": {},
   "source": [
    "<div style=\"direction:rtl;line-height:300%;\">\n",
    "\t<font face=\"XB Zar\" size=5>\n",
    "         هریک از geom ها از تعدادی از aesthetic ها را برای پارامتر mapping خود پشتیبانی می‌کنند.\n",
    "         <br>\n",
    "         در جدول زیر پرکاربردترین geom ها و aesthetic هایی که پشتیبانی می‌کنند آورده شده است :\n",
    "         <br><br>\n",
    "                <img src=\"figs/geoms.PNG\" style=\"float:center; width:60%;\"/>\n",
    "         <br>\n",
    "        (عکس بالا از کتاب R in Action گرفته شده است.)\n",
    "         <br><br>\n",
    "         همانطور که در ابتدا گفتیم ggplot2 به صورت زنجیری توابع را با هم ترکیب می‌کند. ما نیز می‌توانیم از چند تابع geom برای رسم نمودار خود استفاده کنیم.\n",
    "         <br><br>\n",
    "در مثال زیر از دو geom  استفاده می‌کنیم و رنگ نقاط ، رنگ خطوط و نوع خط را برا اساس متغیر drv مشخص می‌کنیم.\n",
    "    </font>\n",
    "</div>"
   ]
  },
  {
   "cell_type": "code",
   "execution_count": 8,
   "metadata": {},
   "outputs": [
    {
     "name": "stderr",
     "output_type": "stream",
     "text": [
      "`geom_smooth()` using method = 'loess' and formula 'y ~ x'\n"
     ]
    },
    {
     "data": {},
     "metadata": {},
     "output_type": "display_data"
    },
    {
     "data": {
      "image/png": "[encoded data removed]",
      "text/plain": [
       "plot without title"
      ]
     },
     "metadata": {},
     "output_type": "display_data"
    }
   ],
   "source": [
    "ggplot(data = mpg) + \n",
    "  geom_point(mapping = aes(x = displ, y = hwy , color = drv)) +\n",
    "  geom_smooth(mapping = aes(x = displ, y = hwy,color = drv, linetype = drv))"
   ]
  },
  {
   "cell_type": "markdown",
   "metadata": {},
   "source": [
    "<div style=\"direction:rtl;line-height:300%;\">\n",
    "\t<font face=\"XB Zar\" size=5>\n",
    "           اما به نظر شما قطعه کد بالا چه مشکلی دارد ؟\n",
    "           <br>\n",
    "           تکرار زیادی را در کد بالا انجام انجام داده‌ایم. \n",
    "           <br><br>\n",
    "           چگونه از این تکرار جلوگیری کنیم ؟ اگر به پارامتر های تابع <code>()ggplot</code> دقت کرده باشید حتما دیده‌اید که این تابع نیز پارامتر نگاشت(mapping) را دارا می‌باشد. \n",
    "           <br>\n",
    "           این پارامتر در تابع <code>()ggplot</code> به عنوان پارامتر سراسری (Global) شناخته می‌شود و به توابع geom انتقال داده می‌شود.\n",
    "           <br><br>\n",
    "           حال اگر در خود geom ها نیز از نگاشت استفاده کنیم ، به عنوان نگاشت محلیِ مخصوص آن لایه به حساب خواهد آمد و نگاشت سراسری را برای آن لایه گسترش (extend) می‌دهد و یا آن را دوباره‌نویسی (Overwrite) می‌کند.\n",
    "           <br>\n",
    "           (از همین ایده برای مشخص کردن داده متفاوت برای هر لایه نیز استفاده می‌شود.)\n",
    "           <br>\n",
    "           <br>\n",
    "           همان مثال بالا را دوباره به شیوه بهتر می‌نویسیم.\n",
    "    </font>\n",
    "</div>"
   ]
  },
  {
   "cell_type": "code",
   "execution_count": 9,
   "metadata": {},
   "outputs": [
    {
     "name": "stderr",
     "output_type": "stream",
     "text": [
      "`geom_smooth()` using method = 'loess' and formula 'y ~ x'\n"
     ]
    },
    {
     "data": {},
     "metadata": {},
     "output_type": "display_data"
    },
    {
     "data": {
      "image/png": "[encoded data removed]",
      "text/plain": [
       "plot without title"
      ]
     },
     "metadata": {},
     "output_type": "display_data"
    }
   ],
   "source": [
    "ggplot(data = mpg,mapping = aes(x = displ, y = hwy , color = drv)) + \n",
    "  geom_point() +\n",
    "  geom_smooth(mapping = aes(linetype = drv))"
   ]
  },
  {
   "cell_type": "markdown",
   "metadata": {
    "collapsed": true
   },
   "source": [
    "<br><br>\n",
    "<div id=\"sec_t1\" style=\"direction:rtl;line-height:300%;\">\n",
    "\t<font face=\"XB Zar\" size=5>\n",
    "\t\t<font color=#FF7500 size=6>\n",
    "            تمرین 1\n",
    "        </font>\n",
    "\t\t<p></p>\n",
    "\t\t<hr>\n",
    "        با استفاده از داده Salaries که در کنار این نوت‌بوک قرار داده‌شده به سوالات زیر پاسخ دهید.\n",
    "        <br>\n",
    "        این داده شامل اظلاعات درآمد تعدادی پروفسور می‌باشد و برای بررسی تاثیر جنسیت در درآمد جمع‌آوری شده است. \n",
    "        <br><br>\n",
    "        ‌1. نمودار پراکنش درآمد نسبت به تعداد سال خدمت را رسم کنید.\n",
    "        <br>\n",
    "        2. اگر یک aesthetic را نسبت به یک عبارت نگاشت کنیم چه اتفاقی می‌افتد ؟\n",
    "        <br>\n",
    "        (به عنوان مثال ، color = salary <code>&gt;</code> 100000)\n",
    "        <br>\n",
    "        3. اگر از یک متغیر پیوسته برای نگاشت استفاده کنیم چه اتفاقی می‌افتد ؟ ( برای color ، size و shape تست کنید.)\n",
    "        <br>\n",
    "        4. کد R لازم برای ساخت نمودار های زیر را بنویسید.\n",
    "        <img src=\"figs/Rplot2.png\" style=\"float:center; width:60%\"/>\n",
    "        <br>\n",
    "        <img src=\"figs/Rplot1.png\" style=\"float:center; width:60%;\"/>\n",
    "\n",
    "        \n",
    "</font>\n",
    "</div>\n"
   ]
  },
  {
   "cell_type": "markdown",
   "metadata": {},
   "source": [
    "<br><br>\n",
    "<div id=\"sec_ST\" style=\"direction:rtl;line-height:300%;\">\n",
    "\t<font face=\"XB Zar\" size=5>\n",
    "\t\t<font color=#FF7500 size=6>\n",
    "            Statistical Transformations\n",
    "        </font>\n",
    "\t\t<p></p>\n",
    "\t\t<hr>\n",
    "        (برای این بخش از مجموعه‌داده diamonds استفاده می‌کنیم.)\n",
    "        <br>\n",
    "        بعضی از نمودار ها همانند نمودار پراکنش به تغییری نیاز ندارند (هر نقطه بر اساس مختصات x و y آن رسم می‌شود) ، اما بعضی دیگر از نمودار‌ها نیاز به تغییرات آماری دارند.\n",
    "        <br>\n",
    "        به عنوان مثال نمودار میله‌ای زیر را در نظر بگیرید. \n",
    "\n",
    "</font>\n",
    "</div>"
   ]
  },
  {
   "cell_type": "code",
   "execution_count": 10,
   "metadata": {},
   "outputs": [
    {
     "data": {},
     "metadata": {},
     "output_type": "display_data"
    },
    {
     "data": {
      "image/png": "[encoded data removed]",
      "text/plain": [
       "plot without title"
      ]
     },
     "metadata": {},
     "output_type": "display_data"
    }
   ],
   "source": [
    "ggplot(data = diamonds) + \n",
    "  geom_bar(mapping = aes(x = cut))"
   ]
  },
  {
   "cell_type": "markdown",
   "metadata": {},
   "source": [
    "<div style=\"direction:rtl;line-height:300%;\">\n",
    "\t<font face=\"XB Zar\" size=5>\n",
    "          در محور x ها ، متغیر برش (cut) را داریم و در محور y ها تعداد (count) را داریم اما count یکی از متغیر های مجموعه‌داده ما نمی‌باشد. این متغیر count ، از کجا می‌آید ؟\n",
    "        <br>\n",
    "        همانطور که گفته شد بعضی از نمودار‌ها همانند نمودار میله‌ای مقادیر جدیدی برای نمودار محاسبه می‌کنند . به الگوریتمی که این مقادیر جدید را محاسبه می‌کند stat (مخفف Statistical Transformation) می‌گویند.\n",
    "        <br>\n",
    "        یک stat یک مجموعه‌داده را به عنوان ورودی می‌گیرد و یک مجموعه‌داده با مقادیر جدید را برمی‌گرداند.\n",
    "        <br>\n",
    "        <code>()geom_bar</code> از <code>()stat_count</code> استفاده می‌کند.\n",
    "        <br>\n",
    "        ما می‌توانیم از geom ها و stat  ها به جای یکدیگر استفاده کنیم ، زیرا هر geom یک stat به‌طور پیش فرض دارد و همینطور هر stat یک geom.\n",
    "          </font>\n",
    "</div>"
   ]
  },
  {
   "cell_type": "code",
   "execution_count": 11,
   "metadata": {},
   "outputs": [
    {
     "data": {},
     "metadata": {},
     "output_type": "display_data"
    },
    {
     "data": {
      "image/png": "[encoded data removed]",
      "text/plain": [
       "plot without title"
      ]
     },
     "metadata": {},
     "output_type": "display_data"
    }
   ],
   "source": [
    "ggplot(data = diamonds) + \n",
    "  stat_count(mapping = aes(x = cut))"
   ]
  },
  {
   "cell_type": "markdown",
   "metadata": {},
   "source": [
    "<div style=\"direction:rtl;line-height:300%;\">\n",
    "\t<font face=\"XB Zar\" size=5>\n",
    "    با وجود این نکته می‌توانیم از geom ها بدون نگرانی از تغییرات آماری که در لایه های زیرین رخ می‌دهد ، استفاده کنیم.\n",
    "    <br>\n",
    " اما حالاتی همانند حالت زیر از مواردی می‌باشد که باید stat به طور کامل مشخص شود :\n",
    "        <br>\n",
    "        می‌خواهیم stat پیش‌فرض را تغییر دهیم  \n",
    "مثلا ، فرض کنید که ما count را از قبل در مجموعه‌داده خود داریم. \n",
    "\n",
    "</font>\n",
    "</div>"
   ]
  },
  {
   "cell_type": "code",
   "execution_count": 12,
   "metadata": {},
   "outputs": [
    {
     "data": {},
     "metadata": {},
     "output_type": "display_data"
    },
    {
     "data": {
      "image/png": "[encoded data removed]",
      "text/plain": [
       "plot without title"
      ]
     },
     "metadata": {},
     "output_type": "display_data"
    }
   ],
   "source": [
    "df <- data.frame(cut = c(\"Fair\",\"Good\",\"Very Good\",\"Premium\",\"Ideal\"), count = c(1610,4906,12082,13791,21551))\n",
    "\n",
    "ggplot(data = df) +\n",
    "  geom_bar(mapping = aes(x = cut, y = count), stat = \"identity\")"
   ]
  },
  {
   "cell_type": "markdown",
   "metadata": {},
   "source": [
    "<br><br>\n",
    "<div id=\"sec_t2\" style=\"direction:rtl;line-height:300%;\">\n",
    "\t<font face=\"XB Zar\" size=5>\n",
    "\t\t<font color=#FF7500 size=6>\n",
    "               تمرین 2\n",
    "        </font>\n",
    "\t\t<p></p>\n",
    "\t\t<hr>\n",
    "        (با استفاده از همان مجموعه‌داده تمرین 1 به سوالات زیر پاسخ دهید.)\n",
    "        <br>\n",
    "        1. <code>()geom_col</code> چه کاری انجام می‌دهد ؟ تفاوت <code>()geom_col</code> با <code>()geom_bar</code> چیست ؟\n",
    "        <br>\n",
    "        2. سعی کنید یک جدول از geom های پرکاربرد با stat پیشفرض آن‌ها تهیه کنید.\n",
    "        <br>\n",
    "        3. مشکل قطعه کد زیر چیست ؟ چرا نقاط سبز نیستند ؟\n",
    "        <br>\n",
    "\n",
    "        \n",
    "        \n",
    "</font>\n",
    "</div>\n"
   ]
  },
  {
   "cell_type": "code",
   "execution_count": 13,
   "metadata": {},
   "outputs": [
    {
     "data": {},
     "metadata": {},
     "output_type": "display_data"
    },
    {
     "data": {
      "image/png": "[encoded data removed]",
      "text/plain": [
       "plot without title"
      ]
     },
     "metadata": {},
     "output_type": "display_data"
    }
   ],
   "source": [
    "sal <- read.csv(\"Salaries.csv\")\n",
    "ggplot(sal) +\n",
    "  geom_point(aes(x = yrs.service, y = salary , color = \"green\"))"
   ]
  },
  {
   "cell_type": "markdown",
   "metadata": {},
   "source": [
    "<div style=\"direction:rtl;line-height:300%;\">\n",
    "\t<font face=\"XB Zar\" size=5>\n",
    "        4. تفاوت <code>()geom_violin</code> با <code>()geom_boxplot</code> چیست ؟\n",
    "        <br>\n",
    "        5. هیستوگرام درآمد افراد را بکشید. (تعداد بازه‌های درآمد را 50 در نظر بگیرید.)\n",
    "        <br>\n",
    "        6. کد R نمودار‌های زیر را بنویسید.\n",
    "        <br>\n",
    "        <img src=\"figs/Rplot3.png\" style=\"float:center; width:60%;\"/>\n",
    "        <br>\n",
    "        <img src=\"figs/Rplot4.png\" style=\"float:center; width:60%;\"/>\n",
    "        <br>\n",
    "        <img src=\"figs/Rplot5.png\" style=\"float:center; width:60%;\"/>\n",
    "        <br>\n",
    "    </font>\n",
    "</div>"
   ]
  },
  {
   "cell_type": "markdown",
   "metadata": {
    "collapsed": true
   },
   "source": [
    "<br><br>\n",
    "<div id=\"sec_appearance\" style=\"direction:rtl;line-height:300%;\">\n",
    "\t<font face=\"XB Zar\" size=5>\n",
    "\t\t<font color=#FF7500 size=6>\n",
    "              ظاهر نمودارها\n",
    "        </font>\n",
    "\t\t<p></p>\n",
    "\t\t<hr>\n",
    "        مهم‌ترین نکته در رسم نمودار توجه به این موضوع می‌باشد که نمودار‌ها باید به صورتی باشند که حتی کسی که کمترین اطلاعات را درباره موضوع دارد با نگاه به آن ها تمام اطلاعات را بفهمد.\n",
    "        <br>\n",
    "        نموداری خوب است که نیاز به کمترین توضیح ، برای انتقال اطلاعات داشته باشد.\n",
    "        <br>\n",
    "        از ویژگی های ظاهری مهم ، به داشتن عنوان و مشخص بودن اسم محور‌ها می‌توان اشاره کرد.\n",
    "        <br><br>\n",
    "        با استفاده از دستور <code>()labs</code> می‌توان این موارد را تعیین کرد.\n",
    "        <br>\n",
    "        <br>\n",
    "        مثال :\n",
    "        \n",
    "        \n",
    "</font>\n",
    "</div>\n"
   ]
  },
  {
   "cell_type": "code",
   "execution_count": 14,
   "metadata": {},
   "outputs": [
    {
     "data": {},
     "metadata": {},
     "output_type": "display_data"
    },
    {
     "data": {
      "image/png": "[encoded data removed]",
      "text/plain": [
       "plot without title"
      ]
     },
     "metadata": {},
     "output_type": "display_data"
    }
   ],
   "source": [
    "ggplot(diamonds, aes(price, fill = cut)) +\n",
    "  geom_histogram(binwidth = 500) +\n",
    "  labs(title = \"Histogram of Diamond Price\",subtitle = \"Colored by Diamond Cut\",x = \"Diamond Price ($)\",y = \"Frequency\")"
   ]
  },
  {
   "cell_type": "markdown",
   "metadata": {},
   "source": [
    "<div style=\"direction:rtl;line-height:300%;\">\n",
    "\t<font face=\"XB Zar\" size=5>\n",
    "        در گام‌های بعدی می‌توان به زیبایی بیشتر نمودار با افزودن تم‌ها ، تعیین مقیاس محورها و ... پرداخت.\n",
    "        <br><br>\n",
    "    </font>\n",
    "</div>"
   ]
  },
  {
   "cell_type": "markdown",
   "metadata": {},
   "source": [
    "<br>\n",
    "<div id=\"sec_additional\" style=\"direction:rtl;line-height:300%;\">\n",
    "\t<font face=\"XB Zar\" size=5>\n",
    "\t\t<font color=#FF7500 size=6>\n",
    "            نکات تکمیلی\n",
    "        </font>\n",
    "\t\t<p></p>\n",
    "\t\t<hr>\n",
    "        قسمت ابتدایی درباره‌ی Grammar of Graphics را با خاطر بیاورید.\n",
    "        <br>\n",
    "        در چند بخش این آموزش سعی بر این بود که با اساسی ترین بخش‌های این گرامر آشنا شوید و بتوانید نمودار‌های متفاوتی تولید کنید.\n",
    "        <br>\n",
    "         بخش‌هایی همانند تنظیم موقعیت ، دستگاه‌های مختصات و Faceting را برای مطالعه بیشتر به عهده شما می‌گذاریم.\n",
    "        <br>\n",
    "        برای مطالعه این بخش‌ها می‌توانید از منبع زیر کمک بگیرید.\n",
    "        <br>\n",
    "</font>\n",
    "</div>\n",
    "<font face=\"XB Zar\" size=5>\n",
    "<br>\n",
    "        ggplot2: Elegant Graphics for Data Analysis                    Hadley Wickham\n",
    "</font>\n",
    "<div id=\"sec_GO\" style=\"direction:rtl;line-height:300%;\">\n",
    "\t<font face=\"XB Zar\" size=5>\n",
    "        <br>\n",
    "        همینطور لینک مقابل نیز یک ورکشاپ آموزش ggplot2 می‌باشد که می‌توانید از آن نیز کمک بگیرید. \n",
    "        <a href=\"http://tutorials.iq.harvard.edu/R/Rgraphics/Rgraphics.html\">R Graphics</a>\n",
    "        <br>\n",
    "        <br>\n",
    "        cheat sheet این موضوع نیز در کنار نوت‌بوک قرار داده شده که می‌توانید به آن مراجعه کنید.\n",
    "        <br><br>\n",
    "</font>\n",
    "</div>\n"
   ]
  },
  {
   "cell_type": "markdown",
   "metadata": {},
   "source": [
    "<br>\n",
    "<div id=\"sec_ans\" style=\"direction:rtl;line-height:300%;\">\n",
    "\t<font face=\"XB Zar\" size=5>\n",
    "\t\t<font color=#FF7500 size=6>\n",
    "            پاسخ تمارین\n",
    "        </font>\n",
    "\t\t<p></p>\n",
    "\t\t<hr>\n",
    "        سعی کنید به تمامی سوالات خودتان پاسخ دهید.<br>\n",
    "        هرجا به اروری بر می‌خورید سعی کنید آن را با دقت بخوانید زیرا در اکثر مواقع جواب شما در متن ارور می‌باشد. \n",
    "        <br>\n",
    "        جواب تمارین را در لینک مقابل قرار می‌دم تا در صورت نیاز جواب های خود را چک کنید.\n",
    "        <a href=\"\">Answers</a>\n",
    "        <br><br>\n",
    "</font>\n",
    "</div>\n"
   ]
  }
 ],
 "metadata": {
  "kernelspec": {
   "display_name": "R",
   "language": "R",
   "name": "ir"
  },
  "language_info": {
   "codemirror_mode": "r",
   "file_extension": ".r",
   "mimetype": "text/x-r-source",
   "name": "R",
   "pygments_lexer": "r",
   "version": "3.6.1"
  },
  "latex_envs": {
   "LaTeX_envs_menu_present": true,
   "autoclose": false,
   "autocomplete": true,
   "bibliofile": "biblio.bib",
   "cite_by": "apalike",
   "current_citInitial": 1,
   "eqLabelWithNumbers": true,
   "eqNumInitial": 1,
   "hotkeys": {
    "equation": "Ctrl-E",
    "itemize": "Ctrl-I"
   },
   "labels_anchors": false,
   "latex_user_defs": false,
   "report_style_numbering": false,
   "user_envs_cfg": false
  },
  "toc": {
   "base_numbering": 1,
   "nav_menu": {},
   "number_sections": true,
   "sideBar": true,
   "skip_h1_title": false,
   "title_cell": "Table of Contents",
   "title_sidebar": "Contents",
   "toc_cell": false,
   "toc_position": {},
   "toc_section_display": true,
   "toc_window_display": false
  },
  "varInspector": {
   "cols": {
    "lenName": 16,
    "lenType": 16,
    "lenVar": 40
   },
   "kernels_config": {
    "python": {
     "delete_cmd_postfix": "",
     "delete_cmd_prefix": "del ",
     "library": "var_list.py",
     "varRefreshCmd": "print(var_dic_list())"
    },
    "r": {
     "delete_cmd_postfix": ") ",
     "delete_cmd_prefix": "rm(",
     "library": "var_list.r",
     "varRefreshCmd": "cat(var_dic_list()) "
    }
   },
   "types_to_exclude": [
    "module",
    "function",
    "builtin_function_or_method",
    "instance",
    "_Feature"
   ],
   "window_display": false
  }
 },
 "nbformat": 4,
 "nbformat_minor": 2
}
