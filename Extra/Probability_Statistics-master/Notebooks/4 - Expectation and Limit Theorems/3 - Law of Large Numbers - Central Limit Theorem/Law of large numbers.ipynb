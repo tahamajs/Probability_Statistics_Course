{
 "cells": [
  {
   "cell_type": "markdown",
   "metadata": {},
   "source": [
    "<div style=\"direction:rtl;line-height:300%;\">\n",
    "\t<font face=\"XB Zar\" size=5>\n",
    "\t\t<div align=center>\n",
    "\t\t\t<font face=\"IranNastaliq\" size=30>\n",
    "\t\t\t\t<p></p>\n",
    "\t\t\t\t<p></p>\n",
    "به نام خدا\n",
    "\t\t\t\t<p></p>\n",
    "\t\t\t</font>\n",
    "\t\t\t<font color=#FF7500>\n",
    "دانشگاه صنعتی شریف - دانشکده مهندسی کامپیوتر\n",
    "            </font>\n",
    "\t\t\t<p></p>\n",
    "\t\t\t<font color=blue>\n",
    "آمار و احتمال مهندسی\n",
    "            </font>\n",
    "\t\t\t<br />\n",
    "\t\t\t<br />\n",
    "پاییز ۱۳۹۸\n",
    "\t\t</div>\n",
    "\t\t<hr/>\n",
    "\t\t<font color=red size=6>\n",
    "\t\t\t<br />\n",
    "\t\t\t<div align=center>\n",
    "قانون اعداد بزرگ\n",
    "            </div>\n",
    "\t\t</font>\n",
    "\t\t<br />\n",
    "\t\t<div align=center>\n",
    "نگین مجیدی، علیرضا موسوی حسینی و علی شریفی زارچی\n",
    "        </div>\n",
    "\t\t<hr />\n",
    "\t\t<style type=\"text/css\" scoped>\n",
    "        p{\n",
    "        border: 1px solid #a2a9b1;background-color: #f8f9fa;display: inline-block;\n",
    "        };\n",
    "        </style>\n",
    "\t\t<div>\n",
    "\t\t\t<h3>فهرست مطالب</h3>\n",
    "\t\t\t<ul style=\"margin-right: 0;\">\n",
    "                <li>\n",
    "\t\t\t\t\t<a href=\"#sec_intro\">\n",
    "                        مقدمه\n",
    "                    </a>\n",
    "\t\t\t\t</li>\n",
    "                <li>\n",
    "\t\t\t\t\t<a href=\"#sec_weak\">\n",
    "                        قانون ضعیف اعداد بزرگ\n",
    "                    </a>\n",
    "\t\t\t\t</li>\n",
    "                <li>\n",
    "\t\t\t\t\t<a href=\"#sec_weak_proof\">\n",
    "                        اثبات قانون ضعیف اعداد بزرگ\n",
    "                    </a>\n",
    "\t\t\t\t</li>\n",
    "                <li>\n",
    "\t\t\t\t\t<a href=\"#sec_strong\">\n",
    "                        قانون قوی اعداد بزرگ\n",
    "                    </a>\n",
    "\t\t\t\t</li>\n",
    "                <li>\n",
    "\t\t\t\t\t<a href=\"#sec_difference\">\n",
    "                    تفاوت قوی و ضعیف در قانون اعداد بزرگ!\n",
    "                    </a>\n",
    "\t\t\t\t</li>\n",
    "                <li>\n",
    "\t\t\t\t\t<a href=\"#sec_die_tossing\">\n",
    "                        مثال پرتاب تاس\n",
    "                    </a>\n",
    "\t\t\t\t</li>\n",
    "                <li>\n",
    "\t\t\t\t\t<a href=\"#sec_poisson\">\n",
    "                        مثال توزیع پواسون\n",
    "                    </a>\n",
    "\t\t\t\t</li>\n",
    "                <li>\n",
    "                    <a href=\"#sec_usage\">\n",
    "                        کاربرد‌های عملی\n",
    "                    </a>\n",
    "                </li>\n",
    "                <li>\n",
    "\t\t\t\t\t<a href=\"#sec_conc\">\n",
    "خلاصه و نتیجه‌گیری\n",
    "                    </a>\n",
    "\t\t\t\t</li>\n",
    "\t\t\t</ul>\n",
    "\t\t</div>\n",
    "\t</font>\n",
    "</div>"
   ]
  },
  {
   "cell_type": "markdown",
   "metadata": {},
   "source": [
    "<p></p>\n",
    "<br />\n",
    "<div id=\"sec_intro\" style=\"direction:rtl;line-height:300%;\">\n",
    "\t<font face=\"XB Zar\" size=5>\n",
    "\t\t<font color=#FF7500 size=6>\n",
    "مقدمه\n",
    "        </font>\n",
    "\t\t<p></p>\n",
    "\t\t<hr>\n",
    "        فرض کنید یک آزمایش با خروجی تصادفی در اختیار دارید و در این آزمایش مقدار یک کمیت را بررسی می‌کنید. این  کمیت یک متغیر تصادفیست. ممکن است از خود بپرسید امید ریاضی این متغیر تصادفی چیست؟ بر خلاف تمام متغیرهای تصافی که تا کنون دیده‌ایم توزیع این متغیر تصادفی را نداریم، بنابراین نمی‌توانیم از تعریف ریاضیاتی امید ریاضی استفاده کنیم. پس احتمالا مطابق با شهودی که از علم احتمال داریم آزمایش را چندین بار تکرار می‌کنیم، نتایج را یادداشت می‌کنیم و سپس میانگین حسابی این نتایج را به عنوان امید ریاضی این متغیر تصادفی گزارش خواهیم کرد. اما آیا این مقدار واقعا همان  امید ریاضی مد نظر ماست؟ حتی اگر این کار را تکرار کنیم نتایج متفاوتی کسب می‌کنیم (چرا که این میانگین خود یک متغیر تصادفی است) پس درباره نتیجه به دست آمده چه می‌توان گفت؟\n",
    "<br />\n",
    "<br />\n",
    "        در اینجا قانون اعداد بزرگ به کمک ما می‌آید. این قانون (به طور شهودی) بیان می‌کند که هر چه آزمایش را بیشتر تکرار کنیم، میانگین نتایج به یک عدد مشخص میل می‌کند که همان امید ریاضی متغیر تصادفی مد نظر ماست. این قانون دو شکل کلی دارد که تعریف هرکدام در ادامه آمده است.\n",
    "        <br>\n",
    "    </font>\n",
    "</div>"
   ]
  },
  {
   "cell_type": "markdown",
   "metadata": {},
   "source": [
    "<p></p>\n",
    "<br />\n",
    "<div id=\"sec_weak\" style=\"direction:rtl;line-height:300%;\">\n",
    "\t<font face=\"XB Zar\" size=5>\n",
    "\t\t<font color=#FF7500 size=6>\n",
    "قانون ضعیف اعداد بزرگ\n",
    "        </font>\n",
    "\t\t<p></p>\n",
    "\t\t<hr>\n",
    "        فرض کنید $X_1,X_2,...$ دنباله ای از متغیر های تصادفی مستقل با توزیع یکسان باشند که هر کدام دارای میانگین متناهی به صورت $E[X_i]=\\mu$ باشد. آنگاه به ازای هر $\\epsilon > 0$،  \n",
    "        <br/>\n",
    "        $$P\\{|\\frac{X_1 + \\ldots +X_n}{n}-\\mu|\\geq \\epsilon\\}\\rightarrow 0\\quad as\\quad n\\rightarrow \\infty$$\n",
    "\t</font>\n",
    "</div>"
   ]
  },
  {
   "cell_type": "markdown",
   "metadata": {},
   "source": [
    "<p></p>\n",
    "<br />\n",
    "<div id=\"sec_weak_proof\" style=\"direction:rtl;line-height:300%;\">\n",
    "\t<font face=\"XB Zar\" size=5>\n",
    "\t\t<font color=#FF7500 size=6>\n",
    " اثبات قانون ضعیف اعداد بزرگ\n",
    "        </font>\n",
    "\t\t<p></p>\n",
    "\t\t<hr>\n",
    "        می‌دانیم که،  \n",
    "        $$E[\\frac{X_1 + \\ldots +X_n}{n}] = \\mu\\quad,\\quad Var(\\frac{X_1 + \\ldots +X_n}{n}) = \\frac{\\sigma^2}{n}$$\n",
    "        <br/>\n",
    "        لذا با توجه به قانون چبیشف خواهیم داشت:\n",
    "        $$P\\{|\\frac{X_1 + \\ldots +X_n}{n}-\\mu|\\geq \\epsilon\\}<\\frac{\\sigma^2}{n\\epsilon^2}\\rightarrow 0\\quad as\\quad n\\rightarrow \\infty$$\n",
    "\t</font>\n",
    "</div>"
   ]
  },
  {
   "cell_type": "markdown",
   "metadata": {},
   "source": [
    "<p></p>\n",
    "<br />\n",
    "<div id=\"sec_strong\" style=\"direction:rtl;line-height:300%;\">\n",
    "\t<font face=\"XB Zar\" size=5>\n",
    "\t\t<font color=#FF7500 size=6>\n",
    "        قانون قوی اعداد بزرگ\n",
    "        </font>\n",
    "\t\t<p></p>\n",
    "\t\t<hr>\n",
    "       فرض کنید $X_1,X_2,...$ دنباله ای از متغیر های تصادفی مستقل با توزیع یکسان باشند که هر کدام دارای میانگین متناهی به صورت $E[X_i]=\\mu$ باشد. آنگاه با احتمال 1،\n",
    "        <br/>\n",
    "        $$\\frac{X_1 + \\ldots +X_n}{n}\\rightarrow \\mu\\quad as\\quad n\\rightarrow \\infty$$\n",
    "        </font>\n",
    "</div>\n",
    "\n"
   ]
  },
  {
   "cell_type": "markdown",
   "metadata": {},
   "source": [
    "<p></p>\n",
    "<br />\n",
    "<div id=\"sec_difference\" style=\"direction:rtl;line-height:300%;\">\n",
    "\t<font face=\"XB Zar\" size=5>\n",
    "\t\t<font color=#FF7500 size=6>\n",
    "تفاوت قوی و ضعیف در قانون اعداد بزرگ!\n",
    "        </font>\n",
    "\t\t<p></p>\n",
    "\t\t<hr>\n",
    "         احتمالا تا اینجا این سوال برای شما پیش آمده که تفاوت میان قانون ضعیف اعداد بزرگ و قانون قوی اعداد بزرگ چیست؟ در واقع این تفاوت بسیار موشکافانه است.\n",
    "        <br/><br/>\n",
    "        قانون ضعیف اعداد بزرگ بیان می‌کند که احتمال $P\\{|\\frac{X_1 + \\ldots +X_n}{n}-\\mu|\\geq \\epsilon\\}$ زمانی که $n$ به بی‌نهایت میل میکند به صفر نزدیک می‌شود. اما برای هر $n$ متناهی این احتمال می‌تواند مثبت باشد و ممکن است هر از چند گاهی $\\frac{X_1 + \\ldots +X_n}{n}$ فاصله زیادی از $\\mu$ داشته باشد. قانون ضعیف اعداد بزرگ برعکس قانون قوی اعداد بزرگ اطلاع دقیقی از  تعداد دفعاتی که این اتفاق رخ می‌دهد به ما نمی‌دهد. بر اساس قانون قوی اعداد بزرگ با احتمال 1، $\\frac{X_1 + \\ldots +X_n}{n}$ به $\\mu$ میل می‌کند. که بیان می‌کند به ازای هر $\\epsilon>0$، اختلاف میان $\\frac{X_1 + \\ldots +X_n}{n}$ و $\\mu$ فقط به تعداد متناهی بار از $\\epsilon$ بیشتر می‌شود.     \n",
    "        <br/> \n",
    "    </font>\n",
    "</div>"
   ]
  },
  {
   "cell_type": "markdown",
   "metadata": {},
   "source": [
    "<p></p>\n",
    "<br />\n",
    "<div id=\"sec_die_tossing\" style=\"direction:rtl;line-height:300%;\">\n",
    "\t<font face=\"XB Zar\" size=5>\n",
    "\t\t<font color=#FF7500 size=6>\n",
    "مثال پرتاب تاس\n",
    "        </font>\n",
    "\t\t<p></p>\n",
    "\t\t<hr>\n",
    "     میخواهیم شهودی بهتر از این قانون به دست آوریم، از این رو آن را روی مسئله‌ی پرتاب تاس امتحان می‌کنیم. در هر آزمایش از پرتاب تاس نتیجه به صورت یک متغیر تصادفی یکنواخت و گسسته از اعداد 1 تا 6 است. این آزمایش را 1000 بار تکرار می‌کنیم.   \n",
    "    </font>\n",
    "</div>"
   ]
  },
  {
   "cell_type": "code",
   "execution_count": 1,
   "metadata": {},
   "outputs": [],
   "source": [
    "x <- sample(6, 1000, replace = TRUE)"
   ]
  },
  {
   "cell_type": "markdown",
   "metadata": {},
   "source": [
    "<div style=\"direction:rtl;line-height:300%;\">\n",
    "\t<font face=\"XB Zar\" size=5>\n",
    "\t\tدر هر بار انجام آزمایش میانگین نتایج به دست آمده تا اینجای کار را حساب می‌کنیم.\n",
    "\t</font>\n",
    "</div>"
   ]
  },
  {
   "cell_type": "code",
   "execution_count": 2,
   "metadata": {},
   "outputs": [],
   "source": [
    "means <- sapply(1:1000, function (i) mean(x[1:i]))"
   ]
  },
  {
   "cell_type": "markdown",
   "metadata": {},
   "source": [
    "<div style=\"direction:rtl;line-height:300%;\">\n",
    "\t<font face=\"XB Zar\" size=5>\n",
    "\t\tمیانگین ها را بر حسب تعداد آزمایش انجام شده رسم می‌کنیم.\n",
    "\t</font>\n",
    "</div>"
   ]
  },
  {
   "cell_type": "code",
   "execution_count": 3,
   "metadata": {},
   "outputs": [
    {
     "data": {},
     "metadata": {},
     "output_type": "display_data"
    },
    {
     "data": {
      "image/png": "[encoded data removed]",
      "text/plain": [
       "plot without title"
      ]
     },
     "metadata": {},
     "output_type": "display_data"
    }
   ],
   "source": [
    "library(ggplot2)\n",
    "options(repr.plot.width = 6, repr.plot.height = 6)\n",
    "qplot(1:1000, means) + geom_point() +\n",
    "coord_cartesian(ylim = c(1, 6)) +\n",
    "labs(x='# of trials', y='Averages', title='Converging to expected value')"
   ]
  },
  {
   "cell_type": "markdown",
   "metadata": {},
   "source": [
    "<div style=\"direction:rtl;line-height:300%;\">\n",
    "\t<font face=\"XB Zar\" size=5>\n",
    "\t\tمشاهده می‌کنیم که میانگین‌های محاسبه شده به 3.5 که امید ریاضی نتیجه پرتاب تاس است همگرا می‌شود.\n",
    "\t</font>\n",
    "</div>"
   ]
  },
  {
   "cell_type": "markdown",
   "metadata": {},
   "source": [
    "<p></p>\n",
    "<br />\n",
    "<div id=\"sec_poisson\" style=\"direction:rtl;line-height:300%;\">\n",
    "\t<font face=\"XB Zar\" size=5>\n",
    "\t\t<font color=#FF7500 size=6>\n",
    "مثال توزیع پواسون\n",
    "        </font>\n",
    "\t\t<p></p>\n",
    "\t\t<hr>\n",
    "     این بار روی داده‌هایی که توزیع پواسون دارند،امتحان می‌کنیم. 10000 نمونه از متغیر تصادفی پواسون با پارامتر 5 تولید می‌کنیم.   \n",
    "    </font>\n",
    "</div>"
   ]
  },
  {
   "cell_type": "code",
   "execution_count": 4,
   "metadata": {},
   "outputs": [
    {
     "data": {
      "image/png": "[encoded data removed]",
      "text/plain": [
       "Plot with title “Histogram of x”"
      ]
     },
     "metadata": {},
     "output_type": "display_data"
    }
   ],
   "source": [
    "x <- rpois(10000, lambda = 5)\n",
    "hist(x)"
   ]
  },
  {
   "cell_type": "markdown",
   "metadata": {},
   "source": [
    "<div style=\"direction:rtl;line-height:300%;\">\n",
    "\t<font face=\"XB Zar\" size=5>\n",
    "\t\tدر هر بار انجام آزمایش میانگین نتایج به دست آمده تا اینجای کار را حساب می‌کنیم.\n",
    "\t</font>\n",
    "</div>"
   ]
  },
  {
   "cell_type": "code",
   "execution_count": 5,
   "metadata": {},
   "outputs": [],
   "source": [
    "means <- sapply(1:10000, function (i) mean(x[1:i]))"
   ]
  },
  {
   "cell_type": "markdown",
   "metadata": {},
   "source": [
    "<div style=\"direction:rtl;line-height:300%;\">\n",
    "\t<font face=\"XB Zar\" size=5>\n",
    "\t\tمیانگین ها را بر حسب تعداد آزمایش انجام شده رسم می‌کنیم.\n",
    "\t</font>\n",
    "</div>"
   ]
  },
  {
   "cell_type": "code",
   "execution_count": 6,
   "metadata": {},
   "outputs": [
    {
     "data": {},
     "metadata": {},
     "output_type": "display_data"
    },
    {
     "data": {
      "image/png": "[encoded data removed]",
      "text/plain": [
       "plot without title"
      ]
     },
     "metadata": {},
     "output_type": "display_data"
    }
   ],
   "source": [
    "library(ggplot2)\n",
    "qplot(1:10000, means) + geom_point() +\n",
    "coord_cartesian(ylim = c(3, 7)) +\n",
    "labs(x='# of trials', y='Averages', title='Converging to expected value')"
   ]
  },
  {
   "cell_type": "markdown",
   "metadata": {},
   "source": [
    "<div style=\"direction:rtl;line-height:300%;\">\n",
    "\t<font face=\"XB Zar\" size=5>\n",
    "\t\tمشاهده می‌کنیم که میانگین‌های محاسبه شده به 5 که امید ریاضی متغیر تصادفی پواسون با پارامتر 5 است همگرا می‌شود.\n",
    "\t</font>\n",
    "</div>"
   ]
  },
  {
   "cell_type": "markdown",
   "metadata": {},
   "source": [
    "<div style=\"direction:rtl;line-height:300%;\">\n",
    "\t<font face=\"XB Zar\" size=5>\n",
    "\t\t<font color=darkpink size=6>\n",
    "تمرین:\n",
    "        </font>\n",
    "برای داده‌هایی که توزیع نرمال با میانگین و واریانس دلخواه دارند این قانون را آزمایش کنید.\n",
    "</font>\n",
    "</div>\n",
    "\n"
   ]
  },
  {
   "cell_type": "markdown",
   "metadata": {},
   "source": [
    "<p></p>\n",
    "<br />\n",
    "<div id=\"sec_usage\" style=\"direction:rtl;line-height:300%;\">\n",
    "\t<font face=\"XB Zar\" size=5>\n",
    "\t\t<font color=#FF7500 size=6>\n",
    "کاربرد‌های عملی\n",
    "        </font>\n",
    "\t\t<p></p>\n",
    "\t\t<hr>\n",
    "        <ul>\n",
    "          <li>\n",
    "              انتگرال‌گیری مونت کارلو:<br>\n",
    "              یکی از مسائل معروف دنیای ریاضی محاسبه انتگرال یک تابع در یک بازه مشخص است. فرض کنید می‌خواهیم انتگرال تابع $f: \\mathbb{R} \\mapsto [0, c]$ را در بازه $[a,b]$ محاسبه کنیم. یک راه برای انجام این کار انتخاب تعداد زیادی نقطه دو بعدی تصادفی با توزیع یکنواخت در ناحیه $a \\leq x \\leq b$ و $0\\leq y \\leq c$ است.\n",
    "              <br>\n",
    "              حال متغیر تصادفی $I_j$ را به این صورت تعریف می‌کنیم: اگر  $y_j \\leq f(x_j)$ یا به عبارتی دیگر نقطه $j$ام زیر نمودار $f$ بود یک و در غیر این صورت صفر.\n",
    "              <br>\n",
    "              $I_j$هایک مجموعه متغیر تصادفی برنولی مستقل از هم با توزیع یکسان تشکیل می‌دهند که امید ریاضی آن برابر  است با احتمال یک بودن آن که با توجه به یکنواخت بودن توزیع انتخاب نقاط برابر است با $\\frac{s}{c(b-a)}$ که $s$ مساحت زیر نمودار $f$ است. اگر تعداد نقاط را $n$ در نظر بگیریم، قانون اعداد بزرگ برای $n$های بزرگ نتیجه می‌دهد که\n",
    "              $$\\mathbb{E}(I) \\approx \\sum_{j=1}^{n}\\frac{1}{n}I_j \\implies s \\approx c(b-a)\\frac{1}{n}\\sum_{j=1}^{n}I_j \\implies \\int_{a}^{b}f(x)dx \\approx c(b-a)\\frac{1}{n}\\sum_{j=1}^{n}I_j$$\n",
    "              پس می‌توان با کمک نسبت تعداد نقاط زیر نمودار به کل نقاط حاصل انتگرال را تقریب زد و با افزایش تعداد این نقاط، این تقریب را به اندازه دلخواه بهتر کرد.\n",
    "              <img src=\"figs/integral.png\">\n",
    "          </li>\n",
    "          <br>\n",
    "          <li>\n",
    "              به‌دست آوردن توزیع تجربی یک متغیر تصادفی:<br>\n",
    "              در بسیاری از موارد در دنیای واقعی برای بررسی متغیر‌های تصادفی توزیع تجمعی آن‌ها را نداریم و مجبوریم از طریق آزمایش‌های مکرر آن را تقریب بزنیم. فرض کنید متغیر‌های تصادفی $X_1$ تا $X_n$ متغیر‌های تصادفی مستقل با توزیع تجمعی یکسان $F(x)$ باشند. مانند مثال قبلی می‌توان متغیر تصادفی مشخصه $I_j$ را برای رویداد $X_j \\leq x$ تعریف کرد (دقت کنید که $X_j$ یک متغیر تصادفی و $x$ یک عدد حقیقیست). آنگاه می‌توان توزیع تجمعی تجربی را به شکل زیر تعریف کرد\n",
    "              $$\\hat{F}_n(x) = \\frac{1}{n}\\sum_{j=1}^{n}I_j$$ \n",
    "              از آنجایی که $\\mathbb{E}(I_j) = F(x)$ (چرا؟) مجددا قانون اعداد بزرگ به ما می‌گوید برای $n$های به اندازه کافی بزرگ تقریب زیر معتبر است\n",
    "              $$\\hat{F}_n(x) \\approx F(x)$$\n",
    "          </li>\n",
    "        </ul>\n",
    "        <br>\n",
    "        <b>نکته</b>:\n",
    "        در نمادگذاری دو مثال بالا اندکی ابهام وجود دارد چرا که یک متغیر تصادفی به تقریب برابر با یک عدد حقیقی قرار داده  شده است که در اینجا منظور این است که در صورت انجام آزمایش حاصل آن نزدیک به عدد حقیقی مد نظر خواهد بود. برای برداشت‌های دقیق‌تر می‌توان از تعریف دقیق (ضعیف یا قوی) قانون اعداد بزرگ استفاده کرد. \n",
    "    </font>\n",
    "</div>"
   ]
  },
  {
   "cell_type": "markdown",
   "metadata": {},
   "source": [
    "<p></p>\n",
    "<br/>\n",
    "<div id=\"sec_conc\" style=\"direction:rtl;line-height:300%;\">\n",
    "\t<font face=\"XB Zar\" size=5>\n",
    "\t\t<font color=#FF7500 size=6>\n",
    "خلاصه و نتیجه‌گیری\n",
    "        </font>\n",
    "\t\t<p></p>\n",
    "\t\t<hr>\n",
    "        در این بخش با موارد زیر آشنا شدیم:\n",
    "        <ul>\n",
    "            <li>\n",
    "                قانون اعداد بزرگ:<br>\n",
    "                هنگامی که اندازه یک نمونه تصادفی به بی‌نهایت میل کند میانگین آن به امید ریاضی آن متغیر تصادفی میل می‌کند. این قانون دو شکل زیر را دارد:\n",
    "            <ul>\n",
    "            <li>\n",
    "            قانون ضعیف اعداد بزرگ:<br>\n",
    "                هنگامی که اندازه یک نمونه تصادفی به بی‌نهایت میل کند، احتمال اینکه فاصله میانگین نمونه از امید ریاضی آن متغیر تصادفی از هر عدد حقیقی مثبت دلخواه بیشتر باشد به صفر میل می‌کند. یا به عبارت دیگر:\n",
    "                $$\\forall \\epsilon > 0 \\; \\lim_{n \\to \\infty}P(|\\bar{X_n} - \\mu| > \\epsilon) = 0$$\n",
    "            </li>\n",
    "            <li>\n",
    "            قانون قوی اعداد بزرگ:<br>\n",
    "                هنگامی که اندازه یک نمونه تصادفی به بی‌نهایت میل‌کند، احتمال اینکه میانگین نمونه به امید ریاضی متغیر تصادفی میل کند یک است. یا به عبارت دیگر\n",
    "                $$P(\\lim_{n \\to \\infty} \\bar{X_n} = \\mu) = 1$$\n",
    "            </li>\n",
    "            </li>\n",
    "            </ul>\n",
    "            <li>\n",
    "            بررسی آن در مثال تاس و توزیع پواسون\n",
    "            </li>\n",
    "            <li>\n",
    "             کاربردهایی از قانون اعداد بزرگ:<br>\n",
    "                 <ul>\n",
    "                 <li>\n",
    "                     انتگرال‌گیری مونت کارلو\n",
    "                 </li>\n",
    "                 <li>\n",
    "                     به دست آوردن توزیع تجربی یک متغیر تصادفی\n",
    "                 </li>\n",
    "                 </ul>\n",
    "            </li>\n",
    "        </ul>\n",
    "        <br>\n",
    "        یک نکته که در این بخش به آن اشاره نشد این بود که هر چند با افزایش تعداد آزمایش، میانگین مشاهدات یک متغیر تصادفی به امید ریاضی آن میل می‌کند، اما این میل کردن تا چه اندازه سریع است. دانستن توزیع احتمال میانگین یک مجموعه متعیر تصادفی مستقل با توزیع یکسان (و به طور مشخص واریانس آن) کمک زیادی در این زمینه می‌کند. این موضوع در بخش بعدی مورد بررسی قرار می‌گیرد.\n",
    "\t</font>\n",
    "</div>"
   ]
  },
  {
   "cell_type": "markdown",
   "metadata": {},
   "source": [
    "<p></p>\n",
    "<br/>\n",
    "<div id=\"sec_refs\" style=\"direction:rtl;line-height:300%;\">\n",
    "\t<font face=\"XB Zar\" size=5>\n",
    "\t\t<font color=#FF7500 size=6>\n",
    "منابع\n",
    "        </font>\n",
    "\t\t<hr>       \n",
    "        <ul>\n",
    "            <li>\n",
    "            <a href=\"https://ocw.mit.edu/courses/mathematics/18-05-introduction-to-probability-and-statistics-spring-2014/readings/MIT18_05S14_Reading6b.pdf\">Jeremy Orloff and Jonathan Bloom. Introduction to Probability. Spring 2014. Massachusetts Institute of Technology: MIT OpenCouseWare, https://ocw.mit.edu/. License: Creative Commons BY-NC-SA.</a>\n",
    "            </li>\n",
    "            <li>\n",
    "                <a href=\"https://drive.google.com/file/d/1VmkAAGOYCTORq1wxSQqy255qLJjTNvBI/view\">Joseph K. BBlitzstein and Jessica Hwang. Introduction to Probability. Second Edition. Harvard University and Stanford University</a>\n",
    "            <li>\n",
    "Ross, Sheldon (2009). A first course in probability (8th ed.). Prentice Hall press. ISBN 978-0-13-603313-4.\n",
    "            </li>\n",
    "            <li>\n",
    "                <a href=\"https://en.wikipedia.org/w/index.php?title=Law_of_large_numbers&oldid=909994602\">Wikipedia contributors, \"Law of large numbers,\" Wikipedia, The Free Encyclopedia</a>\n",
    "            </li>\n",
    "        </ul>\n",
    "\t</font>\n",
    "</div>"
   ]
  },
  {
   "cell_type": "code",
   "execution_count": null,
   "metadata": {},
   "outputs": [],
   "source": []
  }
 ],
 "metadata": {
  "kernelspec": {
   "display_name": "R",
   "language": "R",
   "name": "ir"
  },
  "language_info": {
   "codemirror_mode": "r",
   "file_extension": ".r",
   "mimetype": "text/x-r-source",
   "name": "R",
   "pygments_lexer": "r",
   "version": "3.4.4"
  },
  "latex_envs": {
   "LaTeX_envs_menu_present": true,
   "autoclose": false,
   "autocomplete": true,
   "bibliofile": "biblio.bib",
   "cite_by": "apalike",
   "current_citInitial": 1,
   "eqLabelWithNumbers": true,
   "eqNumInitial": 1,
   "hotkeys": {
    "equation": "Ctrl-E",
    "itemize": "Ctrl-I"
   },
   "labels_anchors": false,
   "latex_user_defs": false,
   "report_style_numbering": false,
   "user_envs_cfg": false
  },
  "toc": {
   "base_numbering": 1,
   "nav_menu": {},
   "number_sections": true,
   "sideBar": true,
   "skip_h1_title": false,
   "title_cell": "Table of Contents",
   "title_sidebar": "Contents",
   "toc_cell": false,
   "toc_position": {},
   "toc_section_display": true,
   "toc_window_display": false
  },
  "varInspector": {
   "cols": {
    "lenName": 16,
    "lenType": 16,
    "lenVar": 40
   },
   "kernels_config": {
    "python": {
     "delete_cmd_postfix": "",
     "delete_cmd_prefix": "del ",
     "library": "var_list.py",
     "varRefreshCmd": "print(var_dic_list())"
    },
    "r": {
     "delete_cmd_postfix": ") ",
     "delete_cmd_prefix": "rm(",
     "library": "var_list.r",
     "varRefreshCmd": "cat(var_dic_list()) "
    }
   },
   "types_to_exclude": [
    "module",
    "function",
    "builtin_function_or_method",
    "instance",
    "_Feature"
   ],
   "window_display": false
  }
 },
 "nbformat": 4,
 "nbformat_minor": 1
}
