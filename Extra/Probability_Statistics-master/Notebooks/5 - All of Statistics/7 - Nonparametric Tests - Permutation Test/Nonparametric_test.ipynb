{
 "cells": [
  {
   "cell_type": "markdown",
   "metadata": {},
   "source": [
    "<div style=\"direction:rtl;line-height:300%;\">\n",
    "\t<font face=\"XB Zar\" size=5>\n",
    "\t\t<div align=center>\n",
    "\t\t\t<font face=\"IranNastaliq\" size=30>\n",
    "\t\t\t\t<p></p>\n",
    "\t\t\t\t<p></p>\n",
    "به نام خدا\n",
    "\t\t\t\t<p></p>\n",
    "\t\t\t</font>\n",
    "\t\t\t<font color=#FF7500>\n",
    "دانشگاه صنعتی شریف - دانشکده مهندسی کامپیوتر\n",
    "            </font>\n",
    "\t\t\t<p></p>\n",
    "\t\t\t<font color=blue>\n",
    "آمار و احتمال مهندسی\n",
    "            </font>\n",
    "\t\t\t<br />\n",
    "\t\t\t<br />\n",
    "پاییز ۱۳۹۷ - ویرایش پاییز ۹۸\n",
    "\t\t</div>\n",
    "\t\t<hr/>\n",
    "\t\t<font color=red size=6>\n",
    "\t\t\t<br />\n",
    "\t\t\t<div align=center>\n",
    " آزمون فرض‌های ناپارامتری\n",
    "            </div>\n",
    "\t\t</font>\n",
    "\t\t<br />\n",
    "\t\t<div align=center>\n",
    " صدرا صفادوست و میلاد آقاجوهری\n",
    "            <br>\n",
    "            ویرایش عرفان فرهادی\n",
    "        </div>\n",
    "\t\t<hr />\n",
    "\t\t<style type=\"text/css\" scoped>\n",
    "        p{\n",
    "        border: 1px solid #a2a9b1;background-color: #f8f9fa;display: inline-block;\n",
    "        };\n",
    "        </style>\n",
    "\t\t<div>\n",
    "\t\t\t<h3>فهرست مطالب</h3>\n",
    "\t\t\t<ul style=\"margin-right: 0;\">\n",
    "                <li>\n",
    "\t\t\t\t\t<a href=\"#sec_intro\">\n",
    "                        مقدمه\n",
    "                    </a>\n",
    "\t\t\t\t</li>\n",
    "                <li>\n",
    "\t\t\t\t\t<a href=\"#sec_problem\">\n",
    "                        صورت مسئله\n",
    "                    </a>\n",
    "\t\t\t\t</li>\n",
    "                <li>\n",
    "\t\t\t\t\t<a href=\"#sec_permutation_test\">\n",
    "                        آزمون جایگشت (permutation test)\n",
    "                    </a>\n",
    "\t\t\t\t</li>\n",
    "                <li>\n",
    "\t\t\t\t\t<a href=\"#sec_telegram_again\">\n",
    "بازگشت به مسئله تلگرام\n",
    "                    </a>\n",
    "                </li>\n",
    "                <li>\n",
    "                    <a href= \"#sec_comparison\">\n",
    "                        مقایسه تست‌های پارامتریک و غیرپارامتریک\n",
    "                    </a>\n",
    "                </li>\n",
    "                <li>\n",
    "\t\t\t\t\t<a href=\"#sec_conc\">\n",
    "خلاصه و نتیجه‌گیری\n",
    "                    </a>\n",
    "\t\t\t\t</li>\n",
    "\t\t\t</ul>\n",
    "\t\t</div>\n",
    "\t</font>\n",
    "</div>"
   ]
  },
  {
   "cell_type": "markdown",
   "metadata": {},
   "source": [
    "<p></p>\n",
    "<br />\n",
    "<div id=\"sec_intro\" style=\"direction:rtl;line-height:300%;\">\n",
    "\t<font face=\"XB Zar\" size=5>\n",
    "\t\t<font color=#FF7500 size=6>\n",
    "مقدمه\n",
    "        </font>\n",
    "\t\t<p></p>\n",
    "\t\t<hr>\n",
    "پیام رسان تلگرام که محبوب‌ترین وسیله ارتباطی در ایران است، در اردیبهشت ماه سال ۱۳۹۷ فیلتر شد و دسترسی به آن قطع گردید. می‌خواهیم بررسی کنیم که آیا این فیلترینگ تاثیری بر روی میزان مشاهده شدن مطالبی که در تلگرام منتشر می‌شوند گذاشته است یا خیر.\n",
    "        <br />\n",
    "<img src=\"figs/digital.jpeg\" style=\"float:center; width:50%\"/>\n",
    "<br />\n",
    "\t</font>\n",
    "</div>"
   ]
  },
  {
   "cell_type": "markdown",
   "metadata": {},
   "source": [
    "<p></p>\n",
    "<br />\n",
    "<div id=\"sec_problem\" style=\"direction:rtl;line-height:300%;\">\n",
    "\t<font face=\"XB Zar\" size=5>\n",
    "\t\t<font color=#FF7500 size=6>\n",
    "صورت مسئله\n",
    "        </font>\n",
    "\t\t<p></p>\n",
    "\t\t<hr>\n",
    "        از داده‌های مربوط به متوسط میزان مشاهده روزانه هر مطلب منتشر شده در تلگرام استفاده می‌کنیم. این داده‌ها توسط آزمایشگاه شبکه‌های اجتماعی دانشکده برق و کامپیوتر دانشگاه تهران استخراج شده‌اند.\n",
    "        <br>\n",
    "    هر سطر مربوط به یک روز است. ستون اول متوسط بازدید از مطالب منتشر شده در آن روز و ستون دوم  فیلتر بودن یا نبودن تلگرام در آن روز را مشخص می‌کند.\n",
    "    </font>\n",
    "</div>"
   ]
  },
  {
   "cell_type": "code",
   "execution_count": 84,
   "metadata": {},
   "outputs": [
    {
     "data": {
      "text/html": [
       "<table>\n",
       "<thead><tr><th scope=col>Views</th><th scope=col>Filtered</th></tr></thead>\n",
       "<tbody>\n",
       "\t<tr><td>921</td><td>No </td></tr>\n",
       "\t<tr><td>831</td><td>No </td></tr>\n",
       "\t<tr><td>786</td><td>No </td></tr>\n",
       "\t<tr><td>874</td><td>No </td></tr>\n",
       "\t<tr><td>868</td><td>No </td></tr>\n",
       "\t<tr><td>820</td><td>No </td></tr>\n",
       "\t<tr><td>791</td><td>No </td></tr>\n",
       "\t<tr><td>701</td><td>Yes</td></tr>\n",
       "\t<tr><td>726</td><td>Yes</td></tr>\n",
       "\t<tr><td>699</td><td>Yes</td></tr>\n",
       "\t<tr><td>761</td><td>Yes</td></tr>\n",
       "\t<tr><td>811</td><td>Yes</td></tr>\n",
       "\t<tr><td>668</td><td>Yes</td></tr>\n",
       "\t<tr><td>814</td><td>Yes</td></tr>\n",
       "\t<tr><td>680</td><td>Yes</td></tr>\n",
       "\t<tr><td>840</td><td>Yes</td></tr>\n",
       "</tbody>\n",
       "</table>\n"
      ],
      "text/latex": [
       "\\begin{tabular}{r|ll}\n",
       " Views & Filtered\\\\\n",
       "\\hline\n",
       "\t 921 & No \\\\\n",
       "\t 831 & No \\\\\n",
       "\t 786 & No \\\\\n",
       "\t 874 & No \\\\\n",
       "\t 868 & No \\\\\n",
       "\t 820 & No \\\\\n",
       "\t 791 & No \\\\\n",
       "\t 701 & Yes\\\\\n",
       "\t 726 & Yes\\\\\n",
       "\t 699 & Yes\\\\\n",
       "\t 761 & Yes\\\\\n",
       "\t 811 & Yes\\\\\n",
       "\t 668 & Yes\\\\\n",
       "\t 814 & Yes\\\\\n",
       "\t 680 & Yes\\\\\n",
       "\t 840 & Yes\\\\\n",
       "\\end{tabular}\n"
      ],
      "text/markdown": [
       "Views | Filtered | \n",
       "|---|---|---|---|---|---|---|---|---|---|---|---|---|---|---|---|\n",
       "| 921 | No  | \n",
       "| 831 | No  | \n",
       "| 786 | No  | \n",
       "| 874 | No  | \n",
       "| 868 | No  | \n",
       "| 820 | No  | \n",
       "| 791 | No  | \n",
       "| 701 | Yes | \n",
       "| 726 | Yes | \n",
       "| 699 | Yes | \n",
       "| 761 | Yes | \n",
       "| 811 | Yes | \n",
       "| 668 | Yes | \n",
       "| 814 | Yes | \n",
       "| 680 | Yes | \n",
       "| 840 | Yes | \n",
       "\n"
      ],
      "text/plain": [
       "   Views Filtered\n",
       "1  921   No      \n",
       "2  831   No      \n",
       "3  786   No      \n",
       "4  874   No      \n",
       "5  868   No      \n",
       "6  820   No      \n",
       "7  791   No      \n",
       "8  701   Yes     \n",
       "9  726   Yes     \n",
       "10 699   Yes     \n",
       "11 761   Yes     \n",
       "12 811   Yes     \n",
       "13 668   Yes     \n",
       "14 814   Yes     \n",
       "15 680   Yes     \n",
       "16 840   Yes     "
      ]
     },
     "metadata": {},
     "output_type": "display_data"
    }
   ],
   "source": [
    "data=read.csv(\"./data/telegram_seen.csv\")\n",
    "data"
   ]
  },
  {
   "cell_type": "markdown",
   "metadata": {},
   "source": [
    "<div style=\"direction:rtl;line-height:300%;\">\n",
    "\t<font face=\"XB Zar\" size=5>\n",
    "با استفاده از داده‌هایی که داریم، میانگین بازدید از مطالب را در دوران پیش از فیلترینگ و پس از فیلترینگ محاسبه می‌کنیم و با هم مقایسه می‌کنیم: \n",
    "    </font>\n",
    "</div>"
   ]
  },
  {
   "cell_type": "code",
   "execution_count": 85,
   "metadata": {},
   "outputs": [
    {
     "name": "stdout",
     "output_type": "stream",
     "text": [
      "[1] \"Average views before filtering: 841.571428571429\"\n",
      "[1] \"Average views after filtering: 744.444444444444\"\n"
     ]
    }
   ],
   "source": [
    "library(dplyr)\n",
    "before = data %>% filter(Filtered == 'No')\n",
    "after = data %>% filter(Filtered == 'Yes')\n",
    "print(paste0('Average views before filtering: ',\n",
    "             mean(before$Views)))\n",
    "print(paste0('Average views after filtering: ',\n",
    "             mean(after$Views)))\n"
   ]
  },
  {
   "cell_type": "markdown",
   "metadata": {},
   "source": [
    "<br />\n",
    "<div style=\"direction:rtl;line-height:300%;\">\n",
    "\t<font face=\"XB Zar\" size=5>\n",
    "    مشاهده می‌شود که میانگین بازدید پس از فیلترینگ کاهش یافته است. اکنون می‌خواهیم با استفاده از یک آزمون فرض، فرض کاهش بازدید روزانه مطالب تلگرام را بررسی کنیم.\n",
    "        <br>\n",
    "        شاید اولین روشی که به ذهن برسد، استفاده از t-test باشد. اما باید توجه کنیم که در آزمون تی، فرض می‌کنیم که داده‌ها از توزیع نرمال می‌آیند اما در اینجا ما نمی‌توانیم چنین فرضی راجع به داده‌ها داشته باشیم.\n",
    "    </font>\n",
    "</div>"
   ]
  },
  {
   "cell_type": "markdown",
   "metadata": {},
   "source": [
    "<p></p>\n",
    "<br />\n",
    "<div id=\"sec_permutation_test\" style=\"direction:rtl;line-height:300%;\">\n",
    "\t<font face=\"XB Zar\" size=5>\n",
    "\t\t<font color=#FF7500 size=6>\n",
    "آزمون جایگشت (permutation test)\n",
    "        </font>\n",
    "\t\t<p></p>\n",
    "\t\t<hr>\n",
    "        آزمون جایگشت (permutation test)  یکی از انواع آزمون‌های غیر پارامتریک (non parametric) است. تفاوت این آزمون‌ها با آزمون‌های پارامتریک در این است که در اینجا فرضی راجع به توزیع متغیرها نمی‌کنیم،  اما مثلا در آزمون تی که یک آزمون پارامتریک است فرض می‌کنیم که داده از توزیع نرمال با واریانس یکسان می‌آیند.\n",
    "        <br>\n",
    "        <br>\n",
    "        فرض کنید ۲ دسته داده A و B داریم.\n",
    "        دسته اول شامل $n_A$ نمونه و دسته دوم شامل $n_B$ نمونه است.\n",
    "        فرض صفر این است که این دو دسته توزیع یکسانی دارند. بنابراین اگر فرض صفر  درست باشد، بین این که یک نمونه در دسته A باشد یا در دسته B، تفاوتی نیست. در واقع در صورت وقوع فرض صفر تفاوت معناداری میان دسته‌بندی فعلی (A و B) با یک دسته‌بندی تصادفی وجود ندارد. کاری که در آزمون جایگشت می‌کنیم همین است که دسته‌بندی اصلی را با دسته‌بندی‌های تصادفی (جایگشت‌های مختلف) مقایسه می‌کنیم. حال سوال بعدی آن است که خود عمل مقایسهٔ میان دسته‌بندی‌ها را چگونه انجام دهیم؟ برای این کار باید یک آماره به ازای هر دسته‌بندی محاسبه کنیم. \n",
    "        <br>\n",
    "        فرض کنید از آماره میانگین برای آزمون استفاده می‌کنیم. ابتدا تفاضل میانگین‌های دو دسته یعنی $|\\mu_A - \\mu_B|$ را محاسبه می‌کنیم.\n",
    "        می‌خواهیم ببینیم آیا این تفاضل به اندازه کافی بزرگ هست که ما فرض صفر را رد کنیم یا خیر؟\n",
    "        <br>\n",
    "        داده‌های دو دسته را تجمیع می‌کنیم، یعنی تمام $n_A + n_B$ نمونه را در نظر می‌گیریم و به ازای همه حالت (جایگشت) های ممکن، داده‌ها را به دو دسته A و B به اندازه‌های $n_A$ و $n_B$ افراز می‌کنیم؛ یعنی تمامی حالت‌های نسبت دادن هر نمونه به دسته A یا B، به طوری که اندازه دسته‌ها به ترتیب $n_A$ و $n_B$ باشد.\n",
    "        تفاضل میانگین‌های دو دسته را در هر حالت محاسبه می‌کنیم.\n",
    "        مجموعه تمام تفاضل میانگین‌های به دست آمده، توزیع تمامی حالت‌های ممکن برای اختلاف میانگین دو دسته، به شرط درست بودن فرض صفر است.\n",
    "        مقدار p-value برابر با نسبت تعداد حالت‌هایی که تفاضل میانگین بزرگتر از تفاضل میانگین اولیه است بر روی تعداد کل حالت‌ها می‌باشد.\n",
    "        <br>\n",
    "        دقت کنید که روش توضیح داده شده مربوط به حالتی است که فرض جایگزین ما دوطرفه باشد. اگر فرض جایگزین ما یک طرفه باشد، باید به جای $|\\mu_A-\\mu_B|$ از $\\mu_A-\\mu_B$ استفاده کنیم.\n",
    "        <br>\n",
    "        توجه کنید که در این آزمون تنها فرض استفاده شده این است که بتوانیم نمونه‌ها را به طور یکسان به هرکدام از دو دسته نسبت دهیم.\n",
    "\t</font>\n",
    "</div>\n",
    "\n"
   ]
  },
  {
   "cell_type": "markdown",
   "metadata": {},
   "source": [
    "<p></p>\n",
    "<br />\n",
    "<div id=\"sec_telegram_again\" style=\"direction:rtl;line-height:300%;\">\n",
    "\t<font face=\"XB Zar\" size=5>\n",
    "\t\t<font color=#FF7500 size=6>\n",
    "بازگشت به مسئله تلگرام\n",
    "        </font>\n",
    "\t\t<p></p>\n",
    "\t\t<hr>\n",
    "       آزمون جایگشت به کمک مثال روشن تر بیان می‌شود. قدم به قدم  آزمون جایگشت را بر روی مساله تلگرام اجرا می‌کنیم. $\\alpha$ را برابر 0.05 در نظر می‌گیریم.<br>\n",
    "        در مساله تلگرام، ما دو دسته داده داریم، دسته اول داده‌های مربوط به قبل فیلترینگ و دسته دوم مربوط به بعد فیلترینگ.\n",
    "        ابتدا تفاضل میانگین‌های دو دسته را محاسبه می‌کنیم:\n",
    "       </font>\n",
    "</div>"
   ]
  },
  {
   "cell_type": "code",
   "execution_count": 86,
   "metadata": {},
   "outputs": [
    {
     "name": "stdout",
     "output_type": "stream",
     "text": [
      "[1] \"Difference in Averages is: 97.1269841269841\"\n"
     ]
    }
   ],
   "source": [
    "obsDiff = abs(mean(before$Views)-mean(after$Views))\n",
    "print(paste0('Difference in Averages is: ',obsDiff))"
   ]
  },
  {
   "cell_type": "markdown",
   "metadata": {},
   "source": [
    "<p></p>\n",
    "<div id=\"sec_jam_again\" style=\"direction:rtl;line-height:300%;\">\n",
    "\t<font face=\"XB Zar\" size=5>\n",
    "اکنون تمامی حالات ممکن نسبت دادن $n_A$ نمونه به دسته A و $n_B$ نمونه به دسته B را می‌سازیم:\n",
    "    </font>\n",
    "</div>"
   ]
  },
  {
   "cell_type": "code",
   "execution_count": 87,
   "metadata": {},
   "outputs": [],
   "source": [
    "if(!require(gtools)){install.packages(\"gtools\")}\n",
    "library(gtools)\n",
    "nA = 7\n",
    "nB = 9\n",
    "gathered = data$Views\n",
    "allA = combinations(nA+nB, nA, gathered)\n",
    "numPerms = dim(allA)[1]\n",
    "allB = matrix(0, nrow=numPerms, ncol=nB)\n",
    "for (i in 1:numPerms) {\n",
    "    allB[i,] = gathered[! gathered %in% allA[i,]]\n",
    "}\n"
   ]
  },
  {
   "cell_type": "markdown",
   "metadata": {},
   "source": [
    "<p></p>\n",
    "<div style=\"direction:rtl;line-height:300%;\">\n",
    "\t<font face=\"XB Zar\" size=5>\n",
    "    numPerms برابر با تعداد تمامی حالات ممکن است.\n",
    "        <br>\n",
    "    allA و allB دو ماتریس هستند که ابعادشان به ترتیب $numPerms \\times n_A$ و $numPerms \\times n_B$ است.\n",
    "        به عبارتی به ازای جایگشت i ام از numPerms، $n_A$ تا نمونه در سطر iام ماتریس allA و $n_B$ نمونه بقیه در سطر iام ماتریس allB قرار گرفته است.\n",
    "        مثلا در جایشگت 100ام، اعداد زیر در گروه A قرار دارند:\n",
    "    </font>\n",
    "</div>"
   ]
  },
  {
   "cell_type": "code",
   "execution_count": 88,
   "metadata": {},
   "outputs": [
    {
     "data": {
      "text/html": [
       "<ol class=list-inline>\n",
       "\t<li>668</li>\n",
       "\t<li>680</li>\n",
       "\t<li>699</li>\n",
       "\t<li>701</li>\n",
       "\t<li>761</li>\n",
       "\t<li>874</li>\n",
       "\t<li>921</li>\n",
       "</ol>\n"
      ],
      "text/latex": [
       "\\begin{enumerate*}\n",
       "\\item 668\n",
       "\\item 680\n",
       "\\item 699\n",
       "\\item 701\n",
       "\\item 761\n",
       "\\item 874\n",
       "\\item 921\n",
       "\\end{enumerate*}\n"
      ],
      "text/markdown": [
       "1. 668\n",
       "2. 680\n",
       "3. 699\n",
       "4. 701\n",
       "5. 761\n",
       "6. 874\n",
       "7. 921\n",
       "\n"
      ],
      "text/plain": [
       "[1] 668 680 699 701 761 874 921"
      ]
     },
     "metadata": {},
     "output_type": "display_data"
    }
   ],
   "source": [
    "allA[100,]"
   ]
  },
  {
   "cell_type": "markdown",
   "metadata": {},
   "source": [
    "<p></p>\n",
    "<div style=\"direction:rtl;line-height:300%;\">\n",
    "\t<font face=\"XB Zar\" size=5>\n",
    "    و اعداد زیر هم در گروه B قرار دارند:\n",
    "</font>\n",
    "</div>"
   ]
  },
  {
   "cell_type": "code",
   "execution_count": 89,
   "metadata": {},
   "outputs": [
    {
     "data": {
      "text/html": [
       "<ol class=list-inline>\n",
       "\t<li>831</li>\n",
       "\t<li>786</li>\n",
       "\t<li>868</li>\n",
       "\t<li>820</li>\n",
       "\t<li>791</li>\n",
       "\t<li>726</li>\n",
       "\t<li>811</li>\n",
       "\t<li>814</li>\n",
       "\t<li>840</li>\n",
       "</ol>\n"
      ],
      "text/latex": [
       "\\begin{enumerate*}\n",
       "\\item 831\n",
       "\\item 786\n",
       "\\item 868\n",
       "\\item 820\n",
       "\\item 791\n",
       "\\item 726\n",
       "\\item 811\n",
       "\\item 814\n",
       "\\item 840\n",
       "\\end{enumerate*}\n"
      ],
      "text/markdown": [
       "1. 831\n",
       "2. 786\n",
       "3. 868\n",
       "4. 820\n",
       "5. 791\n",
       "6. 726\n",
       "7. 811\n",
       "8. 814\n",
       "9. 840\n",
       "\n"
      ],
      "text/plain": [
       "[1] 831 786 868 820 791 726 811 814 840"
      ]
     },
     "metadata": {},
     "output_type": "display_data"
    }
   ],
   "source": [
    "allB[100,]"
   ]
  },
  {
   "cell_type": "markdown",
   "metadata": {},
   "source": [
    "<p></p>\n",
    "<div style=\"direction:rtl;line-height:300%;\">\n",
    "\t<font face=\"XB Zar\" size=5>\n",
    "اکنون به ازای هر جایگشت، تفاضل میانگین دو دسته را محاسبه می‌کنیم:\n",
    "    </font>\n",
    "</div>"
   ]
  },
  {
   "cell_type": "code",
   "execution_count": 90,
   "metadata": {},
   "outputs": [],
   "source": [
    "meansA = apply(allA, 1, mean)\n",
    "meansB = apply(allB, 1, mean)\n",
    "diffs = abs(meansA - meansB)"
   ]
  },
  {
   "cell_type": "markdown",
   "metadata": {},
   "source": [
    "<p></p>\n",
    "<div style=\"direction:rtl;line-height:300%;\">\n",
    "\t<font face=\"XB Zar\" size=5>\n",
    "این تفاضلات میانگین‌های به دست آمده به ازای هر جایگشت، در واقع توزیع اختلاف میانگین داده‌های گروه A و B با فرض درست بودن فرض صفر است. \n",
    "    اگر هیستوگرام این توزیع را رسم کنیم:</font>\n",
    "</div>"
   ]
  },
  {
   "cell_type": "code",
   "execution_count": 91,
   "metadata": {},
   "outputs": [
    {
     "data": {},
     "metadata": {},
     "output_type": "display_data"
    },
    {
     "data": {
      "image/png": "[encoded data removed]",
      "text/plain": [
       "plot without title"
      ]
     },
     "metadata": {},
     "output_type": "display_data"
    }
   ],
   "source": [
    "library(ggplot2)\n",
    "ggplot(as.data.frame(diffs), aes(x=diffs)) +\n",
    " geom_histogram(binwidth = 3, fill=I('blue')) +\n",
    " geom_vline(xintercept=obsDiff, color='red', size=1.5) + \n",
    "  labs(x='Difference in averages', y='Count', title='Histogram of Difference between Averages') \n",
    "\n"
   ]
  },
  {
   "cell_type": "markdown",
   "metadata": {},
   "source": [
    "<p></p>\n",
    "<div style=\"direction:rtl;line-height:300%;\">\n",
    "\t<font face=\"XB Zar\" size=5>\n",
    "در شکل بالا، خط قرمز، اختلاف میانگین‌ها در مشاهده اصلی را نشان می‌دهد. \n",
    "        p-value برابر است با احتمال اینکه اختلاف میانگین‌ها برابر یا بزرگتر از آن باشد، یعنی:\n",
    "    </font>\n",
    "</div>"
   ]
  },
  {
   "cell_type": "code",
   "execution_count": 92,
   "metadata": {},
   "outputs": [
    {
     "name": "stdout",
     "output_type": "stream",
     "text": [
      "[1] \"Calculated P-value is: 0.00655594405594406\"\n"
     ]
    }
   ],
   "source": [
    "greater = diffs[diffs >= obsDiff]\n",
    "pValue = length(greater) / numPerms\n",
    "print(paste0(\"Calculated P-value is: \", pValue))"
   ]
  },
  {
   "cell_type": "markdown",
   "metadata": {},
   "source": [
    "<p></p>\n",
    "<div style=\"direction:rtl;line-height:300%;\">\n",
    "\t<font face=\"XB Zar\" size=5>\n",
    "    مشاهده می‌کنیم که مقدار p-value به دست آمده، کمتر از $\\alpha=0.05$ است؛ بنابراین فرض صفر رد می‌شود یعنی طبق این داده‌ها، فیلترینگ تلگرام باعث کاهش بازدید از مطالب آن شده است.\n",
    "        <br>\n",
    "        <br>\n",
    "        سوالی که این‌جا مطرح می‌شود آن است که اگر مقدار P-valueی به دست‌آمده بیش‌تر از $\\alpha$ی تعیین‌شده بود آن‌گاه نتیجه‌ی آزمون چه بود؟ آیا می‌توانستیم بگوییم فرض صفر صحیح است و میزان بازدیدهای پست‌های تلگرام قبل و بعد از فیلترینگ آن تغییری نکرده؟ پاسخ این سوال خیر است. اگر بخواهیم دقیق باشیم، در صورتی که مقدار به دست‌آمده بیش‌تر از $\\alpha$ باشد تنها می‌توانیم بگوییم با انجام آزمون نتوانستیم فرض صفر را رد کنیم. با این حال آن را تأیید نیز نکردیم و ممکن است همین آزمایش با تعداد دادهٔ بیش‌تر یا حتی آمارهٔ مقایسهٔ دیگر منجر به رد فرض صفر شود.\n",
    "        <br>\n",
    "        <br>\n",
    "        خلاصه‌ای از مراحل بالا در <a href = \"https://www.jwilber.me/permutationtest/\">این لینک</a> و در انیمیشن زیر برای تست اثر یک نوع شامپو روی رشد پشم شتر لاما قابل مشاهده است.\n",
    "        <br>\n",
    "        <img src=\"figs/lama.gif\" style=\"float:center; width:65%\"/>\n",
    "        <br>\n",
    "        <br>\n",
    "        مراحل اجرای آزمون جایگشت قدم به قدم نشان داده شد. در زبان R، می‌توان با استفاده از پکیج coin و دستور oneway_test، این آزمون را به سادگی انجام داد:\n",
    "    </font>\n",
    "</div>"
   ]
  },
  {
   "cell_type": "code",
   "execution_count": 93,
   "metadata": {},
   "outputs": [
    {
     "data": {
      "text/plain": [
       "\tExact Two-Sample Fisher-Pitman Permutation Test\n",
       "data:  Views by Filtered (No, Yes)\n",
       "Z = 2.5695, p-value = 0.006556\n",
       "alternative hypothesis: true mu is not equal to 0\n"
      ]
     },
     "metadata": {},
     "output_type": "display_data"
    }
   ],
   "source": [
    "if(!require(coin)){install.packages(\"coin\")}\n",
    "library(coin)\n",
    "oneway_test(Views ~ Filtered, data=data, distribution='exact')"
   ]
  },
  {
   "cell_type": "markdown",
   "metadata": {},
   "source": [
    "<p></p>\n",
    "<div style=\"direction:rtl;line-height:300%;\">\n",
    "\t<font face=\"XB Zar\" size=5>\n",
    "    <font color=blue size=6>\n",
    "کنجکاوی:\n",
    "        </font>\n",
    "        در دستور بالا، پارامتر distribution=exact چه کاربردی دارد؟\n",
    "        به جای exact چه مقادیر دیگری می‌توان قرار داد؟\n",
    "</font>\n",
    "</div>"
   ]
  },
  {
   "cell_type": "markdown",
   "metadata": {},
   "source": [
    "<div style=\"direction:rtl;line-height:300%;\">\n",
    "\t<font face=\"XB Zar\" size=5>\n",
    "\t\t<font color=darkpink size=6>\n",
    "تمرین:\n",
    "        </font>\n",
    "    آزمون جایگشت را بر روی داده‌های A و B زیر اعمال کنید.\n",
    "</font>\n",
    "</div>\n",
    "\n"
   ]
  },
  {
   "cell_type": "code",
   "execution_count": 94,
   "metadata": {},
   "outputs": [],
   "source": [
    "A = c(40,42,39,57,53)\n",
    "B = c(63,62,51,64,75,78)\n",
    "testdata = data.frame(var = c(A, B),\n",
    "                    type = factor(c(rep(\"A\",5), rep(\"B\",6))))\n"
   ]
  },
  {
   "cell_type": "markdown",
   "metadata": {},
   "source": [
    "<p></p>\n",
    "<br/>\n",
    "<div id=\"sec_comparison\" style=\"direction:rtl;line-height:300%;\">\n",
    "\t<font face=\"XB Zar\" size=5>\n",
    "\t\t<p></p>\n",
    "        <font color=#FF7500 size=6>\n",
    "            مقایسه‌ی تست‌های پارامتریک و ناپارامتریک\n",
    "        </font>\n",
    "\t\t<hr>\n",
    "        دانستن کوهی از آزمون‌های فرض، هنگامی که ندانیم که در هر موقعیت از کدام آن‌ها استفاده کنیم، نه تنها مفید واقع نمی‌شود، بلکه ممکن \n",
    "است با استفاده‌ی غلط از این آزمون‌ها نتایج غلط و اشتباهی را استخراج کنیم و آن‌ها را به عنوان واقعیت در نظر بگیریم.\n",
    "تست‌های ناپارامتریک با فراگیر شدن کامپیوتر‌ها امکان‌پذیر شده‌اند و از لحاظ محاسباتی هزینه‌بر و گاهی غیرممکن هستند.\n",
    "چند نکته هست که همیشه در استفاده از تست‌های ناپارامتریک باید مورد توجه ما باشند.\n",
    "        <ul>\n",
    "            <li>\n",
    "               تست‌های ناپارامتریک معمولا وقتی مفید هستند که تعداد داده‌های ما اندک باشد. بسیاری از افراد فکر می‌کنند که تست‌های ناپارامتریک وقتی مفید هستند، که داده‌های ما از توزیع نرمال پیروی نکنند. در واقع عقیده‌ی عمومی بر این است که چون این تست‌ها توزیع نرمال را برای داده‌ها فرض نمی‌کنند، بنابراین وقتی داده‌ها از توزیع نرمال پیروی نمی‌کنند این تست‌ها انتخاب‌های بهتری هستند. اما در واقع وقتی تعداد نمونه‌های ما زیاد هستند، در بسیاری از موارد، به علت قانون حد مرکزی، تست‌های پارامتری هم بسیار دقیق عمل می‌کنند.\n",
    "            </li>\n",
    "            <li>\n",
    "                تست‌های ناپارامتری هنگامی که تعداد داده‌ها کم هستند و از توزیع نرمال پیروی نمی‌کنند، آزمون‌های بهتری هستند.\n",
    "            </li>\n",
    "            <li>\n",
    "                برای دیدن یک مقایسه‌ی جامع‌تر، مطالعه‌ی \n",
    "               <a href = \"http://statisticsbyjim.com/hypothesis-testing/nonparametric-parametric-tests/\">این</a> \n",
    "                لینک را به شما توصیه می‌کنیم.\n",
    "            </li>\n",
    "        </ul>\n",
    "        </font>\n",
    "</div>"
   ]
  },
  {
   "cell_type": "markdown",
   "metadata": {},
   "source": [
    "<p></p>\n",
    "<br/>\n",
    "<div id=\"sec_conc\" style=\"direction:rtl;line-height:300%;\">\n",
    "\t<font face=\"XB Zar\" size=5>\n",
    "\t\t<font color=#FF7500 size=6>\n",
    "خلاصه و نتیجه‌گیری\n",
    "        </font>\n",
    "\t\t<p></p>\n",
    "\t\t<hr>\n",
    "        در این بخش با موارد زیر آشنا شدیم:\n",
    "        <ul>\n",
    "            <li>\n",
    "            تفاوت آزمون‌های پارامتریک و غیر پارامتریک\n",
    "            <ul>\n",
    "                <li>\n",
    "                    کاربرد و زمان استفاده از هر کدام از آزمون‌ها\n",
    "                </li>\n",
    "                <li>\n",
    "                    تفاوت معنایی پارامتریک و غیرپارامتریک\n",
    "                </li>\n",
    "            </ul>\n",
    "            </li>\n",
    "            <li>\n",
    "            آزمون جایگشت به عنوان یک آزمون غیر پارامتریک\n",
    "            <ul>\n",
    "                <li>\n",
    "                    دسته‌بندی و آمارهٔ مقایسه دسته‌ها\n",
    "                </li>\n",
    "                <li>\n",
    "                    فرآیند تولید جایگشت‌ها و آماره‌ها\n",
    "                </li>\n",
    "                <li>\n",
    "                    شرایط رد یا عدم رد کردن فرض صفر\n",
    "                </li>\n",
    "            </ul>\n",
    "            </li>\n",
    "            <li>\n",
    "            پیاده‌سازی آزمون جایگشت در R\n",
    "            </li>\n",
    "        </ul>\n",
    "\t</font>\n",
    "</div>"
   ]
  },
  {
   "cell_type": "markdown",
   "metadata": {},
   "source": [
    "<p></p>\n",
    "<br/>\n",
    "<div id=\"sec_refs\" style=\"direction:rtl;line-height:300%;\">\n",
    "\t<font face=\"XB Zar\" size=5>\n",
    "\t\t<font color=#FF7500 size=6>\n",
    "منابع\n",
    "        </font>\n",
    "\t\t<hr>       \n",
    "        <ul>\n",
    "            <li>\n",
    "                http://statweb.stanford.edu/~joftius/slides/nonpara.pdf\n",
    "            </li>\n",
    "            <li>\n",
    "                https://en.wikipedia.org/wiki/Resampling_(statistics)#Permutation_tests\n",
    "            </li>\n",
    "            <li>    https://thomasleeper.com/Rcourse/Tutorials/permutationtests.html\n",
    "            </li>\n",
    "            <li>\n",
    "                http://rcompanion.org/handbook/K_01.html\n",
    "            </li>\n",
    "            <li>\n",
    "کانال تلگرام \"تلگرافی\" آزمایشگاه شبکه‌های اجتماعی دانشکده برق و کامپیوتر دانشگاه تهران                </li>\n",
    "        </ul>\n",
    "\t</font>\n",
    "</div>"
   ]
  },
  {
   "cell_type": "code",
   "execution_count": null,
   "metadata": {},
   "outputs": [],
   "source": []
  }
 ],
 "metadata": {
  "kernelspec": {
   "display_name": "R",
   "language": "R",
   "name": "ir"
  },
  "language_info": {
   "codemirror_mode": "r",
   "file_extension": ".r",
   "mimetype": "text/x-r-source",
   "name": "R",
   "pygments_lexer": "r",
   "version": "4.3.1"
  },
  "latex_envs": {
   "LaTeX_envs_menu_present": true,
   "autoclose": false,
   "autocomplete": true,
   "bibliofile": "biblio.bib",
   "cite_by": "apalike",
   "current_citInitial": 1,
   "eqLabelWithNumbers": true,
   "eqNumInitial": 1,
   "hotkeys": {
    "equation": "Ctrl-E",
    "itemize": "Ctrl-I"
   },
   "labels_anchors": false,
   "latex_user_defs": false,
   "report_style_numbering": false,
   "user_envs_cfg": false
  },
  "toc": {
   "base_numbering": 1,
   "nav_menu": {},
   "number_sections": true,
   "sideBar": true,
   "skip_h1_title": false,
   "title_cell": "Table of Contents",
   "title_sidebar": "Contents",
   "toc_cell": false,
   "toc_position": {},
   "toc_section_display": true,
   "toc_window_display": false
  },
  "varInspector": {
   "cols": {
    "lenName": 16,
    "lenType": 16,
    "lenVar": 40
   },
   "kernels_config": {
    "python": {
     "delete_cmd_postfix": "",
     "delete_cmd_prefix": "del ",
     "library": "var_list.py",
     "varRefreshCmd": "print(var_dic_list())"
    },
    "r": {
     "delete_cmd_postfix": ") ",
     "delete_cmd_prefix": "rm(",
     "library": "var_list.r",
     "varRefreshCmd": "cat(var_dic_list()) "
    }
   },
   "types_to_exclude": [
    "module",
    "function",
    "builtin_function_or_method",
    "instance",
    "_Feature"
   ],
   "window_display": false
  }
 },
 "nbformat": 4,
 "nbformat_minor": 4
}
