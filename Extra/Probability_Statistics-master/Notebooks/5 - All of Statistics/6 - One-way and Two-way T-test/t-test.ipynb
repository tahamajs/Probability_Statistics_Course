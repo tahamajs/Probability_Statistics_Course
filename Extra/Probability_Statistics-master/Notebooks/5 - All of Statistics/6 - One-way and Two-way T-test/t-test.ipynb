{
 "cells": [
  {
   "cell_type": "markdown",
   "metadata": {},
   "source": [
    "<div style=\"direction:rtl;line-height:300%;\">\n",
    "\t<font face=\"XB Zar\" size=5>\n",
    "\t\t<div align=center>\n",
    "\t\t\t<font face=\"IranNastaliq\" size=30>\n",
    "\t\t\t\t<p></p>\n",
    "\t\t\t\t<p></p>\n",
    "به نام خدا\n",
    "\t\t\t\t<p></p>\n",
    "\t\t\t</font>\n",
    "\t\t\t<font color=#FF7500>\n",
    "دانشگاه صنعتی شریف - دانشکده مهندسی کامپیوتر\n",
    "            </font>\n",
    "\t\t\t<p></p>\n",
    "\t\t\t<font color=blue>\n",
    "آمار و احتمال مهندسی\n",
    "            </font>\n",
    "\t\t\t<br />\n",
    "\t\t\t<br />\n",
    "پاییز ۱۳۹٨\n",
    "\t\t</div>\n",
    "\t\t<hr/>\n",
    "\t\t<font color=red size=6>\n",
    "\t\t\t<br />\n",
    "\t\t\t<div align=center>\n",
    "شبنم شیخها - سروش تسلیمی - ایمان علیپور\n",
    "            </div>\n",
    "\t\t</font>\n",
    "\t\t<hr />\n",
    "\t\t<style type=\"text/css\" scoped>\n",
    "        p{\n",
    "        border: 1px solid #a2a9b1;background-color: #f8f9fa;display: inline-block;\n",
    "        };\n",
    "        </style>\n",
    "\t\t<div>\n",
    "\t\t\t<h3>فهرست مطالب</h3>\n",
    "\t\t\t<ul style=\"margin-right: 0;\">\n",
    "                <li>\n",
    "\t\t\t\t\t<a href=\"#sec_intro\">\n",
    "                        مقدمه\n",
    "                    </a>\n",
    "\t\t\t\t</li>\n",
    "                <li>\n",
    "\t\t\t\t\t<a href=\"#sec_problem\">\n",
    "                        صورت مسئله\n",
    "                    </a>\n",
    "\t\t\t\t</li>\n",
    "                <li>\n",
    "\t\t\t\t\t<a href=\"#sec_t_test\">\n",
    "                        آزمون تی\n",
    "                    </a>\n",
    "\t\t\t\t</li>\n",
    "                <li>\n",
    "\t\t\t\t\t<a href=\"#sec_jam_again\">\n",
    "بازگشت به مسئله مربا\n",
    "                    </a>\n",
    "\t\t\t\t</li>\n",
    "                <li>\n",
    "\t\t\t\t\t<a href=\"#sample_problems\">\n",
    "چند مسئله\n",
    "                    </a>\n",
    "\t\t\t\t</li>\n",
    "                <li>\n",
    "\t\t\t\t\t<a href=\"#sec_conc\">\n",
    "خلاصه و نتیجه‌گیری\n",
    "                    </a>\n",
    "\t\t\t\t</li>\n",
    "                                <li>\n",
    "\t\t\t\t\t<a href=\"#sec_refs\">\n",
    "منابع\n",
    "                    </a>\n",
    "\t\t\t\t</li>\n",
    "\t\t\t</ul>\n",
    "\t\t</div>\n",
    "\t</font>\n",
    "</div>"
   ]
  },
  {
   "cell_type": "markdown",
   "metadata": {},
   "source": [
    "<p></p>\n",
    "<br />\n",
    "<div id=\"sec_intro\" style=\"direction:rtl;line-height:300%;\">\n",
    "\t<font face=\"XB Zar\" size=5>\n",
    "\t\t<font color=#FF7500 size=6>\n",
    "مقدمه\n",
    "        </font>\n",
    "\t\t<p></p>\n",
    "\t\t<hr>\n",
    "              به عنوان یک دانشجوی خسته، مخصوصا اگر به دور از خانواده زندگی می‌کنید، احتمالا بیشتر روزهای هفته با سفارش غذا از بیرون زنده می‌مانید. مدت زمان ارسال غذا باید برایتان مهم باشد. تبلیغِ (خیلی مینیمال) زیر را برای پیتزافروشی جدیدی که در محله‌تان باز شده‌است می‌بینید:\n",
    "              <img src = \"res/pizza.png\">\n",
    "              <br>\n",
    "                           یک بار از رستوران سفارش می‌دهید و می‌بینید ۴۰ دقیقه طول کشید. به حرف رستوران اندکی شک می‌کنید. از کجا می‌توانید بفهمید که آیا بد شانسی آوردید و واقعا زمان ارسال رستوران ۳۰ دقیقه است، یا اینکه رستوران - برخلاف همه‌ی تبلیغات سراسر جهان - دروغ می‌گوید؟\n",
    "\t</font>\n",
    "</div>"
   ]
  },
  {
   "cell_type": "markdown",
   "metadata": {},
   "source": [
    "<p></p>\n",
    "<br />\n",
    "<div id=\"sec_problem\" style=\"direction:rtl;line-height:300%;\">\n",
    "\t<font face=\"XB Zar\" size=5>\n",
    "\t\t<font color=#FF7500 size=6>\n",
    "صورت مسئله\n",
    "        </font>\n",
    "\t\t<p></p>\n",
    "\t\t<hr>\n",
    "        فرض کنید خیلی  <s>جوگیر</s>  پیگیر شدید و خواستید ببینید این رستوران راست می‌گوید یا نه. به مدت یک ماه هر روز از آن پیتزا سفارش می‌دهید تا در آخر ماه (اگر به امید خدا سکته‌ی قلبی نکردید) بر حسب زمان‌هایی که ثبت کرده‌اید ادعای رستوران را آزمایش کنید.\n",
    "        <br>\n",
    "        داده‌هایی که جمع ‌آوری کرده‌اید به صورت زیر است:\n",
    "        </font>\n",
    "</div>"
   ]
  },
  {
   "cell_type": "code",
   "execution_count": 1,
   "metadata": {},
   "outputs": [
    {
     "data": {
      "text/html": [
       "<style>\n",
       ".list-inline {list-style: none; margin:0; padding: 0}\n",
       ".list-inline>li {display: inline-block}\n",
       ".list-inline>li:not(:last-child)::after {content: \"\\00b7\"; padding: 0 .5ex}\n",
       "</style>\n",
       "<ol class=list-inline><li>38</li><li>56.2</li><li>40.2</li><li>45.5</li><li>43.7</li><li>41.5</li><li>30.3</li><li>46.3</li><li>35.1</li><li>49.3</li><li>35.4</li><li>40.1</li><li>40.5</li><li>35.8</li><li>42</li><li>31.1</li><li>39.8</li><li>41.6</li><li>41.6</li><li>32.8</li><li>50.1</li><li>26.8</li><li>40.9</li><li>44.7</li><li>39.3</li><li>36.5</li><li>33.9</li><li>36.1</li><li>44.7</li><li>39.9</li></ol>\n"
      ],
      "text/latex": [
       "\\begin{enumerate*}\n",
       "\\item 38\n",
       "\\item 56.2\n",
       "\\item 40.2\n",
       "\\item 45.5\n",
       "\\item 43.7\n",
       "\\item 41.5\n",
       "\\item 30.3\n",
       "\\item 46.3\n",
       "\\item 35.1\n",
       "\\item 49.3\n",
       "\\item 35.4\n",
       "\\item 40.1\n",
       "\\item 40.5\n",
       "\\item 35.8\n",
       "\\item 42\n",
       "\\item 31.1\n",
       "\\item 39.8\n",
       "\\item 41.6\n",
       "\\item 41.6\n",
       "\\item 32.8\n",
       "\\item 50.1\n",
       "\\item 26.8\n",
       "\\item 40.9\n",
       "\\item 44.7\n",
       "\\item 39.3\n",
       "\\item 36.5\n",
       "\\item 33.9\n",
       "\\item 36.1\n",
       "\\item 44.7\n",
       "\\item 39.9\n",
       "\\end{enumerate*}\n"
      ],
      "text/markdown": [
       "1. 38\n",
       "2. 56.2\n",
       "3. 40.2\n",
       "4. 45.5\n",
       "5. 43.7\n",
       "6. 41.5\n",
       "7. 30.3\n",
       "8. 46.3\n",
       "9. 35.1\n",
       "10. 49.3\n",
       "11. 35.4\n",
       "12. 40.1\n",
       "13. 40.5\n",
       "14. 35.8\n",
       "15. 42\n",
       "16. 31.1\n",
       "17. 39.8\n",
       "18. 41.6\n",
       "19. 41.6\n",
       "20. 32.8\n",
       "21. 50.1\n",
       "22. 26.8\n",
       "23. 40.9\n",
       "24. 44.7\n",
       "25. 39.3\n",
       "26. 36.5\n",
       "27. 33.9\n",
       "28. 36.1\n",
       "29. 44.7\n",
       "30. 39.9\n",
       "\n",
       "\n"
      ],
      "text/plain": [
       " [1] 38.0 56.2 40.2 45.5 43.7 41.5 30.3 46.3 35.1 49.3 35.4 40.1 40.5 35.8 42.0\n",
       "[16] 31.1 39.8 41.6 41.6 32.8 50.1 26.8 40.9 44.7 39.3 36.5 33.9 36.1 44.7 39.9"
      ]
     },
     "metadata": {},
     "output_type": "display_data"
    }
   ],
   "source": [
    "data = read.csv(\"res/pizza-times.csv\")\n",
    "data[,]"
   ]
  },
  {
   "cell_type": "markdown",
   "metadata": {},
   "source": [
    "<div style=\"direction:rtl;line-height:300%;\">\n",
    "\t<font face=\"XB Zar\" size=5>\n",
    "    برای به دست آوردن شهود بهتر نمودار توزیع احتمال آن را رسم می‌کنیم:\n",
    "\t</font>\n",
    "</div>"
   ]
  },
  {
   "cell_type": "code",
   "execution_count": 2,
   "metadata": {},
   "outputs": [
    {
     "data": {
      "image/png": "[encoded data removed]",
      "text/plain": [
       "plot without title"
      ]
     },
     "metadata": {
      "image/png": {
       "height": 420,
       "width": 420
      }
     },
     "output_type": "display_data"
    }
   ],
   "source": [
    "library(ggplot2)\n",
    "ggplot(data, aes(x = times)) + geom_density(alpha = 0.5, fill = 'red') + theme_minimal()"
   ]
  },
  {
   "cell_type": "markdown",
   "metadata": {},
   "source": [
    "<br />\n",
    "<div style=\"direction:rtl;line-height:300%;\">\n",
    "\t<font face=\"XB Zar\" size=5>\n",
    "    با توجه به نمودار می‌توانیم حدس بزنیم که میانگین اطراف ۴۰ دقیقه است. \n",
    "    </font>\n",
    "</div>"
   ]
  },
  {
   "cell_type": "code",
   "execution_count": 3,
   "metadata": {},
   "outputs": [
    {
     "data": {
      "text/html": [
       "39.99"
      ],
      "text/latex": [
       "39.99"
      ],
      "text/markdown": [
       "39.99"
      ],
      "text/plain": [
       "[1] 39.99"
      ]
     },
     "metadata": {},
     "output_type": "display_data"
    }
   ],
   "source": [
    "mean(data$times)"
   ]
  },
  {
   "cell_type": "markdown",
   "metadata": {},
   "source": [
    "<div style=\"direction:rtl;line-height:300%;\">\n",
    "\t<font face=\"XB Zar\" size=5>\n",
    "    آیا می‌توانیم نتیجه بگیریم زمان ارسال رستوران ۳۰ دقیقه نیست؟ اگر میانگین ارسال برابر با ۳۲ دقیقه می‌شد چطور؟‌\n",
    "    <br/><b>\n",
    "توجه می‌کنیم که هر کدام از مقادیر اندازه‌گیری شده نمونه‌هایی از یک متغیر تصادفی بوده‌اند. پس آیا ممکن است این اختلاف ناشی از واریانس نمونه‌برداری بوده‌باشند؟\n",
    "        </b>\n",
    "    </font>\n",
    "</div>"
   ]
  },
  {
   "cell_type": "markdown",
   "metadata": {},
   "source": [
    "<div style=\"direction:rtl;line-height:300%;\">\n",
    "\t<font face=\"XB Zar\" size=5>\n",
    "    در اینجا ما با دو فرض زیر روبرو هستیم.\n",
    "    <ul>\n",
    "            <li>\n",
    "            میانگین زمان ارسال رستوران ۳۰ دقیقه است.\n",
    "            </li>\n",
    "            <li>\n",
    "            میانگین زمان ارسال رستوران بیشتر از ۳۰ دقیقه است. \n",
    "            </li>\n",
    "        </ul>\n",
    "        <br>\n",
    "        البته می‌توانستیم فرض دوم را \"زمان ارسال رستوران کمتر از ۳۰ دقیقه است\" یا \"۳۰ دقیقه نیست\" در نظر بگیریم، ولی \"بیشتر از ۳۰ دقیقه است\" در این مثال منطقی‌تر است.\n",
    "    </font>\n",
    "</div>"
   ]
  },
  {
   "cell_type": "markdown",
   "metadata": {},
   "source": [
    "<p></p>\n",
    "<br />\n",
    "<div id=\"sec_t_test\" style=\"direction:rtl;line-height:300%;\">\n",
    "\t<font face=\"XB Zar\" size=5>\n",
    "\t\t<font color=#FF7500 size=6>\n",
    "آزمون تی\n",
    "        </font>\n",
    "\t\t<p></p>\n",
    "\t\t<hr>\n",
    "    تی تست یک آزمون فرضی برای نمونه‌های آماری با تعداد کم است. این آزمون توسط ویلیام گوست (William Gosset) پیشنهاد شد. او آن را تحت نام “دانشجو” ثبت کرد، به همین دلیل به آن آزمونِ تیِ دانشجو نیز می‌گویند.\n",
    "    <br /> <br>\n",
    "        \tتی تست انواع مختلفی دارد، ولی به صورت کلی <i>فرض صفر</i> آن این است که هر اختلاف مشاهده شده‌ای، تصادفی و به علت شانس رخ داده‌است در‌حالی‌که فرض دیگر کاملا مخالف این است. \n",
    "    <br /> <br>\n",
    "</font>\n",
    "</div>"
   ]
  },
  {
   "cell_type": "markdown",
   "metadata": {},
   "source": [
    "<div style=\"direction:rtl;line-height:300%;\">\n",
    "\t<font face=\"XB Zar\" size=5>\n",
    "سه نوع متداول‌تر تی‌تست عبارت‌اند از:\n",
    "        <ol>\n",
    "            <li>\n",
    "                آزمون تی مستقل (Independent Samples t-test):\n",
    "                <br>\n",
    "                این آزمون، میانگین دو گروه مستقل از هم را با هم مقایسه می‌کند. مثال:\n",
    "                <br>\n",
    "                <ul>\n",
    "                    <li>\n",
    "                        میانگین دختر‌ها و پسر‌ها در ریاضیات \n",
    "                    </li>\n",
    "                    <li>\n",
    "                        میانگین قند خون افرادی که روزانه یک شیرینی خامه‌ای می‌خورند و افرادی که نمی‌خورند. \n",
    "                    </li>\n",
    "                    <li>\n",
    "                        و ...\n",
    "                    </li>   \n",
    "                </ul>\n",
    "            </li>\n",
    "            <li>\n",
    "                آزمون تی وابسته یا زوجی (Paired/Dependent Sample t-test):\n",
    "                <br>\n",
    "                \tاین آزمون، میانگین یک گروه را،‌ در دو شرایط مختلف با هم مقایسه میکند. مثال:\n",
    "                   <br>\n",
    "                   <ul>\n",
    "                    <li>\n",
    "                        \tمیانگین افراد در ریاضیات قبل و بعد از استفاده از  <a href=“http://www.lumosity.com”>lumosity</a>  به مدت یک ماه\n",
    "                    </li>\n",
    "                    <li>\n",
    "                        میانگین فشار خون افراد بعد و قبل گذراندن یک دوره‌ی ورزشی خاص \n",
    "                    </li>\n",
    "                    <li>\n",
    "                        و ...\n",
    "                    </li>   \n",
    "                    در واقع این آزمون زمانی استفاده می‌شود که هر عضو مورد آزمایش در هر دو نمونه‌ی آماری باشد.\n",
    "                </ul>               \n",
    "            </li>\n",
    "            <li>\n",
    "                 آزمون تی تک‌نمونه‌ای(One Sample t-test):\n",
    "                <br>\n",
    "                این آزمون، میانگین یک گروه را، با یک مقدار مشخص مقایسه می‌کند. \n",
    "مثال:\n",
    "                <ul>\n",
    "                    <li>\n",
    "\tمیانگین وزن ماشین‌های یک مدل\n",
    "                    </li>\n",
    "                    <li>\n",
    "\tمیانگین زمان لازم برای آماده‌سازی یک غذا توسط رستوران\n",
    "                    </li>\n",
    "                    <li>\n",
    "                        و ...\n",
    "                    </li>   \n",
    "                </ul>\n",
    "            </li>\n",
    "        </ol>\n",
    "</font>\n",
    "</div>  "
   ]
  },
  {
   "cell_type": "markdown",
   "metadata": {},
   "source": [
    "<p></p>\n",
    "<br />\n",
    "<div id=\"sec_t_test\" style=\"direction:rtl;line-height:300%;\">\n",
    "\t<font face=\"XB Zar\" size=5>\n",
    "\t\t<font color=#FF7500 size=6>\n",
    "        </font>\n",
    "\t\t<p></p>\n",
    "\t\t<hr>\n",
    "        تست تی یک ترم آماریست که اجازه می دهد دو جامعه‌ی آماری و میانگین آنها را مقایسه کنیم. این تست برای مشاهده‌ی وجود تفاوت عمده بین توزیع داده ها به کار می‌رود.\n",
    "        برای این کار فرض صفری در نظر میگیریم تا این تفاوت را مورد تست قرار دهیم. علاوه بر این داده ها برای مورد تست قرار گرفتن می‌بایستی از توزیع نرمال \n",
    "        یا مشابه آن پیروی کنند. بعد از در نظر گرفتن فرض صفر که برای مثال، یکسان بودن میانگین دو توزیع در نظر می گیریم، این تست با توجه به\n",
    "        T-statistics\n",
    "        و\n",
    "        T-distribution\n",
    "        یک مقدار پی\n",
    "        (p-value)\n",
    "        برای آزمون تعیین می کند که فرض صفر را با آن رد می‌کنیم یا مورد تایید قرار می دهیم.\n",
    "        <br>\n",
    "        آزمون تی یکی از آزمون های آماری است که برای تست کردن فرض به کار می رود.\n",
    "        از آزمون های دیگر در این راستا می توان به آزمون های\n",
    "        Analysis of Variance test, Z-test, Chi-Square test \n",
    "        و F-test اشاره کرد.\n",
    "        برای مثال آزمون تی برای دسته هایی از داده های کوچک مناسب است در حالی که برای تست کردن داده های حجیم تر از \n",
    "        Z-test \n",
    "        استفاده می شود.\n",
    "    <br /> <br>\n",
    "</font>\n",
    "</div>"
   ]
  },
  {
   "cell_type": "markdown",
   "metadata": {},
   "source": [
    "<div style=\"direction:rtl;line-height:300%;\">\n",
    "\t<font face=\"XB Zar\" size=5>\n",
    "<font color=blue>\n",
    "        نکته.\n",
    "        </font>\n",
    "         در همه‌ی انواع آزمون‌های تی، فرض صفر این است که دو میانگین با هم برابرند. یعنی مثلا در آزمون تک‌نمونه‌ای داریم $H_0: \\mu = \\mu_0$. فرض دیگر یکی از سه حالت زیر می‌باشد: \n",
    "        <br>\n",
    "        <ul>\n",
    "            <li>\n",
    "                $\\quad left~/~lower~tailed~t-test: \\mu < \\mu_0$\n",
    "            </li>\n",
    "            <li>\n",
    "                $\\quad right~/~upper~tailed~t-test: \\mu > \\mu_0$\n",
    "            </li>\n",
    "            <li>\n",
    "                $\\quad two~tailed~t-test: \\mu \\neq \\mu_0$\n",
    "            </li>\n",
    "        </ul>\n",
    "        دو حالت اول، تست‌های یک‌ طرفه (one tailed t-test) هستند، در حالی‌که حالت سوم تست دو طرفه است. \n",
    "        <br>\n",
    "</font>\n",
    "</div>  "
   ]
  },
  {
   "cell_type": "markdown",
   "metadata": {},
   "source": [
    "<div style=\"direction:rtl;line-height:300%;\">\n",
    "\t<font face=\"XB Zar\" size=5>\n",
    "    <hr><hr>\n",
    "حال که با انواع تی‌تست آشنا شدید، شاید خیلی شاد شوید و پیش خود فکر کنید که برای همه‌ی شرایط می‌توانید از آن استفاده کنید و بهترین جواب ممکن را خواهید گرفت. اگر اینطور بود جزوه همینجا تمام می‌شد. ولی متاسفانه (یا خوشبختانه؟) اینطور نیست.\n",
    "<br>\n",
    "پس برای استفاده از تی‌تست چه شرایطی باید برقرار باشد؟ \n",
    "<br>\n",
    "  <br>\n",
    "متغیر تصادفی تحت آزمایش ...\n",
    "         <ol>\n",
    "             <li>\n",
    "                 باید پیوسته باشد.\n",
    "             </li>\n",
    "             <li>\n",
    "                 باید توزیع تقریبا نرمال داشته باشد.  \n",
    "             </li>\n",
    "             <li>\n",
    "                 نباید شامل داده‌های پرت باشد. \n",
    "             </li>\n",
    "         </ol>\n",
    "         هم‌چنین مشاهدات اندازه‌گیری شده باید مستقل از هم باشند.\n",
    "         <br>\n",
    "         چگونه باید این موارد را تشخیص دهیم؟\n",
    "         <br>\n",
    "    </font>\n",
    "</div>  \n"
   ]
  },
  {
   "cell_type": "markdown",
   "metadata": {},
   "source": [
    "<div style=\"direction:rtl;line-height:300%;\">\n",
    "\t<font face=\"XB Zar\" size=5>\n",
    "<u>تشخیص پیوسته بودن</u> یک متغیر تصادفی بسیار راحت است. کافیست این را چک کنیم که آیا این متغیر میتواند هر مقدار دلخواهی را به خود بگیرد، یا فقط مقادیر خاص و محدودی را میتواند داشته باشد. \n",
    "          <br><br>\n",
    "          \tبرای <u>تشخیص نرمال بودن</u> توزیع متغیر تصادفی راه‌های متعددی وجود دارد. یکی از این راه‌ها این است که هیستوگرام داده‌ها را رسم کنیم و به صورت چشمی تشخیص بدهیم که نرمال است یا نه. در یک دنیای واقعی، داده‌ها تقریبا هیچ‌وقت کاملا نرمال نیستند، ولی اگر شکل نمودار هیستوگرام آن نسبتا قرینه و به شکل زنگوله باشد می‌توان آن را نرمال تصور کرد. \n",
    "<br><br>\n",
    "<font color=red>\n",
    "تمرین:\n",
    "        </font>\n",
    "        <br>\n",
    "           دو روش دیگر برای تشخیص نرمال بودن داده‌ها در اینترنت سرچ کنید. \n",
    "  <br><br>\n",
    "  \tبرای اینکه تشخیص بدهیم آیا متغیر تصادفی شامل <u>داده‌های پرت</u> است یا نه، ابتدا داده‌ی پرت را تعریف می‌کنیم. داده‌ی پرت داده‌ای است که بسیار شدیدتر از حالت عادی داده‌ها باشد.\n",
    "    <br>\n",
    "    مثلا ممکن است پیک رستوران در راه ارسال سفارش تصادف کند و مدت زمان ارسال یکی از سفارش‌ها ۲ ساعت ثبت شده‌باشد. این داده یک داده‌ی معمول نیست. این داده را می‌توانیم حذف کنیم  البته دقت کنید که صرفا چون مقدار یک داده‌ شدید است دلیل نمی‌شود آن داده، پرت باشد. مثلا اگر روزانه ارسال یکی از سفارش‌ها ۲ ساعت طول بکشد، این داده‌ها برای انجام آزمون فرض مهم هستند. \n",
    "    <br>\n",
    "    \tبرای بررسی نحوه‌ی پراکندگی داده‌ها در یک نمونه می‌توانیم از نمودار جعبه‌ای استفاده کنیم. به نظرتان از دو نمودار جعبه‌ای زیر، کدام یک شامل داده‌ی پرت می‌باشد؟\n",
    "        <br>\n",
    "        <img src = \"res/boxplot.png\">\n",
    "        <br> <br>\n",
    "        معمولا نمی‌توانیم <u>مستقل بودن مشاهدات</u> را بررسی کنیم. به صورت کلی، اگر داده‌ها تصادفی و بدون جایگزینی انتخاب شده باشند می‌توانیم تصور کنیم مستقل از هم هستند. \n",
    "        <br> \n",
    "    </font>\n",
    "</div>  "
   ]
  },
  {
   "cell_type": "markdown",
   "metadata": {},
   "source": [
    "<div style=\"direction:rtl;line-height:300%;\">\n",
    "\t<font face=\"XB Zar\" size=5>\n",
    "        <hr> <hr>\n",
    "        <br>\n",
    "        \tبه صورت کلی آزمون تی، با انجام یک سری عملیات روی داده‌های جمع‌آوری شده، همه‌ی آنها را در یک مقدار $t-value$ خلاصه می‌کند. $t-value$ از توزیعی به نام توزیع دانشجو (Student’s t distribution) پیروی می‌کنند. توزیع دانشجو، شامل خانواده‌ای از خم‌هاست که با تغییر درجه‌ی آزادی، شکل خم نیز تغییر می‌کند. درجه‌ی آزادی، تعداد مشاهدات مستقل در نمونه‌ی آماری منهای یک است. هر چقدر درجه‌ی آزادی بیشتر باشد، توزیع دانشجو بیشتر به توزیع نرمال نزدیک می‌شود. برای اطلاعات بیشتر می‌توانید <a href = \"https://en.wikipedia.org/wiki/Student%27s_t-distribution\"> پیج ویکیپدیا</a> این توزیع را مطالعه کنید. \n",
    "           همچنین برای مشاهده و بررسی نمودار این توزیع، می‌توانید \n",
    "           <a href = \"http://rpsychologist.com/d3/tdist/\">اینجا</a>\n",
    "            و \n",
    "           <a href = \"https://homepage.divms.uiowa.edu/~mbognar/applets/t.html\">اینجا</a>\n",
    "            را ببینید.\n",
    "            <br> <br>\n",
    "            حال به ریاضیات پشت این آزمون می‌پردازیم. چگونه $t-value$ را محاسبه کنیم؟ \n",
    "            </font>\n",
    "            </div>"
   ]
  },
  {
   "cell_type": "markdown",
   "metadata": {},
   "source": [
    "<div style=\"direction:rtl;line-height:300%;\">\n",
    "\t<font face=\"XB Zar\" size=5>\n",
    "    <br>\n",
    "            در اینجا فرمول‌های حالت تک‌نمونه‌ای را شرح می‌دهیم. به علت شباهت دو حالت دیگر و پرهیز از طولانی‌ (تر!) شدن این بخش، بررسی دو حالت دیگر را بر عهده‌ی خود دانشجو قرار می‌دهیم. \n",
    "            <br>\n",
    "            <br>\n",
    "            \tمقدار $t-value$ به صورت زیر محاسبه می‌شود:\n",
    "                <br>\n",
    "                $$ t = \\frac{\\overline{x} - \\mu_0}{\\sqrt{s^2/n}} \\\\ \\\\\n",
    "                    \\overline{x} = \\frac{1}{n}\\sum_{i = 1}^n{x_i} \\quad \\quad\n",
    " s^2 = \\frac{\\sum_{i = 1}^n(x - \\overline{x})^2}{n - 1}\n",
    "                $$ \n",
    "                <br>\n",
    "                \tمقدار $\\overline{x}$ میانگین، $s^2$ واریانس و $n$ اندازه‌‌ی نمونه‌ی ‌آماری است.\n",
    "                    <br>\n",
    "        در این بخش سعی می‌کنیم اندکی شهود نسبت به فرمول محاسبه‌ی $t-value$ ایجاد کنیم. صورت کسر را در نظر بگیرید. این مقدار تفاوت میانگین داده نسبت به میانگین پیش‌بینی شده‌است. آن را سیگنال فرض ‌کنید. حال به مخرج کسر نگاه کنید. برای محاسبه‌ی این مقدار از واریانس نمونه استفاده شده‌است. در واقع این مقدار، معیاری از پراکندگی و تنوع در داده‌ها است. می‌توانیم آن را نویز فرض کنیم.\n",
    "        <br>\n",
    "        <br>\n",
    "        کسر را می‌توانیم نسبتِ سیگنال به نویز فرض کنیم. هر چقدر سیگنال نسبت به نویز بیشتر باشد، مقدار کسر بیشتر می‌شود. پس یعنی فاصله‌ی $\\overline{x}$ نسبت به $\\mu_0$ را نمی‌توان با استفاده از واریانس داده‌ها توجیح کرد. اگر نویز نسبت به سیگنال بیشتر باشد، مقدار کسر کمتر می‌شود. پس می‌توان فاصله‌ی $\\overline{x}$ نسبت به $\\mu_0$ را به حساب پراکندگیِ داده‌ها گذاشت. \n",
    "<br><br>\n",
    "مثلا در صورتی‌که $t-value$ برابر با صفر شود، یعنی $\\overline{x} = \\mu_0$ شده است که یعنی میانگین نمونه دقیقا برابر با مقدار پیشنهاد شده است. البته واضح است که چنین اتفاقی در واقعیت غیر ممکن است. \f",
    "<br>\n",
    "</font>\n",
    "</div>"
   ]
  },
  {
   "cell_type": "markdown",
   "metadata": {},
   "source": [
    "<div style=\"direction:rtl;line-height:300%;\">\n",
    "\t<font face=\"XB Zar\" size=5>\n",
    "<hr><hr>\n",
    "<br>\n",
    "در نهایت چگونه با استفاده از $t-value$ محاسبه شده نتیجه‌ی آزمون فرض را گزارش دهیم؟ به یاد بیاورید که گفتیم متناظر با هر درجه‌ی آزادی یک نمودار برای توزیع دانشجو وجود دارد (در داده‌های کم‌تعداد). با استفاده از جدول توزیع مربوطه، میتوانید $p-value$\n",
    "متناظر با درجه‌ی آزادی و $t-value$ موردنظر را بیابید. در اسلایدی دیگر کامل نحوه‌ی تفسیر $p-value$ را توضیح داده‌ایم. \n",
    "\t</font>\n",
    "</div>\n",
    "\n"
   ]
  },
  {
   "cell_type": "markdown",
   "metadata": {},
   "source": [
    "<p></p>\n",
    "<br />\n",
    "<div id=\"sec_jam_again\" style=\"direction:rtl;line-height:300%;\">\n",
    "\t<font face=\"XB Zar\" size=5>\n",
    "\t\t<font color=#FF7500 size=6>\n",
    "بازگشت به مسئله‌ی پیتزا\n",
    "        </font>\n",
    "\t\t<p></p>\n",
    "\t\t<hr>\n",
    "        قبل از اینکه آزمون تی را در R اجرا کنیم باید بررسی کنیم که آیا مسئله شرایط لازم را دارا می‌باشد یا خیر؟\n",
    "        <br>\n",
    "        <ul>\n",
    "        <li>\n",
    "            داده پیوسته باشد\n",
    "            <br>\n",
    "            زمان متغیری پیوسته است.\n",
    "        </li>\n",
    "        <li>\n",
    "            توزیع داده نرمال باشد\n",
    "            <br>\n",
    "            در قسمت‌های قبل نمودار توزیع احتمال داده را رسم کردیم. اگر به نمودار نگاه کنید میبینید که هم قرینه است و هم تقریبا شبیه به زنگوله.\n",
    "        </li>\n",
    "        <li>\n",
    "           داده شامل داده‌های پرت نباشد \n",
    "           <br>\n",
    "           نمودار جعبه‌ای آن را رسم می‌کنیم:\n",
    "        </li>\n",
    "        </ul>\n",
    "        </font>\n",
    "</div>"
   ]
  },
  {
   "cell_type": "code",
   "execution_count": 9,
   "metadata": {},
   "outputs": [
    {
     "data": {},
     "metadata": {},
     "output_type": "display_data"
    },
    {
     "data": {
      "image/png": "[encoded data removed]",
      "text/plain": [
       "plot without title"
      ]
     },
     "metadata": {},
     "output_type": "display_data"
    }
   ],
   "source": [
    "ggplot(data, aes(x = \"\", y = times)) + \n",
    "  geom_boxplot() + theme_minimal()"
   ]
  },
  {
   "cell_type": "markdown",
   "metadata": {},
   "source": [
    "<p></p>\n",
    "<div id=\"sec_jam_again\" style=\"direction:rtl;line-height:300%;\">\n",
    "\t<font face=\"XB Zar\" size=5>\n",
    "        واضح است که داده‌ی پرت نداریم. \n",
    "        <br><br>\n",
    "        حال می‌توانیم آزمون تی را در R انجام دهیم.\n",
    "        در زبان R برای اجرای انواع مختلف آزمون تی تابع ساده‌ای در نظر گرفته شده‌است. برای اجرای آزمون تی تک‌نمونه‌ای کافی است داده، میانگین فرض صفر و نوع فرض جایگزین به تابع پاس داده شود. پس برای مسئله‌ی پیتزافروشی خواهیم داشت:\n",
    "        </font>\n",
    "</div>"
   ]
  },
  {
   "cell_type": "code",
   "execution_count": 10,
   "metadata": {},
   "outputs": [
    {
     "data": {
      "text/plain": [
       "\tOne Sample t-test\n",
       "data:  data$times\n",
       "t = 35.204, df = 29, p-value < 2.2e-16\n",
       "alternative hypothesis: true mean is greater than 0\n",
       "95 percent confidence interval:\n",
       " 38.05988      Inf\n",
       "sample estimates:\n",
       "mean of x \n",
       "    39.99 \n"
      ]
     },
     "metadata": {},
     "output_type": "display_data"
    }
   ],
   "source": [
    "t.test(data$times, mean = 30, alternative = \"greater\")"
   ]
  },
  {
   "cell_type": "markdown",
   "metadata": {},
   "source": [
    "<div style=\"direction:rtl;line-height:300%;\">\n",
    "\t<font face=\"XB Zar\" size=5>\n",
    "نتیجه‌ی بالا نشان می‌دهد که فرض صفر (زمان ارسال پیتزافروشی ۳۰ دقیقه است) بااطمینان خیلی بالایی غلط است.\n",
    "در جزوه‌ی مربوط به p-value مفصل نحوه‌ی تفسیر نتیجه‌ی این تست را شرح داده‌ایم. \n",
    "</font>\n",
    "</div>"
   ]
  },
  {
   "cell_type": "markdown",
   "metadata": {},
   "source": [
    "<div style=\"direction:rtl;line-height:300%;\">\n",
    "\t<font face=\"XB Zar\" size=5>\n",
    "\t\t<font color=darkpink size=6>\n",
    "تمرین:\n",
    "        </font>\n",
    "        <br>\n",
    "برای داده‌های زیر کد را طوری ادامه دهید که آزمون تی انجام شود. مقدار پی را محاسبه کنید.\n",
    "</font>\n",
    "</div>\n",
    "\n"
   ]
  },
  {
   "cell_type": "markdown",
   "metadata": {
    "collapsed": true,
    "jupyter": {
     "outputs_hidden": true
    }
   },
   "source": [
    "x = rnorm(100)\n",
    "y = runif(100)"
   ]
  },
  {
   "cell_type": "markdown",
   "metadata": {},
   "source": [
    "<p></p>\n",
    "<br/>\n",
    "<div id=\"sec_conc\" style=\"direction:rtl;line-height:300%;\">\n",
    "\t<font face=\"XB Zar\" size=5>\n",
    "\t\t<font color=#FF7500 size=6>\n",
    "خلاصه و نتیجه‌گیری\n",
    "        </font>\n",
    "\t\t<p></p>\n",
    "\t\t<hr>\n",
    "        در این بخش با موارد زیر آشنا شدیم:\n",
    "        <ul>\n",
    "            <li>\n",
    "صنعت پیتزافروشی\n",
    "            </li>\n",
    "            <li>\n",
    "\tانواع آزمون تی\n",
    "            </li>\n",
    "            <li>\n",
    "\tشرایط لازم برای استفاده از آزمون تی \n",
    "            </li>\n",
    "            <li>\n",
    "\tفرمول‌های ریاضی آزمون تی \n",
    "            </li>\n",
    "            <li>\n",
    "            پیاده سازی آزمون تی در R\n",
    "            </li>\n",
    "        </ul>\n",
    "\t</font>\n",
    "</div>"
   ]
  },
  {
   "cell_type": "markdown",
   "metadata": {},
   "source": [
    "<p></p>\n",
    "<br>\n",
    "<div id=\"sample_problems\" style=\"direction:rtl;line-height:300%;\">\n",
    "    <font color=#FF7500 size=6>\n",
    "چند مسئله:\n",
    "    </font>\n",
    "\t<font face=\"XB Zar\" size=5>\n",
    "    <br>\n",
    "        <br>\n",
    "        مسئله ۱:\n",
    "            <br>\n",
    "            \tدر یک کلینیک افرادی تحت درمان هستند که کلسترول خون آنها در رنج متوسط یا بالا قرار دارد(این یعنی حداقل ۲۲۰ میلیلیتر بر دسی لیتر)، میخواهیم تاثیر یک داروی جدید را بر کاهش کلسترول خون این بیماران بسنجیم، ۵۰ نفر از این بیماران که داوطلب دریافت این دارو شده‌اند را آزمایش کنیم، برای این کار به این ۵۰ نفر به مدت یک ماه به طور منظم داروی مورد آزمایش را میدهیم، در انتهای دوره یک ماهه آزمایش در کلسترول خون این افراد کاهش مشاهده میکنیم، اگر میانگین میزان کاهش کلسترول خون بیماران داوطلب شده ۱۴.۸ و انحراف معیار برابر با  ۶.۴ باشد، از این آزمایش چه نتیجه‌ای میتوانیم بگیریم؟\n",
    "                <br>\n",
    "        <br>\n",
    "        پاسخ:\n",
    "        <br>\n",
    "        ابتدا بیایید فرض کنیم این کاهش میزان کلسترول، تصادفی بوده باشد، یا به عبارتی این ۵۰ تغییر رخ داده در کلسترول خون بیماران یک نمونه نرمال با میانگین 0 را تشکیل داده باشند، حال از t-test استفاده میکنیم:\n",
    "        <br>\n",
    "                $$ \n",
    "                T=\\sqrt{n}\\times\\frac{\\bar{X}}{S}=\\sqrt{50} \\times \\frac{14.8}{6.4}=16.352\n",
    "                $$ \n",
    "                <br>\n",
    "                    <br>\n",
    "واضحا با توجه به این مصاحبه باید این فرضیه را رد کنیم که کاهش صرفا شانسی بوده است.\n",
    "        اما ما همچنان نمیتوانیم نتیجه بگیریم کاهش کلسترول بخاطر دارویی بوده که ما به داوطلبان داده‌ایم یا به دلیل دیگری رخ داده است، مثلا فرض کنید این بیماران در این حین، داروهای دیگری نیز مصرف میکرده‌اند و این کاهش بخاطر استفاده آنها از آن داروهای دیگر بوده باشد، حتی ممکن است آب و هوا روی کاهش کلسترول بیماران تاثیر گذاشته باشد! چراکه این آزمایش ۱ ماه به طول انجامیده و این مدت طولانی بوده است. درواقع بهترین نتیجه‌ای که میتوانیم از این آزمایش بگیریم این است که این آزمایش، آزمایش خوبی نبوده و متغیر های بسیار زیادی ممکن است در نتیجه تاثیر داشته بوده باشند!\n",
    "        <br>\n",
    "        <br>\n",
    "        مسئله ۲:\n",
    "        <br>\n",
    "با توجه به جواب سوال قبل آزمایشی طراحی کنید که بتوان تاثیر داروی ذکر شده را روی داوطلبان آزمایش کرد.\n",
    "        <br>\n",
    "        <br>\n",
    "        پاسخ:\n",
    "        <br>\n",
    "باید آزمایش را طوری طراحی کنیم که تا آنجا که میشود، تمامی عوامل دیگر را خنثی کنیم، یک ایده این است که مثلا داوطلبان را بصورت تصادفی به دو دسته تقسیم کنیم و دارو را فقط به یکی از این دو گروه بدهیم، یا به یکی از این دو گروه دارو‌نما بدهیم و به دیگری دارو.(دارو‌نما چیزی شبیه دارو است فقط برای اینکه داوطلب فکر کند دارد دریافت کرده، برای تست واکسن ها هم از این روش استفاده میکنند و به گروهی از داوطلبان واکسن نما تزریق میکنند تا تاثیر واکسن را بتوانند بسنجند.) توجه کنید که داوطلبان نباید بدانند که آیا به آنها دارو داده‌ایم یا دارونما، میتوان کسانی که در کلینیک هستند نیز این را نگوییم که به کدام بیماران دارو میدهیم و به کدام بیماران دارونما تا عوامل تصادفی بیشتری را خنثی و بی‌اثر کنیم، حال با توجه به اینکه گروه‌هارا تصادفی انتخاب کرده‌ایم میتوانیم امیدوار باشیم به طور میانگین عوامل دیگر بین این دو گروه مشابه هستند(مثلا آب و هوا یا دارو های مصرفی دیگر و یا...) حال با اجرای t-test میتوانیم نتیجه هوشمندانه تری بگیریم.\n",
    "    </font>\n",
    "</div>"
   ]
  },
  {
   "cell_type": "markdown",
   "metadata": {},
   "source": [
    "<p></p>\n",
    "<br/>\n",
    "<div id=\"sec_refs\" style=\"direction:rtl;line-height:300%;\">\n",
    "\t<font face=\"XB Zar\" size=5>\n",
    "\t\t<font color=#FF7500 size=6>\n",
    "منابع\n",
    "        </font>\n",
    "\t\t<hr>       \n",
    "        <ul>\n",
    "            <li>\n",
    "http://www.statisticshowto.com/independent-samples-t-test\n",
    "            </li>\n",
    "            <li>\n",
    "https://www.tutorialspoint.com/statistics/student_t_test.htm\n",
    "            </li>\n",
    "            <li>\n",
    "https://rstudio-pubs-static.s3.amazonaws.com/34222_701124f9913b40c9ba318ef3b2b17e45.html\n",
    "            </li>\n",
    "            <li>\n",
    "http://195.134.76.37/applets/AppletTtest/Appl_Ttest2.html\n",
    "            </li>\n",
    "            <li>\n",
    "            https://www.britannica.com/science/Students-t-test\n",
    "            </li>\n",
    "            <li>\n",
    "            http://www.statisticssolutions.com/manova-analysis-one-sample-t-test\n",
    "            </li>\n",
    "            <li>\n",
    "            https://www.investopedia.com/terms/t/t-test.asp\n",
    "            </li>\n",
    "        </ul>\n",
    "        <br>\n",
    "عکس ها:\n",
    "        <ul>\n",
    "            <li>\n",
    "                https://www.iconfinder.com/icons/452653/half_hour_past_speed_time_icon\n",
    "            </li>\n",
    "            <li>\n",
    "                https://www.123rf.com/photo_566199_whole-pepperoni-pizza.html\n",
    "            </li>\n",
    "            <li>\n",
    "                https://www.1001fonts.com/hot-pizza-font.html\n",
    "            </li>\n",
    "        </ul>\n",
    "\t</font>\n",
    "</div>"
   ]
  }
 ],
 "metadata": {
  "kernelspec": {
   "display_name": "R",
   "language": "R",
   "name": "ir"
  },
  "language_info": {
   "codemirror_mode": "r",
   "file_extension": ".r",
   "mimetype": "text/x-r-source",
   "name": "R",
   "pygments_lexer": "r",
   "version": "4.3.1"
  },
  "latex_envs": {
   "LaTeX_envs_menu_present": true,
   "autoclose": false,
   "autocomplete": true,
   "bibliofile": "biblio.bib",
   "cite_by": "apalike",
   "current_citInitial": 1,
   "eqLabelWithNumbers": true,
   "eqNumInitial": 1,
   "hotkeys": {
    "equation": "Ctrl-E",
    "itemize": "Ctrl-I"
   },
   "labels_anchors": false,
   "latex_user_defs": false,
   "report_style_numbering": false,
   "user_envs_cfg": false
  },
  "toc": {
   "base_numbering": 1,
   "nav_menu": {},
   "number_sections": true,
   "sideBar": true,
   "skip_h1_title": false,
   "title_cell": "Table of Contents",
   "title_sidebar": "Contents",
   "toc_cell": false,
   "toc_position": {},
   "toc_section_display": true,
   "toc_window_display": false
  },
  "varInspector": {
   "cols": {
    "lenName": 16,
    "lenType": 16,
    "lenVar": 40
   },
   "kernels_config": {
    "python": {
     "delete_cmd_postfix": "",
     "delete_cmd_prefix": "del ",
     "library": "var_list.py",
     "varRefreshCmd": "print(var_dic_list())"
    },
    "r": {
     "delete_cmd_postfix": ") ",
     "delete_cmd_prefix": "rm(",
     "library": "var_list.r",
     "varRefreshCmd": "cat(var_dic_list()) "
    }
   },
   "types_to_exclude": [
    "module",
    "function",
    "builtin_function_or_method",
    "instance",
    "_Feature"
   ],
   "window_display": false
  }
 },
 "nbformat": 4,
 "nbformat_minor": 4
}
