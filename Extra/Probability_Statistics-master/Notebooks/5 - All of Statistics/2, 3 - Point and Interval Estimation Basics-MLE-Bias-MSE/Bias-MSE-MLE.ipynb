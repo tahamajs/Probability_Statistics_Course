{
 "cells": [
  {
   "cell_type": "markdown",
   "metadata": {},
   "source": [
    "<p></p>\n",
    "<br />\n",
    "<div id=\"intro\" style=\"direction:rtl;line-height:300%;\">\n",
    "\t<font face=\"XB Zar\" size=5>\n",
    "\t\t<font color=#FF7500 size=6>\n",
    "            مفهوم تخمین‌گر بازه‌ای و نقطه‌ای\n",
    "\n",
    "</font>\n",
    "\t\t<p></p>\n",
    "\t\t<hr>\n",
    "بسیاری از اوقات، ما قصد داریم که با مشاهده داده‌های تولید شده توسط یک فرایند تصادفی، آن را بهتر بشناسیم. در حالت کلی، هدف ما این است که با استفاده از نمونه‌های $X_1, X_2, … X_n$ به توزیع متغیر تصادفی $X$ پی ببریم.\n",
    "        مثلا با استفاده از داده‌های یک فرایند پوآسون، پارامتر $\\lambda$ آن فرایند را بیابیم.<p></p>\n",
    "        <br>\n",
    "       تخمین را می‌توان در حالت کلی، به دو دسته پارامتری و غیر‌پارامتری تقسیم کرد. در تخمین \n",
    "       پارامتری، ما فرض می‌کنیم که مدلی که متغیر تصادفی ما از آن تبعیت می‌کند با یک بردار با بعد متناهی قابل توصیف است. مثلا مدل توزیع نرمال که در آن تمامی متغیر‌های تصادفی را می‌توان با استفاده از زوج $(\\mu, \\sigma)$ \n",
    "   توصیف کرد. هر حالتی جز این غیر‌پارامتری حساب می‌شود.\n",
    "        <img src=\"figs/parametric-est.png\">\n",
    "        <br>\n",
    "خود تخمین پارامتری را نیز می‌توان به دو نوع نقطه‌ای و بازه‌ای تقسیم کرد.\n",
    "<br>            ۱-در تخمین نقطه‌ای، یک مقدار به عنوان تخمین ما از پارامتر مساله معرفی می‌شود. مثلا با مشاهده ۱۰۰ پرتاب سکه که ۳۰ تا شیر و ۷۰ تا خط بوده‌اند، تخمین می‌زنیم که احتمال شیر آمدن این سکه هفتاد درصد است.\n",
    "            <br>\n",
    "        ۲-در تخمین بازه‌ای اما، یک بازه را که احتمال می‌دهیم پارامتر مورد تخمین در آن باشد معرفی می‌کنیم.\n",
    "        مثلا در مثال قبل، می‌گوییم که احتمال شیر آمدن سکه مقداری بین ۶۰ درصد و ۸۰ درصد است.\n",
    "           <br>\n",
    "        در بخش بعد بیشتر به تخمین بازه‌ای می‌پردازیم اما در این بخش تمرکز ما روی تخمین‌گر‌های پارامتری نقطه‌ای است.\n",
    "<br>\n",
    "از این‌جا به بعد منظور ما از یک تخمین‌گر تابعی است از فضای نمونه که پارامتر $\\theta$ را تخمین می‌زند. برای نشان دادن مقدار تخمین‌زده‌شده، از نماد کلاهک روی پارامتر تخمین ($\\hat{\\theta}$) استفاده می‌کنیم. \n",
    "دقت کنید که از آن جایی که $\\hat{\\theta}$ تابعی از فضای نمونه است، خود یک متغیر تصادفی است که توزیع آن به مقدار واقعی $\\theta$ بستگی دارد.\n",
    "<br>\n",
    "با یک مثال شروع می‌کنیم \n",
    "\t</font>\n",
    "</div>"
   ]
  },
  {
   "cell_type": "markdown",
   "metadata": {},
   "source": [
    "<p></p>\n",
    "<br />\n",
    "<div id=\"barresi\" style=\"direction:rtl;line-height:300%;\">\n",
    "\t<font face=\"XB Zar\" size=5>\n",
    "\t\t<font color=#FF7500 size=6>\n",
    "            یک تخمین ساده\n",
    "</font>\n",
    "\t\t<p></p>\n",
    "\t\t<hr>\n",
    "        فرض کنید که متغیر تصادفی $X$، یک متغیر تصادفی پوآسون است و ما از این متغیر تصادفی، داده‌های $x_1, x_2, ... x_{15}$ را جمع آوری کرده‌ایم و حالا قصد داریم با استفاده از این داده‌ها، پارامتر $\\lambda$ این متغیر را تخمین بزنیم.\n",
    "        <br>\n",
    "        در قدم اول به نظر می‌رسد که راحت‌ترین کار این باشد که با توجه به این که امید‌ریاضی یک متغیر تصادفی پوآسون برابر با پارامتر آن است، برای تخمین پارامتر، ما میانگین این داده‌ها را محاسبه کنیم.\n",
    "        <br>\n",
    "        یک راه دیگر شاید این باشد که برای کوتاهی محاسبه، فقط میانگین ۵ عدد اول را حساب کنیم و دیگر اعداد را دور بیندازیم.\n",
    "        <br>\n",
    "روش دیگری که منطقی است این است که با توجه به این که واریانس این متغیر‌تصادفی نیز برابر با همان $\\lambda$ است، ما مقدار واریانس نمونه (<a href = \"https://en.wikipedia.org/wiki/Variance#Sample_variance\" style=\"text-decoration:none;\">sample variance</a>) که برابر است با \n",
    "        $\\frac{\\sum_{i = 1}^{n}(x_n - \\bar{x})^2}{n}$ را، که در این‌جا $n = 15$ ، به \n",
    "        عنوان تخمین خود برای این پارامتر معرفی کنیم.\n",
    "        <br>\n",
    "نیازمندیم که برای انتخاب تخمین گر مناسب، به معیاری برای مقایسه آن ها دست‌پیدا‌کنیم. ابتدا برای بررسی رفتار این تخمین‌گر ها، این آزمایش را انجام داده و به تعداد زیاد تکرار می‌کنیم تا اطمینان حاصل کنیم که نتایج ما تصادفی نیست. یعنی ۱۵ داده از فرایند پوآسون با یک پارامتر ثابت (مثلا ۹) گرفته و تخمینی که هر‌کدام از روش‌های بالا برای این پارامتر ارایه می‌دهند را می‌یابیم\n",
    "\t</font>\n",
    "</div>"
   ]
  },
  {
   "cell_type": "markdown",
   "metadata": {},
   "source": [
    "<p></p>\n",
    "<br />\n",
    "<div id=\"ex1\" style=\"direction:rtl;line-height:300%;\">\n",
    "\t<font face=\"XB Zar\" size=5>\n",
    "ابتدا کتاب‌خانه‌های لازم را اضافه کرده، و ثابت‌های مساله را تعیین می‌کنیم.\n",
    "            <br>\n",
    "            پارامتر، همان لاندا مساله است که برابر با ۹ قرار داده‌ایم.\n",
    "            <br>\n",
    "            منظور از num_trial تعداد دفعاتی است که آزمایش بالا را تکرار می‌کنیم  .\n",
    "            <br>\n",
    "            منظور از num_sample هم تعداد نمونه‌هایی است که در هر آزمایش از توزیع گرفته و تخمین گر \n",
    "            را روی آن‌ها اعمال می‌کنیم.\n",
    "        </font>\n",
    "</div>"
   ]
  },
  {
   "cell_type": "code",
   "execution_count": 1,
   "metadata": {
    "scrolled": true
   },
   "outputs": [
    {
     "ename": "NameError",
     "evalue": "name 'library' is not defined",
     "output_type": "error",
     "traceback": [
      "\u001b[0;31m---------------------------------------------------------------------------\u001b[0m",
      "\u001b[0;31mNameError\u001b[0m                                 Traceback (most recent call last)",
      "Cell \u001b[0;32mIn[1], line 1\u001b[0m\n\u001b[0;32m----> 1\u001b[0m \u001b[43mlibrary\u001b[49m(ggplot2)\n\u001b[1;32m      2\u001b[0m library(reshape2)\n\u001b[1;32m      3\u001b[0m \u001b[38;5;66;03m#constants\u001b[39;00m\n",
      "\u001b[0;31mNameError\u001b[0m: name 'library' is not defined"
     ]
    }
   ],
   "source": [
    "library(ggplot2)\n",
    "library(reshape2)\n",
    "#constants\n",
    "num_trial <- 10000\n",
    "num_sample <- 15\n",
    "paramater <- 9\n"
   ]
  },
  {
   "cell_type": "markdown",
   "metadata": {},
   "source": [
    "<p></p>\n",
    "<br />\n",
    "<div id=\"ex1\" style=\"direction:rtl;line-height:300%;\">\n",
    "\t<font face=\"XB Zar\" size=5>\n",
    "        در این مرحله، برای هر‌کدام از تخمین‌گر‌ها، یک تابع تعریف می‌کنیم\n",
    "    </font>\n",
    "</div>"
   ]
  },
  {
   "cell_type": "code",
   "execution_count": 2,
   "metadata": {},
   "outputs": [],
   "source": [
    "#estimators\n",
    "est_1 <- function(data) {\n",
    "  return(mean(data))\n",
    "}\n",
    "est_2 <- function(data) {\n",
    "  return(mean(data[1:5]))\n",
    "}\n",
    "est_3 <- function(data) {\n",
    "  return(mean((data - mean(data))^2))\n",
    "}\n",
    "estimators <- list(est_1, est_2, est_3)"
   ]
  },
  {
   "cell_type": "markdown",
   "metadata": {},
   "source": [
    "<p></p>\n",
    "<br />\n",
    "<div id=\"ex1\" style=\"direction:rtl;line-height:300%;\">\n",
    "\t<font face=\"XB Zar\" size=5>\n",
    "        تابع simulator_function را تعریف می‌کنیم با ورودی گرفتن یک تخمین‌گر و پارامتر لاندا،\n",
    "        num_trial مرتبه از توزیع پوآسون با پارامتر لاندا، num_sample نمونه می گیرد و نتیجه تخمین‌گر روی این num_sample نمونه را به‌دست‌می‌آورد.\n",
    "خروجی این تابع یک بردار به طول num_trial می‌باشد.\n",
    "    </font>\n",
    "</div>"
   ]
  },
  {
   "cell_type": "code",
   "execution_count": 3,
   "metadata": {},
   "outputs": [],
   "source": [
    "simulator_function <- function(estimator, lambda) {\n",
    "  return(sapply(1:num_trial, function(i) estimator(rpois(num_sample, lambda))))\n",
    "}"
   ]
  },
  {
   "cell_type": "markdown",
   "metadata": {},
   "source": [
    "<p></p>\n",
    "<br />\n",
    "<div id=\"ex1\" style=\"direction:rtl;line-height:300%;\">\n",
    "\t<font face=\"XB Zar\" size=5>\n",
    "برای این که داده‌ها را به صورت قابل نمایش در‌بیاوریم، یک دیتافریم تشکیل می‌دهیم که ستون اول آن \n",
    "        شماره تخمین‌گر و ستون دوم آن، نتیجه یکی از آزمایش‌ها باشد \n",
    "        (یعنی در کل 3 * num_trial سطر).\n",
    "        برای این‌کار، ابتدا برای هر‌کدام از تخمین‌گر‌ها یک دیتا‌فریم به شکل بالا به‌دست‌می‌آوریم و سپس این \n",
    "        دیتافریم‌ها را ترکیب می‌کنیم.\n",
    "</font>\n",
    "</div>"
   ]
  },
  {
   "cell_type": "code",
   "execution_count": 4,
   "metadata": {},
   "outputs": [],
   "source": [
    "#لیستی از دیتافریم ها. این لیست ۳ عضو دارد که هر عضوش دیتافریم مربوط به یک تخمین گر است.\n",
    "ldf <- lapply(1:length(estimators), function(i) {\n",
    "  simulation <- simulator_function(estimators[[i]], paramater)\n",
    "  df <- data.frame(rep(paste(\"estimator\", i), length(simulation)), simulation)\n",
    "  colnames(df) <- c(\"estimator number\", \"estimated value\")\n",
    "  return(df)\n",
    "}) \n",
    "#ترکیب دیتافریم ها\n",
    "df <- do.call(rbind,ldf)\n"
   ]
  },
  {
   "cell_type": "markdown",
   "metadata": {},
   "source": [
    "<p></p>\n",
    "<br />\n",
    "<div id=\"ex1\" style=\"direction:rtl;line-height:300%;\">\n",
    "\t<font face=\"XB Zar\" size=5>\n",
    "        نمودار داده‌ها را می‌کشیم.\n",
    "</font>\n",
    "</div>"
   ]
  },
  {
   "cell_type": "code",
   "execution_count": 2,
   "metadata": {},
   "outputs": [
    {
     "ename": "SyntaxError",
     "evalue": "invalid syntax (755112303.py, line 1)",
     "output_type": "error",
     "traceback": [
      "\u001b[0;36m  Cell \u001b[0;32mIn[2], line 1\u001b[0;36m\u001b[0m\n\u001b[0;31m    ggplot(df, aes(`estimated value`, fill=`estimator number`)) + geom_density(alpha=0.6) +\u001b[0m\n\u001b[0m                   ^\u001b[0m\n\u001b[0;31mSyntaxError\u001b[0m\u001b[0;31m:\u001b[0m invalid syntax\n"
     ]
    }
   ],
   "source": [
    "ggplot(df, aes(`estimated value`, fill=`estimator number`)) + geom_density(alpha=0.6) + \n",
    "  scale_fill_manual(values = c('orange', 'blue', 'red')) +\n",
    "  geom_vline(xintercept = paramater, color='dark green')"
   ]
  },
  {
   "cell_type": "markdown",
   "metadata": {},
   "source": [
    "<p></p>\n",
    "<br />\n",
    "<div id=\"barresiT\" style=\"direction:rtl;line-height:300%;\">\n",
    "\t<font face=\"XB Zar\" size=5>\n",
    "\t\t<font color=#FF7500 size=6>\n",
    "تعاریف تخمین‌گر‌ها\n",
    "\n",
    "</font>\n",
    "\t\t<p></p>\n",
    "\t\t<hr>\n",
    "        در نمودار بالا، خط سبز، نشان‌دهنده مقدار صحیح $\\lambda$ است و نمودار‌های زرد و آبی و قرمز، به‌ترتیب نشان‌دهنده‌ی رفتار تخمین‌گر‌های اول و دوم و سوم هستند.\n",
    "        با توجه به نمودار بالا، می‌توان مقایسه‌ای بین این تخمین‌گر‌ها انجام داد.\n",
    "        اولین نکته‌ای که واضح است این است که نمودار زرد، متمرکز‌تر از نمودار آبی و آن نمودار نیز متمرکز‌تر از نمودار قرمز است. این در واقع به این معنی است که تخمین‌گر اول، با احتمال نسبتا خوبی حول یک بازه کوچکی تخمین می‌زند و وقتی که از این تخمین‌گر استفاده می‌کنیم می‌دانیم که مقدار به‌دست‌آمده نزدیک به مقدار میانگین خود است و اگر امکان تکرار آزمایش برای تعداد دفعات بالا وجود داشت، به عددی مشابه می‌رسیدیم. برای این که بتوانیم این خاصیت را به طور کمی تعریف کنیم، داریم:\n",
    "        <h6>تعریف</h6><i>\n",
    "        فرض کنید که $\\hat{\\theta}$  تخمین‌گری برای پارامتر $\\theta$ باشد.\n",
    "        به مقدار $E[(\\hat{\\theta} - E[\\hat{\\theta}])^2]$، <i>$Var(\\hat{\\theta})$</i> می‌گوییم.\n",
    "        </i>\n",
    "        <br><br>\n",
    "        دقت کنید که از آن جایی که توزیع $\\hat{\\theta}$ وابسته به $\\theta$ است، در حالت کلی برای محاسبه امید‌ریاضی نیاز \n",
    "        است که مقدار $\\theta$ مشخص باشد و در نتیجه، واریانس یک تخمین‌گر تابعی از $\\theta$ است.\n",
    "        در کل، هر‌چه واریانس یک تخمین‌گر کمتر باشد، بهتر است اما این قاعده همیشه درست نیست. برای مثال، تخمین‌گر ثابت $\\hat{\\theta} = 19$، واریانس صفر دارد ولی به وضوح تخمین‌گر خوبی نیست.\n",
    "بنابراین به بررسی  ویژگی‌های دیگر نمودار‌های بالا می‌پردازیم. \n",
    "        <br>\n",
    "        از نمودار بالا مشخص است که تخمین‌گر اول و دوم، خاصیتی دارند که تخمین‌گر سوم ندارد. 'مرکز' این دو تخمین‌گر، بسیار نزدیک به \n",
    "        خط سبز است و در نتیجه این تخمین‌گر‌ها، به طور میانگین برابر با مقدار واقعی پارامتر $\\lambda$ هستند در حالی که تخمین‌گر سوم این خاصیت را ندارد. به طور دقیق‌تر داریم:\n",
    "        <br>\n",
    "        <h6>تعریف</h6><i>\n",
    "        فرض کنید که $\\hat{\\theta}$ تخمین‌گری برای پارامتر $\\theta$ باشد. به مقدار $E [\\hat{\\theta}] - \\theta$\n",
    "        ، <b>($\\hat{\\theta}$)bias</b> می‌گوییم.\n",
    "        به تخمین‌گری که bias آن برای تمامی مقادیر $\\theta$ برابر با صفر باشد، <b>unbiased</b> می گوییم \n",
    "        </i><br><br>\n",
    "        <div align=center>\n",
    "            <img src=\"figs/darts.jpeg\">\n",
    "            <font size=4>\n",
    "                واریانس در واقع متمرکز بودن تخمین‌گر و\n",
    "                $bias$ نزدیکی میانگین تخمین‌گر به هدف را می سنجد\n",
    "            </font>\n",
    "        </div>\n",
    "        <br>\n",
    "                   همان‌طور که خواهیم‌دید، می‌توان این دو ویژگی را در ویژگی زیر ترکیب کرد\n",
    "        <h6>تعریف</h6><i>\n",
    "        مانند قبل، $\\hat{\\theta}$ تخمین‌گری برای $\\theta$ است.\n",
    "        به کمیت زیر، MSE یا mean squared error می‌گوییم.\n",
    "            <div align=center>            $MSE(\\hat{\\theta}) = E[(\\hat{\\theta} - \\theta)^2]$\n",
    "            </div>\n",
    "        </i>\n",
    "        در واقع MSE، معیاری از فاصله تخمین ما با مقدار درست است.\n",
    "        <h6>قضیه</h6><i>\n",
    "            <div align=center>            $MSE(\\hat{\\theta}) = Var(\\hat{\\theta}) + bias^2(\\hat{\\theta})$\n",
    "            </div>\n",
    "        <b>اثبات:</b>\n",
    "        دقت کنید که از آن جایی که مقدار $\\theta$ ثابت است،  $Var(\\hat{\\theta}) = Var(\\hat{\\theta} - \\theta)$.\n",
    "       مانند از طرفی می‌دانیم که برای هر متغیر تصادفی $Z$، $Var(Z) = E[Z^2] - (E[Z])^2$.\n",
    "        در نتیجه برای $Z = \\hat{\\theta} - \\theta$ داریم\n",
    "        <div align=center>            $Var(\\hat{\\theta}) = Var(\\hat{\\theta} - \\theta) = E[(\\hat{\\theta} - \\theta)^2] \n",
    "        - (E[\\hat{\\theta} - \\theta])^ 2 = MSE(\\hat{\\theta}) - bias(\\hat{\\theta})^2$\n",
    "            </div>\n",
    "        <br>\n",
    "</font>\n",
    "</div>\n"
   ]
  },
  {
   "cell_type": "markdown",
   "metadata": {},
   "source": [
    "<p></p>\n",
    "<br />\n",
    "<div id=\"ex2\" style=\"direction:rtl;line-height:300%;\">\n",
    "\t<font face=\"XB Zar\" size=5>\n",
    "\t\t<font color=#FF7500 size=6>\n",
    "مثال‌\n",
    "\n",
    "</font>\n",
    "        <br>\n",
    "        <hr>\n",
    "                فرض کنید که از یک متغیر تصادفی برنولی، $n$ داده داریم و می‌خواهیم\n",
    "            با استفاده از این داده‌ها، پارامتر $p$ این متغیر را \n",
    "            تخمین بزنیم.\n",
    "            با فرض این که داده‌ها برابرند با $x_1, ... x_n$\n",
    "            تعریف کنید، $s = \\sum_{i = 1}^{n} x_i$\n",
    "            در این صورت تخمین‌گر اول $T_a = \\frac{s}{n}$ را برابر با \n",
    "            و تخمین‌گر دوم را برابر با $T_b = \\frac{s + 1}{n + 2}$ \n",
    "            معرفی می‌کنیم.\n",
    "            داریم:\n",
    "        <br><br>\n",
    "            <div align=center> $bias(T_a) = \\frac{n\\theta}{n} - \\theta = 0,\\;\\; bias(T_b) = \\frac{n\\theta + 1}{n + 2} - \\theta = \\frac{1 - 2\\theta}{n}$\n",
    "                <br>$Var(T_a) = \\frac{\\theta(1 - \\theta)}{n}, \\;\\; Var(T_b) = \\frac{n\\theta(1 - \\theta)}{(n + 2)^2}$\n",
    "                <br>$MSE(T_a) = \\frac{\\theta(1 - \\theta)}{n}, \\;\\; MSE(T_b) = \\frac{n\\theta(1 - \\theta) \\;+ \\;(1 -2\\theta)^2}{(n + 2)^2}$\n",
    "            </div>\n",
    "        <br>\n",
    "\t</font>\n",
    "</div>\n"
   ]
  },
  {
   "cell_type": "markdown",
   "metadata": {},
   "source": [
    "<p></p>\n",
    "<br />\n",
    "<div id=\"ex2\" style=\"direction:rtl;line-height:300%;\">\n",
    "\t<font face=\"XB Zar\" size=5>\n",
    "\t\t<font color=#FF7500 size=6>\n",
    "مثال‌\n",
    "\n",
    "</font>\n",
    "        <br>\n",
    "        <hr>\n",
    "                فرض کنید $\\hat{\\theta_1}$ تخمین گری unbiased برای ${\\theta}$ باشد، و $W$ متغیر تصادفی با میانگین صفر باشد، نشان می دهیم که $\\hat{\\theta_2}=\\hat{\\theta_1}+W$ هم تخمین گری unbiased است.\n",
    "        <br>\n",
    "            <div align=center>$E[\\hat{\\theta_2}]=E[\\hat{\\theta_1}]+E[W]=\\theta + 0 = \\theta$          </div>\n",
    "        <br>\n",
    "        حال اگر $\\hat{\\theta_1}$ یک تخمین گر برای $\\theta$ باشد به طوری که $E[\\hat{\\theta_1}]=a\\theta+b$ و داشته باشیم $a\\neq0$ آنگاه نشان می دهیم $\\hat{\\theta_2}=\\frac{\\hat{\\theta_1}-b}{a}$ یک تخمین گر unbiased  برای $\\theta$ است:\n",
    "        <br><div align=center>$E[\\hat{\\theta_2}]=\\frac{E[\\hat{\\theta_1}]-b}{a}$<br>$=\\frac{a\\theta+b-b}{a}$<br>$=\\theta$</div>\n",
    "        <br>پس نتیجه می گیریم که $\\hat{\\theta_2}$ یک تخمین گر unbiased  برای پارامتر $\\theta$ است.\n",
    "\t</font>\n",
    "</div>\n"
   ]
  },
  {
   "cell_type": "markdown",
   "metadata": {},
   "source": [
    "<p></p>\n",
    "<br />\n",
    "<div id=\"consistency\" style=\"direction:rtl;line-height:300%;\">\n",
    "\t<font face=\"XB Zar\" size=5>\n",
    "\t\t<font color=#FF7500 size=6>\n",
    "تخمین‌گر سازگاری\n",
    "            <br>\n",
    "        </font>\n",
    "\t\t<p></p>\n",
    "        <hr>\n",
    "        آخرین معیاری که با آن می‌پردازیم که البته از نمودار‌های بالا مشخص نیست، مفهوم سازگاری یا consistency است.\n",
    "        در عمل، تخمین‌گر‌هایی که ما می‌سازیم، تابعی از $n$ که تعداد داده‌ها است می‌باشد و ما انتظار داریم که با افزایش تعداد داده‌ها، شناختمان نسبت به توزیع بیشتر شود و تخمین‌گری که این خاصیت را نداشته‌باشد مطلوب نیست. به طور دقیق‌تر، به تخمین‌گر$\\hat{\\theta}$ سازگار یا consistent می‌گوییم هرگاه\n",
    "        $\\lim_{n \\rightarrow \\infty}P(|\\hat{\\theta_n}-\\theta|\\geqslant \\epsilon)= 0$,  for all $\\epsilon>0$.\n",
    "        <br>\n",
    "        در مثال پوآسون، تخمین‌گر $T(x_1, ... x_n) = \\frac{\\sum_{i = 1}^{n} x_i}{n}$ سازگار است ولی تخمین‌گر\n",
    "        $T(x_1, ... x_n) = x_1$ سازگار نیست.\n",
    "        شاید ابتدا به نظر برسد که این مفهموم، به علت  قضیه حد‌مرکزی، مشابه bias باشد اما این دو مفهوم متفاوت‌اند.\n",
    "        همان طور که دیدیم یک تخمین‌گر می‌تواند unbiased ولی ناسازگار باشد ($T(x_1, ... x_n) = x_1$) و نیز می‌تواند\n",
    "        سازگار ولی biased باشد. به عنوان مثال برای مثال پیدا کردن $\\mu$ برای یک متغیر تصادفی نرمال، تخمین‌گر $\\frac{\\sum x_i}{n} + \\frac{1}{n}$، biased است ولی \n",
    "        با میل دادن n به بی‌نهایت، می‌توان دید که این تخمین‌گر، سازگار است.\n",
    "        <br>\n",
    "\t</font>\n",
    "</div>\n",
    "\n"
   ]
  },
  {
   "cell_type": "markdown",
   "metadata": {},
   "source": [
    "<p></p>\n",
    "<br />\n",
    "<div id=\"ex3\" style=\"direction:rtl;line-height:300%;\">\n",
    "\t<font face=\"XB Zar\" size=5>\n",
    "\t\t<font color=#FF7500 size=6>\n",
    "مثال‌\n",
    "</font>\n",
    "        <br>\n",
    "        <hr>\n",
    "            فرض کنید $n$ داده تصادفی به صورت $X_1,X_2,X_3,...,X_n$ با میانگین $EX_i = \\theta$ و واریانس $Var(X_i)=\\sigma^2$ داریم. می‌خواهیم نشان دهیم $\\hat{\\theta_n}=\\bar{X}$ یک تخمین‌گر سازگار $\\theta$ است.<br>\n",
    "        برای این‌کار باید نشان دهیم برای همه‌ی $\\epsilon > 0$ داریم:\n",
    "            <div align=center> \n",
    "                <br>$\\lim_{n \\rightarrow \\infty}P(|\\hat{\\theta_n}-\\theta|\\geqslant \\epsilon)= 0$ \n",
    "            </div><br>\n",
    "        از نا‌مساوی چبیشف داریم:\n",
    "            <div align=center> <br>$P(|\\hat{X}-\\theta|\\geqslant \\epsilon) \\leqslant \\dfrac {Var(\\hat{X})}{\\epsilon^2} = \\dfrac {\\sigma^2}{{n\\epsilon^2}}$  \n",
    "            </div><br>\n",
    "        که اگر $n \\rightarrow \\infty$ معادله‌ی بالا صفر می‌شود.<br>\n",
    "            اگر$MSE(\\hat{\\theta_n})$ را محاسبه کنیم:\n",
    "        <div align=center>\n",
    "                <br>$MSE(\\hat{\\theta})= E[(\\hat{\\theta}-\\theta)^2]$ \n",
    "                <br>$=E[(\\hat{X}-\\theta)^2]$\n",
    "                <br>$=Var(\\hat{X}-\\theta)+E([\\hat{X}-\\theta])^2$\n",
    "            </div>\n",
    "        <br>می‌دانیم $Var(\\hat{X}-\\theta)=Var(\\hat{X})$ و $E[\\hat{X}-\\theta]=0$ پس به معادله‌ی زیر می‌رسیم:\n",
    "        <div align=center> \n",
    "                <br>$MSE(\\hat{\\theta})= Var(\\hat{X})=\\dfrac {\\sigma^2}{n}$\n",
    "            </div>\n",
    "        <br> اگر $n \\to \\infty$ $MSE(\\hat{\\theta_n})$ برابر صفر می‌شود. پس از این هم می‌توان نتیجه گرفت $\\hat{\\theta}$ یک تخمین‌گر سازگار است. این نتیجه را می‌توان به صورت یک قضیه بیان کرد.\n",
    "\t</font>\n",
    "</div>"
   ]
  },
  {
   "cell_type": "markdown",
   "metadata": {},
   "source": [
    "<p></p>\n",
    "<div id=\"ghaziye\" style=\"direction:rtl;line-height:300%;\">\n",
    "\t<font face=\"XB Zar\" size=5>\n",
    "        \t\t<font color=#FF7500 size=6>قضیه\n",
    "</font>\n",
    "        <p></p>\n",
    "        <br>\n",
    "        <hr>\n",
    "        اگر $\\hat{\\theta_1},\\hat{\\theta_2},...$ سری از تخمین‌گر‌های نقطه‌ای $\\theta$ باشد٬ $\\hat{\\theta_n}$ را یک تخمین‌گر سازگار می‌نامیم اگر $\\lim_{n \\rightarrow \\infty}MSE(\\hat{\\theta_n})= 0$\n",
    "\t\t<br>اثبات:\n",
    "        <div align=center style=\"direction:rtl\">\n",
    "        <br>$P(|\\hat{\\theta_n}-\\theta|\\geqslant \\epsilon) = P(|\\hat{\\theta_n}-\\theta|^2\\geqslant \\epsilon^2)$\n",
    "            <br>(نامساوی مارکوف) $\\leqslant \\dfrac {E[\\hat{\\theta_n}-\\theta]^2}{\\epsilon^2}$ \n",
    "            <br>$ = \\dfrac {MSE(\\hat{\\theta_n})}{\\epsilon^2}$\n",
    "            </div>\n",
    "        <br>اگر $n \\to \\infty$٬ آنگاه معادله صفر می‌شود.\n",
    "\t</font>\n",
    "</div>\n",
    "\n",
    "\n"
   ]
  },
  {
   "cell_type": "markdown",
   "metadata": {},
   "source": [
    "<p></p>\n",
    "<br />\n",
    "<div id=\"better\" style=\"direction:rtl;line-height:300%;\">\n",
    "\t<font face=\"XB Zar\" size=5>\n",
    "        \t\t<font color=#FF7500 size=6>\n",
    "$n-1$ بهتر از $n$\n",
    "\n",
    "</font>\n",
    "        <p></p>\n",
    "        <hr>\n",
    "        $n$ متغیر تصادفی به‌صورت $x_1,x_2,x_3,...$ داریم.همانطور که می‌دانیم اگر امید‌ریاضی آن‌ها $\\mu$ باشد برای محاسبه‌ی واریانس از رابطه‌ی زیر استفاده ‌می‌کنیم.\n",
    "        <div align=center style=\"direction:rtl\">\n",
    "        <br>$\\sigma^2 = E[(X-\\mu)^2]$\n",
    "            </div>\n",
    "        <br>پس اگر بخواهیم یک تخمین‌گر برای واریانس داشته‌باشیم $\\hat{\\sigma}^2 = \\dfrac{1}{n}\\sum_{k=1}^{n} (X_k-\\mu)^2$ ولی مشکل این رابطه این می‌باشد که ما همیشه $\\mu$ را نداریم برای این حل این مشکل به‌جای $\\mu$ از تخمین‌گر آن استفاده می‌کنیم که در مثال بالا دیدیم که $\\bar{x}$ تخمین‌گر خوبی برای $\\mu$ می‌باشدو پس اولین تخمین‌گری که به ذهن ما می‌آید٬ تخمین‌گر زیر می‌باشد:\n",
    "        <div align=center style=\"direction:rtl\">\n",
    "        <br>$\\bar{S_1}^2 = \\dfrac{1}{n}\\sum_{k=1}^{n} (X_k-\\bar{X})^2$\n",
    "            </div>\n",
    "        <br>برای این تخمین‌گر بایاس بودن و سازگاری را مورد بررسی قرار می‌دهیم.\n",
    "        <div align=center style=\"direction:rtl\">\n",
    "        <br>$E(\\bar{X}^2)=(E\\bar{X})^2+Var(\\bar{X})=\\dfrac{\\sigma^2}{n}+\\mu^2$\n",
    "        <br>$E(\\bar{S_1}^2)=\\dfrac{1}{n}(\\sum_{k=1}^{n} (X_k-\\bar{X})^2)=\\dfrac{1}{n}(\\sum_{k=1}^{n} {EX_k}^2-nE\\bar{X}^2)$<br>$=\\dfrac{1}{n}(n(\\mu^2+\\sigma^2)-n(\\mu^2+\\dfrac{\\sigma^2}{n}))=\\dfrac{n-1}{n}\\sigma^2$\n",
    "            <br>$Bias(\\bar{S_1}^2)=E(\\bar{S_1}^2)-\\sigma^2=-\\dfrac{\\sigma^2}{n}$\n",
    "            </div>\n",
    "        <br>همانطور که مشاهده می‌کنید مقدار بایاس تخمین‌گر صفر نشد پس تخمین‌گر دیگری پیشنهاد می‌دهیم.\n",
    "        <div align=center style=\"direction:rtl\">\n",
    "        <br>$\\bar{S_2}^2 = \\dfrac{1}{n-1}\\sum_{k=1}^{n} (X_k-\\bar{X})^2$\n",
    "        <br>$E(\\bar{S_2}^2)=\\sigma^2$\n",
    "        <br>$Bias(\\bar{S_2}^2)=E(\\bar{S_2}^2)-\\sigma^2=0$\n",
    "            </div>\n",
    "        <br>پس تخمین‌گر $\\bar{S_2}^2$ عملکرد بهتری دارد.\n",
    "\t</font>\n",
    "</div>\n",
    "\n",
    "\n",
    "\n"
   ]
  },
  {
   "cell_type": "markdown",
   "metadata": {},
   "source": [
    "<p></p>\n",
    "<br />\n",
    "<div id=\"mle\" style=\"direction:rtl;line-height:300%;\">\n",
    "\t<font face=\"XB Zar\" size=5>\n",
    "\t\t<font color=#FF7500 size=6>\n",
    "تخمین گر بیشینه‌\n",
    "            <br>\n",
    "        </font>\n",
    "\t\t<p></p>\n",
    "        <hr>\n",
    "      در این بخش قصد داریم که یک روش کلی برای ساخت تخمین‌گر ارایه دهیم. فرض کنید که توزیع ما از خانواده $\\{f(\\theta)| \\theta \\in \\Theta\\}$ باشد، یعنی با دانستن $\\theta$ توزیع به طور یکتا مشخص شود. هدف ما تخمین پارامتر $\\theta$ است.\n",
    "        برای این کار، برای مقادیر مختلف $\\theta$، احتمال داده‌ها را حساب می‌کنیم و به آن تابع درست‌نمایی یا likelihood می‌گوییم.\n",
    "         به طور دقیق‌تر در حالت گسسته داریم:\n",
    "        <div align=center>   $\\mathcal{L} (\\theta | x) = p_{\\theta} (x)$\n",
    "        </div>\n",
    "        و در حالت پیوسته داریم\n",
    "         <div align=center>   $\\mathcal{L} (\\theta | x) = f_{\\theta} (x)$\n",
    "        </div>\n",
    "        تخمین‌گر درست‌نمایی‌بیشینه، تخمین‌گری است که با مشاهده داده، مقدار $\\theta$ ای که برای آن تابع\n",
    "        $\\mathcal{L} (\\theta | x)$ بیشینه است را به عنوان تخمین خود از $\\theta$ معرفی می‌کنیم.\n",
    "        در واقع به طور شهودی از بین $\\theta$ های مختلف، آن مقداری که داده ما را بهتر \n",
    "        'توجیه' می کند انتخاب می کنیم.\n",
    "        <br>\n",
    "\t</font>\n",
    "</div>\n",
    "\n"
   ]
  },
  {
   "cell_type": "markdown",
   "metadata": {},
   "source": [
    "<div style=\"direction:rtl;line-height:300%;\" id=\"ex_mle\">\n",
    "\t<font face=\"XB Zar\" size=5>\n",
    "<font color=#FF7500 size=6>\n",
    "مثال\n",
    "            <br>\n",
    "    <hr>\n",
    "        </font>\n",
    "    یک سکه را ۱۰۰ بار می‌اندازیم و ۷۰ بار رو می‌آید حال می‌خواهیم برآورد درست نمایی بیشینه را برای پارامتر P بدست آوریم.\n",
    "    </font>\n",
    "</div>"
   ]
  },
  {
   "cell_type": "markdown",
   "metadata": {},
   "source": [
    "<p></p>\n",
    "<br />\n",
    "<div id=\"ex1\" style=\"direction:rtl;line-height:300%;\">\n",
    "\t<font face=\"XB Zar\" size=5>\n",
    "        در زیر نمودار likelihood را برای پارامتر‌های مختلف آورده‌ایم.\n",
    "        همان‌طور که از نمودار واضح است، مقدار بیشینه، در 0.7 حاصل می‌شود\n",
    "    </font>\n",
    "</div>"
   ]
  },
  {
   "cell_type": "code",
   "execution_count": 6,
   "metadata": {},
   "outputs": [
    {
     "name": "stdout",
     "output_type": "stream",
     "text": [
      "[1] 0.7\n"
     ]
    },
    {
     "data": {},
     "metadata": {},
     "output_type": "display_data"
    },
    {
     "data": {
      "image/png": "[encoded data removed]",
      "text/plain": [
       "plot without title"
      ]
     },
     "metadata": {},
     "output_type": "display_data"
    }
   ],
   "source": [
    "library(ggplot2)\n",
    "#داده ها\n",
    "outcome <- c(rep(1, 70), rep(0, 30))\n",
    "#مقادیر مختلف پارامتر\n",
    "possible_ps <- seq(0, 1, by = 0.001)\n",
    "#تابع درست نمایی\n",
    "likelihood_function <- function(ps) sapply(ps, function(p) \n",
    "  prod(sapply(outcome, function(x_i) p*x_i + (1 - p) * (1 - x_i))))\n",
    "#پارامتری که بیشترین درست نمایی را دارد\n",
    "p_ML <- possible_ps[which.max(likelihood_function(possible_ps))] \n",
    "print(p_ML)\n",
    "ggplot(data = data.frame(possible_ps), mapping = aes(x = possible_ps)) + ylab(\"likelihood\") +\n",
    "  stat_function(fun = likelihood_function) + geom_vline(xintercept = p_ML, color=\"dark green\")"
   ]
  },
  {
   "cell_type": "markdown",
   "metadata": {},
   "source": [
    "<div style=\"direction:rtl;line-height:300%;\">\n",
    "\t<font face=\"XB Zar\" size=5>\n",
    "        حالا مساله را به روش ریاضی حل می‌کنیم.\n",
    "        <br>\n",
    "مثال بالا از توزیع دو جمله‌ای است$p\\left(k\\right) = \\left(\\begin{array}{c}n\\\\ k\\end{array}\\right) p^k \\left(1 - p \\right)^{n-k}$\n",
    "    حال باید با فرض اینکه P را داریم احتمال اینکه ۷۰ بار رو مشاهده کنیم را بدست‌آوریم. با توجه به این تعرف نیاز است که از احتمال شرطی استفاده کنیم. در اینجا درواقع مشاهدات را ثابت و P را متغییر در نظر می‌گیریم.\n",
    "    $P\\left(70Head\\mid p\\right) = \\left(\\begin{array}{c}100\\\\ 70\\end{array}\\right) p^{70}\\left(1 - p\\right)^{30}$    \n",
    "   حال برای بدست آوردن بیشترین مقدار فرمول بالا می‌توانیم از آن مشتق گرفته و برابر ۰ قرار دهیم و مقدار P را بدست‌آوریم.\n",
    "   <div align=center>\n",
    "$\\frac{\\text{d}P\\left(70Head\\mid p\\right)}{\\text{d}p} = \\left(\\begin{array}{c}100\\\\ 70\\end{array}\\right) \\left(70p^{69}\\left(1-p\\right)^{30}- 30p^{70}\\left(1-p\\right)^{29}\\right) = 0 $ <br>\n",
    "    </div>\n",
    "  حال معادله بالا را حل می‌کنیم \n",
    "   <div align=center>\n",
    "        $ 70p^{69}\\left(1-p\\right)^{30} =  30p^{70}\\left(1-p\\right)^{29} $\n",
    "        <br>    $70\\left(1-p\\right) =  30p$\n",
    "        <br>    $70 =  100p$\n",
    "    </div>\n",
    "   با توجه به معادلات بالا برآورد درست‌نمایی‌بیشینه ۰.۷ است\n",
    "    </font>\n",
    "</div>"
   ]
  },
  {
   "cell_type": "markdown",
   "metadata": {},
   "source": [
    "<div style=\"direction:rtl;line-height:300%;\" id=\"ex_mle\">\n",
    "\t<font face=\"XB Zar\" size=5>\n",
    "<font color=#FF7500 size=6>\n",
    "مثال\n",
    "            <br>\n",
    "    <hr>\n",
    "        </font>\n",
    "        داده‌های $X_1,X_1,...,X_n$ از توزیع یکنواخت با پارامتر $\\alpha$ و $\\beta$ ($X_i \\sim Uni(\\alpha,\\beta)$) مشاهده شده‌اند٬ تخمین‌گر درست‌نمایی بیشینه $\\hat{\\theta}$ را بیابید.\n",
    "        <br>\n",
    "        فرض کنیم داده‌های مشاهده شده٬ $0.15,0.20,0.30,0.40,0.65,0.70,0.75$ باشند اگر نمودار تخمین‌گر بیشینه ‌ان را رسم کنیم:\n",
    "        <center>\n",
    "        <div align=center>\n",
    "            <img src=\"figs/MLE.png\">\n",
    "        </div>\n",
    "            </center>\n",
    "        <br>اگر رابطه‌ی ریاضی آن‌را بنویسیم:\n",
    "        <div align=center style=\"direction:ltr;\">$MLE(\\theta)={(\\dfrac{1}{\\beta-\\alpha})}^n$,  $\\alpha \\leqslant X_1,...,X_n\\leqslant \\beta$\n",
    "    </div>\n",
    "        <br>همانطور که مشاهده ‌می‌شود باید مخرج کسر کمتر شود ولی باید دقت کنیم که شامل همه‌ی داده‌ها نیز باشد٬ پس:\n",
    "        <div align=center style=\"direction:ltr;\">$\\alpha_{MLE}=min(X_1,X_2,...,X_n)$ $\\beta_{MLE}=max(X_1,X_2,...,X_n)$\n",
    "    </div>\n",
    "        <br> از نمودار‌ها هم این نتیجه را می‌گیریم.\n",
    "    </font>\n",
    "</div>"
   ]
  },
  {
   "cell_type": "markdown",
   "metadata": {},
   "source": [
    "<div style=\"direction:rtl;line-height:300%;\" id=\"ex_mle\">\n",
    "\t<font face=\"XB Zar\" size=5>\n",
    "<font color=#FF7500 size=6>\n",
    "مثال\n",
    "            <br>\n",
    "    <hr>\n",
    "        </font>\n",
    "        فرض کنید $X_1, X_2, ..., X_n$ متغیرهای تصادفی از توزیع هندسی با پارامتر $\\theta$ باشد، آنگاه تخمین گر درست نمایی بیشینه $\\theta$ را بیابید \n",
    "        <br>اگر رابطه‌ی ریاضی آن‌را بنویسیم:\n",
    "        <br>\n",
    "        <div align=center>$P_{X_i}(x;\\theta)=(1-\\theta)^{x-1}\\theta$ , $L(x_1, x_2, ..., x_n)=P_{X_1X_2...X_n;\\theta}=P_{X_1}(x_1;\\theta)P_{X_2}(x_2;\\theta)...P_{X_n}(x_n;\\theta)=(1-\\theta)^{[\\sum_{i=1}^n{x_i-n}]}\\theta^n$</div>\n",
    "        <br> از معادله بالا لگاریتم می گیریم:\n",
    "        <br><div align=center>$ln L(x_1, x_2, ..., x_n;\\theta)=(\\sum_{i=1}^n{x_i}-n)ln(1-\\theta)+n ln\\theta$</div>\n",
    "        <br>حال می خواهیم معادله بالا را بیشینه کنیم:\n",
    "        <br><div align=center>$\\frac{dln L(x_1, x_2, ..., x_n;\\theta)}{d\\theta}=(\\sum_{i=1}^n{x_i}-n).\\frac{-1}{1-\\theta}+\\frac{n}{\\theta}$</div>\n",
    "        <br>در نتیجه با صفر قرار دادن معادله بالا به جواب میرسیم که:\n",
    "        <br><div align=center>$\\hat{\\theta_{ML}}=\\frac{n}{\\sum_{i=1}^n{x_i}}$</div>\n",
    " </font>\n",
    "</div>"
   ]
  },
  {
   "cell_type": "markdown",
   "metadata": {},
   "source": [
    "<p></p>\n",
    "<br />\n",
    "<div id=\"sec_lmle\" style=\"direction:rtl;line-height:300%;\">\n",
    "\t<font face=\"XB Zar\" size=5>\n",
    "        \t\t<font color=#FF7500 size=6>\n",
    "لگاریتم درست‌نمایی\n",
    "        </font>\n",
    "\t\t<p></p>\n",
    "\t\t<hr>\n",
    "        بسیاری از مواقع، ما از یک توزیع تعداد زیادی داده مستقل داریم. برای یافتن تخمین‌گر بیشینه باید \n",
    "        عبارت $\\mathcal{L(\\theta | D)} = \\prod P(X_i | \\theta)$\n",
    "        را بیشینه کنیم. اکثر مواقع برای یافتن $\\theta$ ای که عبارت فوق را بیشینه می‌کند، باید از آن مشتق بگیریم که اگر چه با توجه به قواعد مشتق گیری، قابل انجام است، از نظر جبری وقت گیر است. تکنیکی رایج در این مواقع این است که \n",
    "        به جای این که از خود تابع درست‌نمایی مشتق بگیریم، از لگاریتم آن مشتق گرفته و مقدار آن مشتق را برابر صفر قرار دهیم. دقت کنید که از آن جایی که تابع لگاریتم صعودی است، $\\theta$ ای که $\\mathcal{L}(\\theta | D) $\n",
    "        را بیشینه کند همان $\\theta$ ای است که $ln(\\mathcal{L}(\\theta | D))$ را بیشینه می کند.\n",
    "        از طرفی با این کار محاسبات ما راحت‌تر می‌شود زیرا \n",
    "        <div align=center>               $\\frac{d}{d \\theta}ln(\\mathcal{L}(\\theta | D)) = \\frac{d}{d \\theta}ln(\\prod P(X_i | \\theta))\n",
    "             = \\frac{d}{d \\theta} \\sum ln P(X_i | \\theta) = \\sum \\frac{d}{d \\theta} ln P(X_i | \\theta)$\n",
    "        </div>\n",
    "        که محاسبه عبارت آخر معمولا ساده‌تر از محاسبه عبارت $\\frac{d}{d \\theta} \\mathcal{L}(\\theta | D)$ می‌باشد.\n",
    "        <br>\n",
    "        مثال بالا را بار دیگر با استفاده از لگاریتم درست نمایی بدست می‌آوریم.\n",
    "        <br>\n",
    "        همان‌طور که گفتیم، باید مقدار \n",
    "        $\\sum \\frac{d}{d \\theta} ln P(x_i | \\theta)$ را برابر با صفر قرار دهیم.\n",
    "        <div align=center>     $0 = \\sum \\frac{d}{d \\theta} ln P(x_i | \\theta) = \\sum \\frac{d}{d \\theta} ln (\\theta^{x_i}(1 - \\theta)^{1 - x_i})\n",
    "    = \\sum \\frac{d}{d \\theta} (x_i ln(\\theta) + (1 - x_i) ln (1 - \\theta)) = \\sum (\\frac{x_i}{\\theta} - \\frac{1 - x_i}{1 - \\theta})$    <br> $\\rightarrow \\theta_{ML} = \\frac{\\sum x_i}{n} = 0.7$\n",
    "        </div>\n",
    "</font>\n",
    "</div>\n",
    "\n"
   ]
  },
  {
   "cell_type": "markdown",
   "metadata": {},
   "source": [
    "<div style=\"direction:rtl;line-height:300%;\" id=\"ex_mle\">\n",
    "\t<font face=\"XB Zar\" size=5>\n",
    "<font color=#FF7500 size=6>\n",
    "مثال\n",
    "            <br>\n",
    "    <hr>\n",
    "        </font>\n",
    "        فرض کنید که داده‌های $x_1, ... x_n$، \n",
    "        n نمونه مستقل از توزیع نرمال $(\\theta, 1)$ می باشند.\n",
    "        تخمین‌گر درست‌نمایی بیشینه $\\theta$ را بیابید.\n",
    "    </font>\n",
    "</div>"
   ]
  },
  {
   "cell_type": "markdown",
   "metadata": {},
   "source": [
    "<p></p>\n",
    "<br />\n",
    "<div id=\"bayes_mle\" style=\"direction:rtl;line-height:300%;\">\n",
    "\t<font face=\"XB Zar\" size=5>\n",
    "\t\t<font color=#FF7500 size=6>\n",
    "                    <a href = \"#table\" style=\"text-decoration:none;\">\n",
    "        </a>\n",
    "        </font>\n",
    "        همان‌طور که گفته‌شد، مقدار $\\sum \\frac{d}{d \\theta} ln (p(x_i | \\theta))$ را \n",
    "        برابر با صفر قرار می‌دهیم.\n",
    "        <div align=center>            $p(x_i | \\theta) = \\frac{1}{\\sqrt{2\\pi}} e^{-\\frac{(x_i - \\theta)^2}{2}} \\rightarrow\n",
    "            ln(p(x_i | \\theta)) = -ln(\\sqrt{2 \\pi}) - \\frac{(x_i - \\theta)^2}{2}\n",
    "            \\rightarrow \\frac{d}{d \\theta} ln(p(x_i | \\theta)) = x_i - \\theta$\n",
    "            <br>                  $(\\sum x_i) - n\\theta_{ML} = 0 \\rightarrow \\theta_{ML} = \\frac{\\sum_{i = 1}^{n}x_i}{n}$\n",
    "        </div>\n",
    "    </font>\n",
    "</div>\n",
    "\n"
   ]
  },
  {
   "cell_type": "markdown",
   "metadata": {},
   "source": [
    "<p></p>\n",
    "<br/>\n",
    "<div id=\"features\" style=\"direction:rtl;line-height:300%;\" >\n",
    "    <font face=\"XB Zar\" size=5>\n",
    "        <font color=#FF7500 size=6>                 \n",
    "            ویژگی‌های تخمین‌گر بیشینه\n",
    "            <br>\n",
    "        </font>\n",
    "        <p></p>\n",
    "        <hr>\n",
    "        اگر $\\hat{\\theta}$ تخمین‌گر بیشینه باشد:\n",
    "    <br>۱- $\\lim_{n \\rightarrow \\infty}P(\\hat{\\theta})= \\theta$ (unbiased)\n",
    "    <br>۲- $\\lim_{n \\rightarrow \\infty}P(|\\hat{\\theta_n}-\\theta|> \\epsilon)= 0$ (consistent)\n",
    "    <br>۳- با بیشتر شدن مقدار $n$ ٬ $\\hat{\\theta}$ تبدیل به یک متغیر تصادفی نرمال می‌شود.\n",
    "    <div align=center style=\"direction:rtl\">\n",
    "        <br>$\\dfrac{\\hat{\\theta}-\\theta}{\\sqrt{Var(\\hat{\\theta})}}\\sim N(0,1)$\n",
    "            </div>\n",
    "    </font>\n",
    "</div>"
   ]
  },
  {
   "cell_type": "markdown",
   "metadata": {},
   "source": [
    "<p></p>\n",
    "<br/>\n",
    "<div id=\"sec_refs\" style=\"direction:rtl;line-height:300%;\">\n",
    "\t<font face=\"XB Zar\" size=5>\n",
    "\t\t<font color=#FF7500 size=6>\n",
    "منابع\n",
    "        </font>\n",
    "\t\t<hr>       \n",
    "        <ul>\n",
    "            <li>\n",
    "            Athanasios Paoulis, Probability, Random Variables, and Stochastic Processes.\n",
    "            </li>\n",
    "            <li>\n",
    "            Introduction To probability,Statistics and Random Process,https://www.probabilitycourse.com/chapter8/\n",
    "            </li>\n",
    "            <li>\n",
    "                stanford course(CS109),Chris Piech ,\n",
    "  https://web.stanford.edu/class/archive/cs/cs109/cs109.1192/schedule.html\n",
    "            </li>\n",
    "        </ul>\n",
    "\t</font>\n",
    "</div>"
   ]
  }
 ],
 "metadata": {
  "kernelspec": {
   "display_name": "Python 3 (ipykernel)",
   "language": "python",
   "name": "python3"
  },
  "language_info": {
   "codemirror_mode": {
    "name": "ipython",
    "version": 3
   },
   "file_extension": ".py",
   "mimetype": "text/x-python",
   "name": "python",
   "nbconvert_exporter": "python",
   "pygments_lexer": "ipython3",
   "version": "3.10.6"
  },
  "latex_envs": {
   "LaTeX_envs_menu_present": true,
   "autoclose": false,
   "autocomplete": true,
   "bibliofile": "biblio.bib",
   "cite_by": "apalike",
   "current_citInitial": 1,
   "eqLabelWithNumbers": true,
   "eqNumInitial": 1,
   "hotkeys": {
    "equation": "Ctrl-E",
    "itemize": "Ctrl-I"
   },
   "labels_anchors": false,
   "latex_user_defs": false,
   "report_style_numbering": false,
   "user_envs_cfg": false
  },
  "toc": {
   "base_numbering": 1,
   "nav_menu": {},
   "number_sections": true,
   "sideBar": true,
   "skip_h1_title": false,
   "title_cell": "Table of Contents",
   "title_sidebar": "Contents",
   "toc_cell": false,
   "toc_position": {},
   "toc_section_display": true,
   "toc_window_display": false
  },
  "varInspector": {
   "cols": {
    "lenName": 16,
    "lenType": 16,
    "lenVar": 40
   },
   "kernels_config": {
    "python": {
     "delete_cmd_postfix": "",
     "delete_cmd_prefix": "del ",
     "library": "var_list.py",
     "varRefreshCmd": "print(var_dic_list())"
    },
    "r": {
     "delete_cmd_postfix": ") ",
     "delete_cmd_prefix": "rm(",
     "library": "var_list.r",
     "varRefreshCmd": "cat(var_dic_list()) "
    }
   },
   "types_to_exclude": [
    "module",
    "function",
    "builtin_function_or_method",
    "instance",
    "_Feature"
   ],
   "window_display": false
  }
 },
 "nbformat": 4,
 "nbformat_minor": 4
}
