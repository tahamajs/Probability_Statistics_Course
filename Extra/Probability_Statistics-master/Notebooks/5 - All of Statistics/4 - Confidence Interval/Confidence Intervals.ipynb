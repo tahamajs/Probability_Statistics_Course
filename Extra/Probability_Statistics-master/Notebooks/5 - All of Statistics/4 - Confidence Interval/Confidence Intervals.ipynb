{
 "cells": [
  {
   "cell_type": "markdown",
   "metadata": {},
   "source": [
    "<div style=\"direction:rtl;line-height:300%;\">\n",
    "   <font face=\"XB Zar\" size=5>\n",
    "      <div align=center>\n",
    "         <font face=\"IranNastaliq\" size=30>\n",
    "            <p></p>\n",
    "            <p></p>\n",
    "            به نام خدا\n",
    "            <p></p>\n",
    "         </font>\n",
    "         <font color=#FF7500>\n",
    "         دانشگاه صنعتی شریف - دانشکده مهندسی کامپیوتر\n",
    "         </font>\n",
    "         <p></p>\n",
    "         <font color=blue>\n",
    "         آمار و احتمال مهندسی\n",
    "         </font>\n",
    "         <br />\n",
    "         <br />\n",
    "         پاییز ۱۳۹۸\n",
    "      </div>\n",
    "      <hr/>\n",
    "      <font color=red size=6>\n",
    "         <br />\n",
    "         <div align=center>\n",
    "            بازه‌های اطمینان \n",
    "         </div>\n",
    "      </font>\n",
    "      <br />\n",
    "      <div align=center>\n",
    "         امینه احمدی‌نژاد، محمدامین ناظرزاده، ارشیا مقیمی\n",
    "      </div>\n",
    "      <hr />\n",
    "      <style type=\"text/css\" scoped>\n",
    "         p{\n",
    "         border: 1px solid #a2a9b1;background-color: #f8f9fa;display: inline-block;\n",
    "         };\n",
    "      </style>\n",
    "      <div>\n",
    "         <h3>فهرست مطالب</h3>\n",
    "         <ul style=\"margin-right: 0;\">\n",
    "            <li>\n",
    "               <a href=\"#sec_0\">\n",
    "               مقدمه\n",
    "               </a>\n",
    "            </li>\n",
    "            <li>\n",
    "               <a href=\"#sec_1\">\n",
    "               چارک‌های نرمال استاندارد\n",
    "               </a>\n",
    "            </li>\n",
    "            <li>\n",
    "               <a href=\"#sec_2\">\n",
    "               بازه‌های اطمینان\n",
    "               </a>\n",
    "            </li>\n",
    "            <li>\n",
    "               <a href=\"#sec_3\">\n",
    "               معرفی ابزار\n",
    "               </a>    \n",
    "            </li>\n",
    "            <li>\n",
    "               <a href=\"#sec_4\">\n",
    "               چند مثال\n",
    "               </a>\n",
    "            </li>\n",
    "            <li>\n",
    "               <a href=\"#sec_5\">\n",
    "               بدفهمی‌ها!\n",
    "         </ul>\n",
    "      </div>\n",
    "   </font>\n",
    "</div>"
   ]
  },
  {
   "cell_type": "markdown",
   "metadata": {},
   "source": [
    "<p></p>\n",
    "<br />\n",
    "<div id=\"sec_0\" style=\"direction:rtl;line-height:300%;text-align:justify\">\n",
    "   <font face=\"XB Zar\" size=5>\n",
    "      <font color=#FF7500 size=6>\n",
    "      مقدمه\n",
    "      </font>\n",
    "      <p></p>\n",
    "      <hr>\n",
    "      جرزی نیمن (Jerzy Neyman) \n",
    "      که به تازگی در کلاس آمار تخمین نقطه‌ای را یادگرفته بود، در لابی دانشکده نشسته بود!\n",
    "       او یاد گرفته بود که چطور با استفاده از داده‌هایی که داریم می‌توانیم صحت فرضیه‌ی خود را امتحان  کنیم. همچنین در تخمین‌های نقطه‌ای (مثل تخمین بیشینه‌ی درست‌نمایی) دیده بود که چگونه می‌توانیم یک پارامتر را تخمین بزنیم. برای مثال می‌توانیم مقدار $\\overline x = 1.5$ را تخمین بزنیم. \n",
    "      ولی درباره‌ی اینکه چقدر به این تخمین اعتماد داریم هیچ حرفی نمی‌توانست بزند. چون این تخمین تنها یک عدد به ما داده‌است و هیچ اطلاعات اضافه‌ای ندارد. نکته‌ی جالب اینجاست که فرقی ندارد ما از پنج داده استفاده کرده باشیم یا یک میلیون! به هرحال جواب ما فقط یک عدد است و هیچ قطعیتی را نشان نمی‌دهد.\n",
    "      <br/> \n",
    "      او\n",
    "      برای دقیق‌تر کردن جواب تخمین، مفهومی به نام بازه اطمینان را ارائه کرد. \n",
    "      (<a href=\"#paper\">\n",
    "      مقاله او\n",
    "      </a>)\n",
    "      <br>\n",
    "      در این مفهوم به جای اینکه برای پارامتر $\\mu$ یک مقدار $\\hat{\\mu}$ پیدا کنیم، یک بازه به دست می‌آوریم که  یافتن مقدار واقعی $\\mu$ در آن محتمل باشد.  \n",
    "      برای مثال می‌گوییم برای تخمین پارامتر $\\mu$  با  اطمینان ۹۵٪ بازه‌ی [۲.۵، ۰.۵] را به دست آورده‌ایم.\n",
    "   </font>\n",
    "</div>"
   ]
  },
  {
   "cell_type": "markdown",
   "metadata": {},
   "source": [
    "<p></p>\n",
    "<br />\n",
    "<div id=\"sec_1\" style=\"direction:rtl;line-height:300%;text-align:justify\">\n",
    "   <font face=\"XB Zar\" size=5>\n",
    "      <font color=#FF7500 size=6>\n",
    "      چارک‌های نرمال استاندارد\n",
    "      </font>\n",
    "      <p></p>\n",
    "      <hr>\n",
    "      برای درک بهتر بازه‌های اطمینان از چند تعریف شروع می‌کنیم. متغیر تصادفی نرمال استاندارد را $Z$، و تابع توزیع تجمعی آن را $\\Phi$ بنامید. $z_\\alpha$ را به ازای $0<\\alpha<1$ تعریف می‌کنیم\n",
    "      $$P(Z>z_\\alpha)=\\alpha$$ که معادل است با $$P(Z\\le z_\\alpha)=1-\\alpha$$\n",
    "      بنابراین داریم\n",
    "      $$z_\\alpha=\\Phi^{-1}(1-\\alpha).$$\n",
    "      این مقدار که چارک نرمال استاندارد نام دارد در توابع R نیز موجود است. به دلیل قرینه بودن نرمال استاندارد نسبت به محور $y$ می‌توانیم از خواص زیر استفاده کنیم\n",
    "      $$P(Z<-z_\\alpha)=P(Z>z_\\alpha)=\\alpha, \\qquad P(|Z|>z_\\alpha)=2\\alpha$$\n",
    "      بنابراین خواهیم داشت\n",
    "      $$P(-z_\\alpha \\le Z \\le z_\\alpha)= 1-2\\alpha$$\n",
    "      که معمولا رابطه‌ی بالا را به صورت زیر می‌نویسند\n",
    "      $$P(-z_{\\alpha/2} \\le Z \\le z_{\\alpha/2})= 1-\\alpha.$$\n",
    "      در زیر می‌توانید چند مقدار رایج از آلفا و بازه‌های اطمینان آن را مشاهده کنید.\n",
    "      </pre>\n",
    "   </font>\n",
    "</div>"
   ]
  },
  {
   "cell_type": "code",
   "execution_count": 10,
   "metadata": {},
   "outputs": [
    {
     "data": {
      "text/html": [
       "<ol class=list-inline>\n",
       "\t<li>1.28</li>\n",
       "\t<li>1.64</li>\n",
       "\t<li>1.96</li>\n",
       "\t<li>2.33</li>\n",
       "\t<li>2.58</li>\n",
       "</ol>\n"
      ],
      "text/latex": [
       "\\begin{enumerate*}\n",
       "\\item 1.28\n",
       "\\item 1.64\n",
       "\\item 1.96\n",
       "\\item 2.33\n",
       "\\item 2.58\n",
       "\\end{enumerate*}\n"
      ],
      "text/markdown": [
       "1. 1.28\n",
       "2. 1.64\n",
       "3. 1.96\n",
       "4. 2.33\n",
       "5. 2.58\n",
       "\n",
       "\n"
      ],
      "text/plain": [
       "[1] 1.28 1.64 1.96 2.33 2.58"
      ]
     },
     "metadata": {},
     "output_type": "display_data"
    },
    {
     "data": {
      "text/html": [
       "<ol class=list-inline>\n",
       "\t<li>0.8</li>\n",
       "\t<li>0.9</li>\n",
       "\t<li>0.95</li>\n",
       "\t<li>0.98</li>\n",
       "\t<li>0.99</li>\n",
       "</ol>\n"
      ],
      "text/latex": [
       "\\begin{enumerate*}\n",
       "\\item 0.8\n",
       "\\item 0.9\n",
       "\\item 0.95\n",
       "\\item 0.98\n",
       "\\item 0.99\n",
       "\\end{enumerate*}\n"
      ],
      "text/markdown": [
       "1. 0.8\n",
       "2. 0.9\n",
       "3. 0.95\n",
       "4. 0.98\n",
       "5. 0.99\n",
       "\n",
       "\n"
      ],
      "text/plain": [
       "[1] 0.80 0.90 0.95 0.98 0.99"
      ]
     },
     "metadata": {},
     "output_type": "display_data"
    }
   ],
   "source": [
    "alpha = c(0.1 , 0.05 , 0.025, 0.01, 0.005)\n",
    "z_alpha = round(qnorm(1-alpha) , 2)\n",
    "z_alpha\n",
    "1 - 2*alpha"
   ]
  },
  {
   "cell_type": "code",
   "execution_count": 11,
   "metadata": {},
   "outputs": [
    {
     "data": {
      "image/png": "[encoded data removed]",
      "text/plain": [
       "plot without title"
      ]
     },
     "metadata": {},
     "output_type": "display_data"
    }
   ],
   "source": [
    "library(ggplot2)\n",
    "mean = 0\n",
    "sd = 1\n",
    "x = seq(-3.5 , 3.5 ,length =  1000) * sd + mean\n",
    "y = dnorm(x , mean,sd)\n",
    "g1 = ggplot( ,  aes(x = x , y = y)) + geom_line(color = \"cyan3\") + \n",
    "  geom_polygon(mapping = aes(x = c(x[x>=1.96], 1.96),y = c(y[x>=1.96],0), fill = \"X>1.96\") , alpha = 1)\n",
    "g2 = g1 + layer(geom = \"polygon\" , mapping = aes(x = c(1.64 , x[x>=1.64 & x<= 1.96] , 1.96),y = c(0 , y[x>=1.64 & x<= 1.96] , 0) , fill = \"X>1.64\"),\n",
    "                params = list( alpha = 0.3 ) ,\n",
    "                stat = \"identity\" , position = \"identity\" )\n",
    "g3 = g2 +  layer(geom = \"polygon\" , mapping = aes(x = c(1.28,x[x>=1.28 & x<= 1.64], 1.64),y = c(0,y[x>=1.28 & x<=1.64],0) , fill = \"X>1.28\"),\n",
    "                 params = list( alpha = 0.3) ,\n",
    "                 stat = \"identity\" , position = \"identity\" )\n",
    "\n",
    "g3"
   ]
  },
  {
   "cell_type": "markdown",
   "metadata": {},
   "source": [
    "<p></p>\n",
    "<br />\n",
    "<div id=\"sec_1\" style=\"direction:rtl;line-height:300%;\">\n",
    "   <font face=\"XB Zar\" size=5>\n",
    "      <font color=#FF7500 size=6>\n",
    "      </font>\n",
    "      <p></p>\n",
    "      <hr>\n",
    "      مساحت\n",
    "      ناحیه‌های هاشور خورده در شکل بالا احتمال رخدادهای نوشته شده کنار شکل را نشان می‌دهند. \n",
    "   </font>\n",
    "</div>"
   ]
  },
  {
   "cell_type": "markdown",
   "metadata": {},
   "source": [
    "<p></p>\n",
    "<br />\n",
    "<div id=\"sec_2\" style=\"direction:rtl;line-height:300%;text-align:justify\">\n",
    "   <font face=\"XB Zar\" size=5>\n",
    "      <font color=#FF7500 size=6>\n",
    "      بازه‌های اطمینان\n",
    "      </font>\n",
    "      <p></p>\n",
    "      <hr>\n",
    "      حال به مبحث تخمین بازه‌ای برمی‌گردیم. می‌دانیم که تخمین بیشینه درستنمایی\n",
    "      برای پارامتر میانگین $\\mu$ برابر است با میانگین نمونه‌ای $\\overline x=\\sum _i x_i /n$، اما این تخمین چقدر دقیق است؟\n",
    "      <br/>\n",
    "      اگر داده‌های ما به صورت مستقل و یکسان توزیع‌شده (iid) از توزیع  نرمال به دست آمده باشند داریم\n",
    "      $$\\hat{\\mu}_{MLE}=\\frac{X_1+...+X_n}{n}\\sim N(\\mu, \\sigma^2/n)$$\n",
    "      با استاندارد کردن $\\hat{\\mu}$ داریم\n",
    "      $$\\frac{\\hat{\\mu}-\\mu}{\\sigma/\\sqrt{n}} \\sim N(0,1).$$\n",
    "      طبق تعریفی که از چارک‌های نرمال استاندارد داشتیم می‌توانیم توزیع بالا را در این رابطه قرار دهیم و داشته باشیم\n",
    "      $$ P(-z_{\\alpha/2} \\le \\frac{\\hat{\\mu}-\\mu}{\\sigma/\\sqrt{n}} \\le z_{\\alpha/2})= 1-\\alpha.$$\n",
    "      که معادل است با\n",
    "      $$ P(\\hat{\\mu}-(z_{\\alpha/2}\\times \\frac{\\sigma}{\\sqrt{n}}) \\le \\mu \\le \\hat{\\mu}+(z_{\\alpha/2}\\times \\frac{\\sigma}{\\sqrt{n}}))= 1-\\alpha.$$\n",
    "      یعنی احتمال اینکه پارامتر $\\mu$ در بازه‌ی بالا باشد $1-\\alpha$ است که به زبان ریاضی معادل است با\n",
    "      $$P(\\mu \\in [\\hat{\\mu}-(z_{\\alpha/2} \\times \\frac{\\sigma}{\\sqrt{n}}), \\hat{\\mu}+ (z_{\\alpha/2}\\times \\frac{\\sigma}{\\sqrt{n}})])= 1-\\alpha.$$\n",
    "      به بازه‌ی $[\\hat{\\mu}-z_{\\alpha/2}\\times \\frac{\\sigma}{\\sqrt{n}}, \\hat{\\mu}+ z_{\\alpha/2}\\times \\frac{\\sigma}{\\sqrt{n}}]$ یک بازه‌ی اطمینان برای پارامتر $\\mu$ می‌گویند. \n",
    "   </font>\n",
    "</div>"
   ]
  },
  {
   "cell_type": "markdown",
   "metadata": {},
   "source": [
    "<p></p>\n",
    "<br />\n",
    "<div id=\"sec_3\" style=\"direction:rtl;line-height:300%;\">\n",
    "   <font face=\"XB Zar\" size=5>\n",
    "      <font color=#FF7500 size=6>\n",
    "      معرفی ابزار        </font>\n",
    "      <p></p>\n",
    "      <hr>\n",
    "      برای درک بهتر مفهوم بازه‌ی اطمینان و کار با آن می‌توانید از ابزارهای تعاملی زیر استفاده کنید:\n",
    "    \n",
    "   </font>\n",
    "</div>"
   ]
  },
  {
   "cell_type": "code",
   "execution_count": 24,
   "metadata": {
    "scrolled": false
   },
   "outputs": [
    {
     "data": {
      "text/html": [
       "<iframe src=https://seeing-theory.brown.edu/frequentist-inference/index.html#section2 width=\"100%\" \n",
       "                height=900px scrolling=\"no\" style=\"margin-top:-100px;\" frameborder=\"0\"></iframe>"
      ]
     },
     "metadata": {},
     "output_type": "display_data"
    }
   ],
   "source": [
    "library(IRdisplay)\n",
    "iframe = '<iframe src=https://seeing-theory.brown.edu/frequentist-inference/index.html#section2 width=\"100%\" \n",
    "                height=900px scrolling=\"no\" style=\"margin-top:-100px;\" frameborder=\"0\"></iframe>'\n",
    "display_html(iframe)"
   ]
  },
  {
   "cell_type": "markdown",
   "metadata": {},
   "source": [
    "<div id=\"sec_3\" style=\"direction:rtl;line-height:300%;\">\n",
    "   <font face=\"XB Zar\" size=5>\n",
    "منبع:\n",
    "       <br>\n",
    "  <a href=https://seeing-theory.brown.edu/frequentist-inference/index.html#section2> https://seeing-theory.brown.edu/frequentist-inference/index.html#section2 </a>\n",
    "   </font>\n",
    "   </div>\n",
    "   \n",
    "---"
   ]
  },
  {
   "cell_type": "code",
   "execution_count": 25,
   "metadata": {
    "scrolled": false
   },
   "outputs": [
    {
     "data": {
      "text/html": [
       "<iframe src=http://mathlets.org/mathlets/confidence-intervals/ width=\"100%\" \n",
       "                height=910px scrolling=\"no\" style=\"margin-top:-250px;margin-bottom:000px\" frameborder=\"0\"></iframe>"
      ]
     },
     "metadata": {},
     "output_type": "display_data"
    }
   ],
   "source": [
    "library(IRdisplay)\n",
    "iframe = '<iframe src=http://mathlets.org/mathlets/confidence-intervals/ width=\"100%\" \n",
    "                height=910px scrolling=\"no\" style=\"margin-top:-250px;margin-bottom:000px\" frameborder=\"0\"></iframe>'\n",
    "display_html(iframe)"
   ]
  },
  {
   "cell_type": "markdown",
   "metadata": {},
   "source": [
    "   <div id=\"sec_3\" style=\"direction:rtl;line-height:300%;\">\n",
    "   <font face=\"XB Zar\" size=5>\n",
    "منبع:\n",
    "       <br>\n",
    "  <a href=http://mathlets.org/mathlets/confidence-intervals/> http://mathlets.org/mathlets/confidence-intervals </a> \n",
    "   </font>\n",
    "   </div>\n",
    "\n",
    "---"
   ]
  },
  {
   "cell_type": "markdown",
   "metadata": {},
   "source": [
    "<p></p>\n",
    "<br />\n",
    "<div id=\"sec_4\" style=\"direction:rtl;line-height:300%;text-align:justify\">\n",
    "   <font face=\"XB Zar\" size=5>\n",
    "      <font color=#FF7500 size=6>\n",
    "      چند مثال\n",
    "      </font>\n",
    "      <p></p>\n",
    "      <hr>\n",
    "      <ol>\n",
    "         <li>\n",
    "            فرض کنید می‌خواهیم بازه‌ی اطمینان ۹۵٪ی را برای تخمین از پارامتر $\\mu$  در مثال بالا را به دست آوریم.با توجه به چارک‌های تابع نرمال می‌دانیم\n",
    "            $$z_{0.025}=1.96$$\n",
    "            بنابراین می‌توانیم احتمال زیر را بنویسیم\n",
    "            $$P(-1.96\\le\\frac{\\hat{\\mu}-\\mu}{\\frac{\\sigma}{\\sqrt{n}}}\\le1.96) = 0.95$$\n",
    "            که این رخداد معادل عبارت زیر است\n",
    "            $$(\\hat{\\mu}-1.96\\frac{\\sigma}{\\sqrt{n}} \\le \\mu \\le \\hat{\\mu}+1.96\\frac{\\sigma}{\\sqrt{n}}).$$\n",
    "            بنابراین بازه‌ی اطمینان ۹۵٪ای برای پارامتر $\\mu$ برابر می‌شود با\n",
    "            $$[\\hat{\\mu}-1.96\\frac{\\sigma}{\\sqrt{n}}, \\hat{\\mu}+1.96\\frac{\\sigma}{\\sqrt{n}}]$$\n",
    "         </li>\n",
    "         <br>\n",
    "         <li>\n",
    "            نمونه‌های تصادفی $X_1, X_2, X_3, ..., X_{144}$ از یک توزیع با مقدار واریانس نامشخص $Var(X_i)=\\sigma^2$ داریم. مقدار میانگین و واریانس این نمونه‌ها برابر $\\overline{X} = 55.2$ و $S^2 = 34.5$\n",
    "            است. یک بازه اطمینان ۹۹٪ی برای $\\theta = EX_i$ بیابید.\n",
    "         </li>\n",
    "         <ul>\n",
    "            <li>\n",
    "               پاسخ: با توجه به مطالب گفته شده تا اینجا میدانیم که بازه\n",
    "               $$[\\overline{X} - z_\\frac{\\alpha}{2} \\frac{S}{\\sqrt{n}}, \\overline{X} + z_\\frac{\\alpha}{2} \\frac{S}{\\sqrt{n}}]$$\n",
    "               یک بازه‌ی اطمینان $(1-\\alpha)100\\%$ برای $\\theta$ است.\n",
    "               در این مثال $n=144$ و $\\alpha=0.01$. هم‌چنین داریم:\n",
    "               $$z_\\frac{\\alpha}{2} = z_{0.005}=\\Phi^{-1}(1-0.005)\\approx 2.58$$\n",
    "               در نتیجه بازه‌ی مورد نظر به صورت زیر به دست می‌آید:\n",
    "               $$[\\overline{X} - z_\\frac{\\alpha}{2} \\frac{S}{\\sqrt{n}}, \\overline{X} + z_\\frac{\\alpha}{2} \\frac{S}{\\sqrt{n}}] \n",
    "               = [55.2 - 2.58 \\cdot \\frac{\\sqrt{34.5}}{12}, 55.2+2.58\\cdot \\frac{\\sqrt{34.5}}{12}] \\approx [53.94,56.46]$$\n",
    "            </li>\n",
    "         </ul>\n",
    "         <br>\n",
    "         <li>\n",
    "            پیش‌بینی انتخابات: فرض کنید برای انتخاباتی دو نامزد $A$ و $B$ کاندید هستند. $\\theta$، نسبت جمعیتی است که به کاندید $A$ رأی می‌دهند. هدف ما یافتن یک بازه‌ی اطمینان برای $\\theta$ است. برای این کار یک نمونه تصادفی شامل $n$ رأی‌دهنده (با جاگذاری) انتخاب می‌کنیم و از آن‌ها سؤال می‌کنیم آیا به نامزد $A$ رأی می‌دهند یا خیر. ما می‌خواهیم $\\theta$ را به گونه‌ای تخمین بزنیم که مقدار خطایمان ۳ درصد باشد. هم‌چنین بازه‌ی اطمینان مورد نظر ما بازه‌ی اطمینان ۹۵٪ی است. مقدار $n$ را به گونه‌ای تعیین کنید که شرایط مورد نظر ما را تامین کند. به بیان ریاضی $n$ را به گونه‌ای بیابید که:\n",
    "            $$P(\\overline{X} - 0.03 \\le \\theta \\le \\overline{X} + 0.03) \\ge 0.95 $$ که $\\overline{X}$ نسبت جمعیتی در نمونه تصادفی ماست که اعلام می‌کنند به کاندید $A$ رأی می‌دهند.\n",
    "            <br>\n",
    "            <ul>\n",
    "               <li>\n",
    "                  پاسخ: $n \\ge 1068$\n",
    "               </li>\n",
    "            </ul>\n",
    "         </li>\n",
    "      </ol>\n",
    "   </font>\n",
    "</div>"
   ]
  },
  {
   "cell_type": "markdown",
   "metadata": {},
   "source": [
    "<p></p>\n",
    "<br />\n",
    "<div id=\"sec_5\" style=\"direction:rtl;line-height:300%; text-align:justify\">\n",
    "   <font face=\"XB Zar\" size=5>\n",
    "      <font color=#FF7500 size=6>\n",
    "      بدفهمی‌ها!\n",
    "      </font>\n",
    "      <p></p>\n",
    "      <hr>\n",
    "      فرض کنید پروفسوری طبق سناریویی فرضی آزمایشی طراحی کرده و نتیجه آزمایش را این‌گونه اعلام می‌کند: «بازه 0.1 تا 0.4، یک بازه اطمینان ۹۵ درصدی برای مقدار میانگین است».\n",
    "      <br>\n",
    "      این پروفسور به عنوان ضمیمه مقاله، یک پرسش‌نامه شش سوالی را برای آزمودن بقیه دانشمندان(!) گذاشته تا بفهمد چند درصد از آن‌ها معنی بازه اطمینان را درست فهمیده‌اند.\n",
    "      سوالات بدین شکل می‌باشند:\n",
    "      <br>\n",
    "      <ol>\n",
    "         <li>\n",
    "            احتمال این‌که میانگین واقعی بزرگ‌تر از صفر باشد حداقل ۹۵ درصد است.\n",
    "         </li>\n",
    "         <li>\n",
    "            احتمال این‌که میانگین واقعی مساوی صفر باشد کمتر از ۵ درصد است.\n",
    "         </li>\n",
    "         <li>\n",
    "            «فرض صفر» که می‌گوید میانگین واقعی مساوی صفر است به احتمال زیاد اشتباه است.\n",
    "         </li>\n",
    "         <li>\n",
    "            ۹۵ درصد اطمینان وجود دارد که میانگین واقعی در بازه 0.1 تا 0.4 باشد.\n",
    "         </li>\n",
    "         <li>\n",
    "            با اطمینان ۹۵ درصد میانگین واقعی بین 0.1 تا 0.4 وجود دارد.\n",
    "         </li>\n",
    "         <li>\n",
    "            اگر آزمایش را بار‌ها و بار‌ها تکرار می‌کردیم آن‌گاه ۹۵ درصد اوقات میانگین بین 0.1 و 0.4 می‌افتاد.\n",
    "         </li>\n",
    "      </ol>\n",
    "      این پرسش‌نامه به طور واقعی در \n",
    "      <a href=http://www.ejwagenmakers.com/inpress/HoekstraEtAlPBR.pdf> این مقاله </a>\n",
    "      به ۱۱۸ محقق و ۴۴۲ دانشجوی سال اولی و ۳۴ دانشجوی ارشد در زمینه روان‌شناسی داده شد و نتایج جواب آن‌ها به این سوالات بدین شکل بود:\n",
    "      ( در هر ستون درصدی از افراد که آن جمله را درست می‌پنداشتند نمایش داده شده)\n",
    "      <br>\n",
    "       <br>\n",
    "      <center>\n",
    "         <img src= \"figs/result.PNG\">\n",
    "      </center>\n",
    "       <br>\n",
    "      در حقیقت هیچ‌کدام از جمله‌های پرسش‌نامه صحیح نبود! معنای درست بازه اطمینان این است که اگر ما به تعداد زیاد آزمایش را تکرار کرده و هر بار برای میانگین بازه‌ای به دست‌آوریم آنگاه با احتمال ۹۵ درصد مقدار میانگین واقعی، در بازه به دست‌آمده توسط ما خواهد بود.\n",
    "      دقت کنید که در عبارت \n",
    "      $[\\hat{\\mu}-1.96\\sigma/\\sqrt{n}, \\hat{\\mu}+1.96\\sigma/\\sqrt{n}]$\n",
    "      ، $\\hat{\\mu}$ متغیری تصادفی است و در آزمایش‌های مختلف مقادیر متفاوتی خواهد گرفت. لذا ممکن است در آزمایش مطرح شده در صورت سوال مقدار $\\hat{\\mu}$ به دست‌آمده از $\\mu$ دور باشد (هرچند با احتمال کم) و مقدار میانگین واقعی در این بازه به دست‌آمده نباشد.\n",
    "   </font>\n",
    "</div>"
   ]
  },
  {
   "cell_type": "markdown",
   "metadata": {},
   "source": [
    "<p></p>\n",
    "<br/>\n",
    "<div id=\"sec_refs\" style=\"direction:rtl;line-height:300%;text-align:justify\">\n",
    "\t<font face=\"XB Zar\" size=5>\n",
    "\t\t<font color=#FF7500 size=6>\n",
    "منابع\n",
    "        </font>\n",
    "\t\t<hr> \n",
    "        <div style=\"direction:ltr;\">\n",
    "        <ul>\n",
    "            <li>\n",
    "            http://www.math.caltech.edu/~2015-16/2term/ma003/Notes/Lecture18.pdf\n",
    "            </li>\n",
    "            <li>\n",
    "            https://ocw.mit.edu/courses/mathematics/18-05-introduction-to-probability-and-statistics-spring-2014/readings/MIT18_05S14_Reading22.pdf\n",
    "            </li>\n",
    "            <li>\n",
    "            http://www.ejwagenmakers.com/inpress/HoekstraEtAlPBR.pdf\n",
    "            </li>\n",
    "            <li id=\"paper\">\n",
    "            https://wwwusers.ts.infn.it/~milotti/Didattica/StatisticaAvanzata/Neyman_1937.pdf\n",
    "            </li>\n",
    "            <li>\n",
    "https://www.probabilitycourse.com/chapter8\n",
    "           </li>\n",
    "        </ul>\n",
    "\t</font>\n",
    "   </div>\n",
    "</div>"
   ]
  },
  {
   "cell_type": "code",
   "execution_count": null,
   "metadata": {
    "collapsed": true
   },
   "outputs": [],
   "source": []
  }
 ],
 "metadata": {
  "kernelspec": {
   "display_name": "R",
   "language": "R",
   "name": "ir"
  },
  "language_info": {
   "codemirror_mode": "r",
   "file_extension": ".r",
   "mimetype": "text/x-r-source",
   "name": "R",
   "pygments_lexer": "r",
   "version": "3.6.1"
  },
  "latex_envs": {
   "LaTeX_envs_menu_present": true,
   "autoclose": false,
   "autocomplete": true,
   "bibliofile": "biblio.bib",
   "cite_by": "apalike",
   "current_citInitial": 1,
   "eqLabelWithNumbers": true,
   "eqNumInitial": 1,
   "hotkeys": {
    "equation": "Ctrl-E",
    "itemize": "Ctrl-I"
   },
   "labels_anchors": false,
   "latex_user_defs": false,
   "report_style_numbering": false,
   "user_envs_cfg": false
  },
  "toc": {
   "base_numbering": 1,
   "nav_menu": {},
   "number_sections": true,
   "sideBar": true,
   "skip_h1_title": false,
   "title_cell": "Table of Contents",
   "title_sidebar": "Contents",
   "toc_cell": false,
   "toc_position": {},
   "toc_section_display": true,
   "toc_window_display": false
  },
  "varInspector": {
   "cols": {
    "lenName": 16,
    "lenType": 16,
    "lenVar": 40
   },
   "kernels_config": {
    "python": {
     "delete_cmd_postfix": "",
     "delete_cmd_prefix": "del ",
     "library": "var_list.py",
     "varRefreshCmd": "print(var_dic_list())"
    },
    "r": {
     "delete_cmd_postfix": ") ",
     "delete_cmd_prefix": "rm(",
     "library": "var_list.r",
     "varRefreshCmd": "cat(var_dic_list()) "
    }
   },
   "types_to_exclude": [
    "module",
    "function",
    "builtin_function_or_method",
    "instance",
    "_Feature"
   ],
   "window_display": false
  }
 },
 "nbformat": 4,
 "nbformat_minor": 1
}
